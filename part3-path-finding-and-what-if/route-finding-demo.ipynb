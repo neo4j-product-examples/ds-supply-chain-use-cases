{
 "cells": [
  {
   "cell_type": "markdown",
   "source": [
    "## Path Finding and Freight Forwarding Recommendations"
   ],
   "metadata": {
    "collapsed": false,
    "pycharm": {
     "name": "#%% md\n"
    }
   }
  },
  {
   "cell_type": "code",
   "execution_count": 195,
   "outputs": [],
   "source": [
    "import pandas as pd\n",
    "import numpy as np\n",
    "import matplotlib.pyplot as plt\n",
    "import itertools"
   ],
   "metadata": {
    "collapsed": false,
    "pycharm": {
     "name": "#%%\n"
    }
   }
  },
  {
   "cell_type": "code",
   "execution_count": 196,
   "metadata": {
    "pycharm": {
     "name": "#%%\n"
    }
   },
   "outputs": [],
   "source": [
    "from graphdatascience import GraphDataScience\n",
    "\n",
    "# Use Neo4j URI and credentials according to your setup\n",
    "gds = GraphDataScience('neo4j://localhost', auth=('neo4j', 'neo'))"
   ]
  },
  {
   "cell_type": "code",
   "execution_count": 197,
   "outputs": [],
   "source": [
    "def clear_all_graphs():\n",
    "    g_names = gds.graph.list().graphName.tolist()\n",
    "    for g_name in g_names:\n",
    "        g = gds.graph.get(g_name)\n",
    "        gds.graph.drop(g)"
   ],
   "metadata": {
    "collapsed": false,
    "pycharm": {
     "name": "#%%\n"
    }
   }
  },
  {
   "cell_type": "markdown",
   "metadata": {
    "pycharm": {
     "name": "#%% md\n"
    }
   },
   "source": [
    "## Route Statistics from Historic Shipments"
   ]
  },
  {
   "cell_type": "code",
   "execution_count": 198,
   "metadata": {
    "pycharm": {
     "name": "#%%\n"
    }
   },
   "outputs": [
    {
     "data": {
      "text/plain": "      sourceId     sourceName  targetId     targetName  \\\n0     815       Moodytown      700       Davisfort       \n1     815       Moodytown      742       Josephton       \n2     815       Moodytown      149       Brownberg       \n3     815       Moodytown      349       Richardberg     \n4     815       Moodytown      468       Sandersshire    \n...   ...             ...      ...                ...    \n3101  798       Lindabury      798       Lindabury       \n3102  800       Meghantown     800       Meghantown      \n3103  293       Browningview   293       Browningview    \n3104  809       Justinchester  809       Justinchester   \n3105  299       Sophiaside     299       Sophiaside      \n\n                                                                                                                                                                                                                                                                                                                                                                                                                                                                                          shipmentIds  \\\n0     [2834, 2326, 1663, 1861, 1343, 1211, 2558, 775, 2953, 1718, 605, 226, 1035, 1145, 1846, 1224, 1767, 1846, 1588, 3002, 2774, 1553, 160, 1157, 627, 567, 3167, 1343, 1145, 1577, 1471, 128, 2953, 2425, 1260, 2176, 698, 1067, 424, 1035, 833, 1490, 35, 1586, 1145, 2674, 1343, 2485, 1983, 108, 627, 698, 1650, 128, 517, 2921, 307, 2227, 460, 1127, 58, 2633, 1214, 3002, 1035, 1927, 1260, 1375, 246, 149, 1846, 2176, 1283, 2056, 1072, 832, 1484, 464, 2024, 1267, 2774, 1000, 1224, 1323]   \n1     [3749, 1681, 1683, 3146, 3415, 3032, 3721, 891, 3727, 2569, 3674, 3146, 3886, 3727, 2387, 873, 3124, 3911, 2167, 3438, 3597, 2059, 2483, 3431, 3497, 3749, 3897, 3702, 3741, 822, 2119, 3727, 3415, 1683, 3385, 3471, 1856, 3045, 2730, 1514, 2167, 2387, 3081, 1830, 3597, 3837, 3886, 1681, 2569, 3662, 891, 3438, 3544, 3873, 3540, 3124, 3563, 3386, 3674, 3256]                                                                                                                              \n2     [1575, 3058, 1063, 1056, 292, 3752, 1997, 2294, 3739, 1056, 1970, 3868, 3660, 2684, 3424, 2746, 2765, 3591, 3211, 292, 2513, 3428, 3916, 1149, 1970, 1975, 3887, 3482, 3693, 2746, 1510, 1226, 1575, 1997, 589, 3739, 8, 3529, 2747, 3827, 3908, 3752, 3428, 3902, 1800, 3211, 3811, 2977, 3444, 2765, 292, 3835, 1056, 3412, 3916, 3240, 2294, 819, 3868]                                                                                                                                        \n3     [2172, 426, 2469, 1427, 3356, 1910, 2172, 1727, 1114, 2819, 1917, 2676, 438, 2416, 2587, 669, 521, 1057, 2484, 3188, 1248, 2300, 1385, 696, 2263, 3078, 2702, 1164, 101, 3337, 1974, 2300, 316, 1400, 1122, 1074, 2484, 3188, 2776, 438, 2544, 1018, 1307, 1998, 2283, 2245, 2526, 3171, 696, 233, 2469, 2676]                                                                                                                                                                                    \n4     [585, 3616, 2926, 3346, 3926, 3609, 2738, 3547, 3791, 3774, 2738, 3774, 2775, 2574, 3616, 3619, 3282, 2343, 709, 3609, 1568, 3621, 3791, 2764, 3738, 1180, 3508, 1044, 1294, 3926, 3279, 2926, 3774, 3619, 3203, 3920, 3547, 3005, 2343, 2238, 3609, 2848, 2738, 3200, 2893, 1664, 585]                                                                                                                                                                                                           \n...                                                                                                                                                                                                                                                                                       ...                                                                                                                                                                                                           \n3101  [3419]                                                                                                                                                                                                                                                                                                                                                                                                                                                                                            \n3102  [2035]                                                                                                                                                                                                                                                                                                                                                                                                                                                                                            \n3103  [3423]                                                                                                                                                                                                                                                                                                                                                                                                                                                                                            \n3104  [3449]                                                                                                                                                                                                                                                                                                                                                                                                                                                                                            \n3105  [2449]                                                                                                                                                                                                                                                                                                                                                                                                                                                                                            \n\n      shipmentCount  circular  \n0     84             False     \n1     60             False     \n2     59             False     \n3     52             False     \n4     47             False     \n...   ..               ...     \n3101  1              True      \n3102  1              True      \n3103  1              True      \n3104  1              True      \n3105  1              True      \n\n[3106 rows x 7 columns]",
      "text/html": "<div>\n<style scoped>\n    .dataframe tbody tr th:only-of-type {\n        vertical-align: middle;\n    }\n\n    .dataframe tbody tr th {\n        vertical-align: top;\n    }\n\n    .dataframe thead th {\n        text-align: right;\n    }\n</style>\n<table border=\"1\" class=\"dataframe\">\n  <thead>\n    <tr style=\"text-align: right;\">\n      <th></th>\n      <th>sourceId</th>\n      <th>sourceName</th>\n      <th>targetId</th>\n      <th>targetName</th>\n      <th>shipmentIds</th>\n      <th>shipmentCount</th>\n      <th>circular</th>\n    </tr>\n  </thead>\n  <tbody>\n    <tr>\n      <th>0</th>\n      <td>815</td>\n      <td>Moodytown</td>\n      <td>700</td>\n      <td>Davisfort</td>\n      <td>[2834, 2326, 1663, 1861, 1343, 1211, 2558, 775, 2953, 1718, 605, 226, 1035, 1145, 1846, 1224, 1767, 1846, 1588, 3002, 2774, 1553, 160, 1157, 627, 567, 3167, 1343, 1145, 1577, 1471, 128, 2953, 2425, 1260, 2176, 698, 1067, 424, 1035, 833, 1490, 35, 1586, 1145, 2674, 1343, 2485, 1983, 108, 627, 698, 1650, 128, 517, 2921, 307, 2227, 460, 1127, 58, 2633, 1214, 3002, 1035, 1927, 1260, 1375, 246, 149, 1846, 2176, 1283, 2056, 1072, 832, 1484, 464, 2024, 1267, 2774, 1000, 1224, 1323]</td>\n      <td>84</td>\n      <td>False</td>\n    </tr>\n    <tr>\n      <th>1</th>\n      <td>815</td>\n      <td>Moodytown</td>\n      <td>742</td>\n      <td>Josephton</td>\n      <td>[3749, 1681, 1683, 3146, 3415, 3032, 3721, 891, 3727, 2569, 3674, 3146, 3886, 3727, 2387, 873, 3124, 3911, 2167, 3438, 3597, 2059, 2483, 3431, 3497, 3749, 3897, 3702, 3741, 822, 2119, 3727, 3415, 1683, 3385, 3471, 1856, 3045, 2730, 1514, 2167, 2387, 3081, 1830, 3597, 3837, 3886, 1681, 2569, 3662, 891, 3438, 3544, 3873, 3540, 3124, 3563, 3386, 3674, 3256]</td>\n      <td>60</td>\n      <td>False</td>\n    </tr>\n    <tr>\n      <th>2</th>\n      <td>815</td>\n      <td>Moodytown</td>\n      <td>149</td>\n      <td>Brownberg</td>\n      <td>[1575, 3058, 1063, 1056, 292, 3752, 1997, 2294, 3739, 1056, 1970, 3868, 3660, 2684, 3424, 2746, 2765, 3591, 3211, 292, 2513, 3428, 3916, 1149, 1970, 1975, 3887, 3482, 3693, 2746, 1510, 1226, 1575, 1997, 589, 3739, 8, 3529, 2747, 3827, 3908, 3752, 3428, 3902, 1800, 3211, 3811, 2977, 3444, 2765, 292, 3835, 1056, 3412, 3916, 3240, 2294, 819, 3868]</td>\n      <td>59</td>\n      <td>False</td>\n    </tr>\n    <tr>\n      <th>3</th>\n      <td>815</td>\n      <td>Moodytown</td>\n      <td>349</td>\n      <td>Richardberg</td>\n      <td>[2172, 426, 2469, 1427, 3356, 1910, 2172, 1727, 1114, 2819, 1917, 2676, 438, 2416, 2587, 669, 521, 1057, 2484, 3188, 1248, 2300, 1385, 696, 2263, 3078, 2702, 1164, 101, 3337, 1974, 2300, 316, 1400, 1122, 1074, 2484, 3188, 2776, 438, 2544, 1018, 1307, 1998, 2283, 2245, 2526, 3171, 696, 233, 2469, 2676]</td>\n      <td>52</td>\n      <td>False</td>\n    </tr>\n    <tr>\n      <th>4</th>\n      <td>815</td>\n      <td>Moodytown</td>\n      <td>468</td>\n      <td>Sandersshire</td>\n      <td>[585, 3616, 2926, 3346, 3926, 3609, 2738, 3547, 3791, 3774, 2738, 3774, 2775, 2574, 3616, 3619, 3282, 2343, 709, 3609, 1568, 3621, 3791, 2764, 3738, 1180, 3508, 1044, 1294, 3926, 3279, 2926, 3774, 3619, 3203, 3920, 3547, 3005, 2343, 2238, 3609, 2848, 2738, 3200, 2893, 1664, 585]</td>\n      <td>47</td>\n      <td>False</td>\n    </tr>\n    <tr>\n      <th>...</th>\n      <td>...</td>\n      <td>...</td>\n      <td>...</td>\n      <td>...</td>\n      <td>...</td>\n      <td>...</td>\n      <td>...</td>\n    </tr>\n    <tr>\n      <th>3101</th>\n      <td>798</td>\n      <td>Lindabury</td>\n      <td>798</td>\n      <td>Lindabury</td>\n      <td>[3419]</td>\n      <td>1</td>\n      <td>True</td>\n    </tr>\n    <tr>\n      <th>3102</th>\n      <td>800</td>\n      <td>Meghantown</td>\n      <td>800</td>\n      <td>Meghantown</td>\n      <td>[2035]</td>\n      <td>1</td>\n      <td>True</td>\n    </tr>\n    <tr>\n      <th>3103</th>\n      <td>293</td>\n      <td>Browningview</td>\n      <td>293</td>\n      <td>Browningview</td>\n      <td>[3423]</td>\n      <td>1</td>\n      <td>True</td>\n    </tr>\n    <tr>\n      <th>3104</th>\n      <td>809</td>\n      <td>Justinchester</td>\n      <td>809</td>\n      <td>Justinchester</td>\n      <td>[3449]</td>\n      <td>1</td>\n      <td>True</td>\n    </tr>\n    <tr>\n      <th>3105</th>\n      <td>299</td>\n      <td>Sophiaside</td>\n      <td>299</td>\n      <td>Sophiaside</td>\n      <td>[2449]</td>\n      <td>1</td>\n      <td>True</td>\n    </tr>\n  </tbody>\n</table>\n<p>3106 rows × 7 columns</p>\n</div>"
     },
     "execution_count": 198,
     "metadata": {},
     "output_type": "execute_result"
    }
   ],
   "source": [
    "#what are the most common paths in the data set?\n",
    "routes_df = gds.run_cypher('''\n",
    "    MATCH(e:EntryPoint)-[r:RECEPTION]->()\n",
    "    WITH e.airportId AS sourceId, e.name AS sourceName, r.shipmentId AS shipmentId, r.legId AS incomingLegId\n",
    "    MATCH (d:Destination)<-[r:DELIVERY {shipmentId: shipmentId}]-()\n",
    "    RETURN sourceId, sourceName, d.airportId AS targetId, d.name AS targetName, collect(shipmentId) AS shipmentIds, count(*) AS shipmentCount,\n",
    "        (sourceId = d.airportId) AS circular\n",
    "    ORDER BY circular ASC, shipmentCount DESC\n",
    "''')\n",
    "routes_df"
   ]
  },
  {
   "cell_type": "code",
   "execution_count": 199,
   "outputs": [
    {
     "data": {
      "text/plain": "          shipmentCount  shipmentPercent\ncircular                                \nFalse     7707           0.971634       \nTrue      225            0.028366       ",
      "text/html": "<div>\n<style scoped>\n    .dataframe tbody tr th:only-of-type {\n        vertical-align: middle;\n    }\n\n    .dataframe tbody tr th {\n        vertical-align: top;\n    }\n\n    .dataframe thead th {\n        text-align: right;\n    }\n</style>\n<table border=\"1\" class=\"dataframe\">\n  <thead>\n    <tr style=\"text-align: right;\">\n      <th></th>\n      <th>shipmentCount</th>\n      <th>shipmentPercent</th>\n    </tr>\n    <tr>\n      <th>circular</th>\n      <th></th>\n      <th></th>\n    </tr>\n  </thead>\n  <tbody>\n    <tr>\n      <th>False</th>\n      <td>7707</td>\n      <td>0.971634</td>\n    </tr>\n    <tr>\n      <th>True</th>\n      <td>225</td>\n      <td>0.028366</td>\n    </tr>\n  </tbody>\n</table>\n</div>"
     },
     "execution_count": 199,
     "metadata": {},
     "output_type": "execute_result"
    }
   ],
   "source": [
    "# there are circular shipments in the source data (you can double check that the start and end airports are the same in the original spreadsheet).\n",
    "# They only account for 3% of routes.  These could be due to errors in curating the data or it could reflect issues with real-world shipment\n",
    "# for now we will proceed with the data as is.\n",
    "gdf = routes_df.groupby('circular').agg({'shipmentCount': sum})\n",
    "gdf['shipmentPercent'] = gdf.shipmentCount/(gdf.shipmentCount.sum())\n",
    "gdf"
   ],
   "metadata": {
    "collapsed": false,
    "pycharm": {
     "name": "#%%\n"
    }
   }
  },
  {
   "cell_type": "code",
   "execution_count": 200,
   "metadata": {
    "pycharm": {
     "name": "#%%\n"
    }
   },
   "outputs": [
    {
     "data": {
      "text/plain": "    incomingLegId  outgoingLegId  shipmentId  incomingMinutes  \\\n0   1430           8403           1067        6235              \n1   3842           3988           1127        2638              \n2   3537           12223          1663        1305              \n3   2967           12142          567         766               \n4   4586           13469          108         1359              \n..   ...             ...          ...          ...              \n79  3653           3186           832         3136              \n80  4295           6718           1484        611               \n81  4251           420            2024        20497             \n82  10942          7971           1267        2630              \n83  2941           7910           1323        1902              \n\n    outgoingMinutes  totalMinutes  \n0   9926             16161         \n1   9648             12286         \n2   6217             7522          \n3   2613             3379          \n4   2395             3754          \n..   ...              ...          \n79  13986            17122         \n80  3079             3690          \n81  18509            39006         \n82  2377             5007          \n83  1612             3514          \n\n[84 rows x 6 columns]",
      "text/html": "<div>\n<style scoped>\n    .dataframe tbody tr th:only-of-type {\n        vertical-align: middle;\n    }\n\n    .dataframe tbody tr th {\n        vertical-align: top;\n    }\n\n    .dataframe thead th {\n        text-align: right;\n    }\n</style>\n<table border=\"1\" class=\"dataframe\">\n  <thead>\n    <tr style=\"text-align: right;\">\n      <th></th>\n      <th>incomingLegId</th>\n      <th>outgoingLegId</th>\n      <th>shipmentId</th>\n      <th>incomingMinutes</th>\n      <th>outgoingMinutes</th>\n      <th>totalMinutes</th>\n    </tr>\n  </thead>\n  <tbody>\n    <tr>\n      <th>0</th>\n      <td>1430</td>\n      <td>8403</td>\n      <td>1067</td>\n      <td>6235</td>\n      <td>9926</td>\n      <td>16161</td>\n    </tr>\n    <tr>\n      <th>1</th>\n      <td>3842</td>\n      <td>3988</td>\n      <td>1127</td>\n      <td>2638</td>\n      <td>9648</td>\n      <td>12286</td>\n    </tr>\n    <tr>\n      <th>2</th>\n      <td>3537</td>\n      <td>12223</td>\n      <td>1663</td>\n      <td>1305</td>\n      <td>6217</td>\n      <td>7522</td>\n    </tr>\n    <tr>\n      <th>3</th>\n      <td>2967</td>\n      <td>12142</td>\n      <td>567</td>\n      <td>766</td>\n      <td>2613</td>\n      <td>3379</td>\n    </tr>\n    <tr>\n      <th>4</th>\n      <td>4586</td>\n      <td>13469</td>\n      <td>108</td>\n      <td>1359</td>\n      <td>2395</td>\n      <td>3754</td>\n    </tr>\n    <tr>\n      <th>...</th>\n      <td>...</td>\n      <td>...</td>\n      <td>...</td>\n      <td>...</td>\n      <td>...</td>\n      <td>...</td>\n    </tr>\n    <tr>\n      <th>79</th>\n      <td>3653</td>\n      <td>3186</td>\n      <td>832</td>\n      <td>3136</td>\n      <td>13986</td>\n      <td>17122</td>\n    </tr>\n    <tr>\n      <th>80</th>\n      <td>4295</td>\n      <td>6718</td>\n      <td>1484</td>\n      <td>611</td>\n      <td>3079</td>\n      <td>3690</td>\n    </tr>\n    <tr>\n      <th>81</th>\n      <td>4251</td>\n      <td>420</td>\n      <td>2024</td>\n      <td>20497</td>\n      <td>18509</td>\n      <td>39006</td>\n    </tr>\n    <tr>\n      <th>82</th>\n      <td>10942</td>\n      <td>7971</td>\n      <td>1267</td>\n      <td>2630</td>\n      <td>2377</td>\n      <td>5007</td>\n    </tr>\n    <tr>\n      <th>83</th>\n      <td>2941</td>\n      <td>7910</td>\n      <td>1323</td>\n      <td>1902</td>\n      <td>1612</td>\n      <td>3514</td>\n    </tr>\n  </tbody>\n</table>\n<p>84 rows × 6 columns</p>\n</div>"
     },
     "execution_count": 200,
     "metadata": {},
     "output_type": "execute_result"
    }
   ],
   "source": [
    "# Calculate distribution for a single path\n",
    "source_airport_id = 815 #'Moodytown'\n",
    "target_airport_id = 700 #'Davisfort'\n",
    "df = gds.run_cypher('''\n",
    "    MATCH()-[r {pathIndex:$pathIndex}]->() WHERE r.legNumber > 0\n",
    "    WITH r.legId AS incomingLegId, r.shipmentId AS shipmentId, sum(r.effectiveMinutes) AS incomingMinutes\n",
    "    MATCH()-[r {shipmentId: shipmentId}]->() WHERE r.legNumber < 0\n",
    "    WITH incomingLegId, r.legId AS outgoingLegId, shipmentId, incomingMinutes, sum(r.effectiveMinutes) AS outgoingMinutes\n",
    "    RETURN incomingLegId, outgoingLegId, shipmentId, incomingMinutes, outgoingMinutes, (incomingMinutes + outgoingMinutes) AS totalMinutes\n",
    "''', params = {'pathIndex': f'{source_airport_id}-{target_airport_id}'})\n",
    "df"
   ]
  },
  {
   "cell_type": "code",
   "execution_count": 201,
   "metadata": {
    "pycharm": {
     "name": "#%%\n"
    }
   },
   "outputs": [
    {
     "data": {
      "text/plain": "<Figure size 432x288 with 1 Axes>",
      "image/png": "[encoded data removed]"
     },
     "metadata": {
      "needs_background": "light"
     },
     "output_type": "display_data"
    },
    {
     "name": "stdout",
     "output_type": "stream",
     "text": [
      "Mean Duration: 7741.5\n"
     ]
    }
   ],
   "source": [
    "def get_percentiles(s, q=None):\n",
    "    if q is None:\n",
    "        q = [0.1, 0.25, 0.5, 0.75, 0.9, 0.95, 0.99]\n",
    "    q_name = ['min'] + [f'p{int(100*i)}' for i in q] + ['max']\n",
    "    p = [s.min()] + [round(s.quantile(i)) for i in q] + [s.max()]\n",
    "    p_df = pd.DataFrame(np.column_stack((q_name, p)), columns=['q', 'percentile'])\n",
    "    return p_df.set_index('q')\n",
    "\n",
    "plt.hist(df.totalMinutes, bins=max(round(df.shape[0]/3),5))\n",
    "plt.title('Shipment Duration Distribution')\n",
    "plt.ylabel('Frequency')\n",
    "plt.xlabel('Duration (in Minutes)')\n",
    "plt.figtext(0.7, 0.4, get_percentiles(df.totalMinutes).to_string())\n",
    "plt.show()\n",
    "print(f'Mean Duration: {round(df.totalMinutes.mean(),1)}')"
   ]
  },
  {
   "cell_type": "markdown",
   "source": [
    "## Find Shortest Routes with GDS Path Finding\n",
    "Demonstrate finding optimal paths between common points using mean time\n",
    "Show how to lookup historic route performance using path index and other features (do we need a compound index instead of a concatenated one)"
   ],
   "metadata": {
    "collapsed": false,
    "pycharm": {
     "name": "#%% md\n"
    }
   }
  },
  {
   "cell_type": "code",
   "execution_count": 202,
   "outputs": [],
   "source": [
    "NODE_PROJ_QUERY = '''\n",
    "        MATCH(n)\n",
    "        WHERE n:EntryPoint OR n:DepartureWarehouse OR n:DeparturePoint OR n:ArrivalWarehouse OR n:TransferPoint OR n:Destination\n",
    "        RETURN id(n) as id, labels(n) as labels\n",
    "        '''\n",
    "REL_PROJ_QUERY = '''\n",
    "        MATCH(n0)-[r:RECEPTION|DEPARTURE|TRANSPORT|DELIVERY]->(n1)\n",
    "        RETURN id(n0) AS source, id(n1) AS target, type(r) AS type, avg(r.effectiveMinutes) AS averageEffectiveMinutes\n",
    "        '''"
   ],
   "metadata": {
    "collapsed": false,
    "pycharm": {
     "name": "#%%\n"
    }
   }
  },
  {
   "cell_type": "code",
   "execution_count": 203,
   "outputs": [
    {
     "data": {
      "text/plain": "nodeQuery            MATCH(n)\\n        WHERE n:EntryPoint OR n:DepartureWarehouse OR n:DeparturePoint OR n:ArrivalWarehouse OR n:TransferPoint OR n:Destination\\n        RETURN id(n) as id, labels(n) as labels\nrelationshipQuery    MATCH(n0)-[r:RECEPTION|DEPARTURE|TRANSPORT|DELIVERY]->(n1)\\n        RETURN id(n0) AS source, id(n1) AS target, type(r) AS type, avg(r.effectiveMinutes) AS averageEffectiveMinutes         \ngraphName            proj                                                                                                                                                                                       \nnodeCount            1422                                                                                                                                                                                       \nrelationshipCount    2024                                                                                                                                                                                       \nprojectMillis        328                                                                                                                                                                                        \nName: 0, dtype: object"
     },
     "execution_count": 203,
     "metadata": {},
     "output_type": "execute_result"
    }
   ],
   "source": [
    "clear_all_graphs()\n",
    "g, _ = gds.graph.project.cypher('proj', NODE_PROJ_QUERY, REL_PROJ_QUERY)\n",
    "_"
   ],
   "metadata": {
    "collapsed": false,
    "pycharm": {
     "name": "#%%\n"
    }
   }
  },
  {
   "cell_type": "code",
   "execution_count": 204,
   "outputs": [],
   "source": [
    "source_airport_name = 'Moodytown'\n",
    "target_airport_name = 'Davisfort'\n",
    "\n",
    "source_node_id = gds.find_node_id(['EntryPoint'], {'name': source_airport_name})\n",
    "target_node_id = gds.find_node_id(['Destination'], {'name': target_airport_name})\n",
    "yen_df = gds.shortestPath.yens.stream(g, sourceNode=source_node_id, targetNode=target_node_id, k=5, relationshipWeightProperty='averageEffectiveMinutes')"
   ],
   "metadata": {
    "collapsed": false,
    "pycharm": {
     "name": "#%%\n"
    }
   }
  },
  {
   "cell_type": "code",
   "execution_count": 205,
   "outputs": [
    {
     "data": {
      "text/plain": "   sourceNode  targetNode    totalCost                           airportPath\n0  1046        864         3743.273964  [Moodytown, Davisfort]              \n1  1046        864         4409.658716  [Moodytown, Michaelstad, Davisfort] \n2  1046        864         4588.759270  [Moodytown, Wandaborough, Davisfort]\n3  1046        864         4617.841660  [Moodytown, Matthewport, Davisfort] \n4  1046        864         4696.503596  [Moodytown, Bryanside, Davisfort]   ",
      "text/html": "<div>\n<style scoped>\n    .dataframe tbody tr th:only-of-type {\n        vertical-align: middle;\n    }\n\n    .dataframe tbody tr th {\n        vertical-align: top;\n    }\n\n    .dataframe thead th {\n        text-align: right;\n    }\n</style>\n<table border=\"1\" class=\"dataframe\">\n  <thead>\n    <tr style=\"text-align: right;\">\n      <th></th>\n      <th>sourceNode</th>\n      <th>targetNode</th>\n      <th>totalCost</th>\n      <th>airportPath</th>\n    </tr>\n  </thead>\n  <tbody>\n    <tr>\n      <th>0</th>\n      <td>1046</td>\n      <td>864</td>\n      <td>3743.273964</td>\n      <td>[Moodytown, Davisfort]</td>\n    </tr>\n    <tr>\n      <th>1</th>\n      <td>1046</td>\n      <td>864</td>\n      <td>4409.658716</td>\n      <td>[Moodytown, Michaelstad, Davisfort]</td>\n    </tr>\n    <tr>\n      <th>2</th>\n      <td>1046</td>\n      <td>864</td>\n      <td>4588.759270</td>\n      <td>[Moodytown, Wandaborough, Davisfort]</td>\n    </tr>\n    <tr>\n      <th>3</th>\n      <td>1046</td>\n      <td>864</td>\n      <td>4617.841660</td>\n      <td>[Moodytown, Matthewport, Davisfort]</td>\n    </tr>\n    <tr>\n      <th>4</th>\n      <td>1046</td>\n      <td>864</td>\n      <td>4696.503596</td>\n      <td>[Moodytown, Bryanside, Davisfort]</td>\n    </tr>\n  </tbody>\n</table>\n</div>"
     },
     "execution_count": 205,
     "metadata": {},
     "output_type": "execute_result"
    }
   ],
   "source": [
    "def get_airport_names(path):\n",
    "    res = []\n",
    "    current_name =''\n",
    "    for node in path.nodes:\n",
    "        new_name = node.get('name')\n",
    "        if new_name != current_name:\n",
    "            res.append(new_name)\n",
    "            current_name=new_name\n",
    "    return res\n",
    "yen_df['airportPath'] = yen_df.path.apply(get_airport_names)\n",
    "yen_df[['sourceNode', 'targetNode','totalCost','airportPath']]"
   ],
   "metadata": {
    "collapsed": false,
    "pycharm": {
     "name": "#%%\n"
    }
   }
  },
  {
   "cell_type": "code",
   "execution_count": 206,
   "metadata": {
    "pycharm": {
     "name": "#%%\n"
    }
   },
   "outputs": [
    {
     "data": {
      "text/plain": "    sourceNode  targetNode    totalCost  \\\n0   1046        1723        5208.344321   \n1   1046        1723        5715.502545   \n2   1046        1723        5719.924774   \n3   1046        1723        5912.069427   \n4   1046        1723        6011.366366   \n5   1046        1723        6087.670836   \n6   1046        1723        6120.390428   \n7   1046        1723        6215.389810   \n8   1046        1723        6348.892664   \n9   1046        1723        6386.309525   \n10  1046        1723        6386.920902   \n11  1046        1723        6468.725298   \n12  1046        1723        6475.164397   \n13  1046        1723        6487.073683   \n14  1046        1723        6565.410080   \n15  1046        1723        6582.282754   \n16  1046        1723        6594.492470   \n17  1046        1723        6633.386001   \n18  1046        1723        6649.983303   \n19  1046        1723        6670.096114   \n\n                                                        airportPath  \n0   [Moodytown, Shanefort, Sandersshire]                             \n1   [Moodytown, Ramoshaven, Shanefort, Sandersshire]                 \n2   [Moodytown, Davisfort, Sandersshire]                             \n3   [Moodytown, Michaelstad, Shanefort, Sandersshire]                \n4   [Moodytown, Wandaborough, Shanefort, Sandersshire]               \n5   [Moodytown, Richardberg, Sandersshire]                           \n6   [Moodytown, Lisaton, Shanefort, Sandersshire]                    \n7   [Moodytown, Grayshire, Shanefort, Sandersshire]                  \n8   [Moodytown, Bryanside, Brownberg, Sandersshire]                  \n9   [Moodytown, Michaelstad, Davisfort, Sandersshire]                \n10  [Moodytown, Michaelstad, Brownberg, Sandersshire]                \n11  [Moodytown, Michaelstad, Ramoshaven, Shanefort, Sandersshire]    \n12  [Moodytown, Lauramouth, Shanefort, Sandersshire]                 \n13  [Moodytown, Ramoshaven, Wandaborough, Shanefort, Sandersshire]   \n14  [Moodytown, Wandaborough, Davisfort, Sandersshire]               \n15  [Moodytown, Wandaborough, Ramoshaven, Shanefort, Sandersshire]   \n16  [Moodytown, Matthewport, Davisfort, Sandersshire]                \n17  [Moodytown, Michaelstad, Richardberg, Sandersshire]              \n18  [Moodytown, Shanefort, Brownberg, Sandersshire]                  \n19  [Moodytown, Wandaborough, Michaelstad, Shanefort, Sandersshire]  ",
      "text/html": "<div>\n<style scoped>\n    .dataframe tbody tr th:only-of-type {\n        vertical-align: middle;\n    }\n\n    .dataframe tbody tr th {\n        vertical-align: top;\n    }\n\n    .dataframe thead th {\n        text-align: right;\n    }\n</style>\n<table border=\"1\" class=\"dataframe\">\n  <thead>\n    <tr style=\"text-align: right;\">\n      <th></th>\n      <th>sourceNode</th>\n      <th>targetNode</th>\n      <th>totalCost</th>\n      <th>airportPath</th>\n    </tr>\n  </thead>\n  <tbody>\n    <tr>\n      <th>0</th>\n      <td>1046</td>\n      <td>1723</td>\n      <td>5208.344321</td>\n      <td>[Moodytown, Shanefort, Sandersshire]</td>\n    </tr>\n    <tr>\n      <th>1</th>\n      <td>1046</td>\n      <td>1723</td>\n      <td>5715.502545</td>\n      <td>[Moodytown, Ramoshaven, Shanefort, Sandersshire]</td>\n    </tr>\n    <tr>\n      <th>2</th>\n      <td>1046</td>\n      <td>1723</td>\n      <td>5719.924774</td>\n      <td>[Moodytown, Davisfort, Sandersshire]</td>\n    </tr>\n    <tr>\n      <th>3</th>\n      <td>1046</td>\n      <td>1723</td>\n      <td>5912.069427</td>\n      <td>[Moodytown, Michaelstad, Shanefort, Sandersshire]</td>\n    </tr>\n    <tr>\n      <th>4</th>\n      <td>1046</td>\n      <td>1723</td>\n      <td>6011.366366</td>\n      <td>[Moodytown, Wandaborough, Shanefort, Sandersshire]</td>\n    </tr>\n    <tr>\n      <th>5</th>\n      <td>1046</td>\n      <td>1723</td>\n      <td>6087.670836</td>\n      <td>[Moodytown, Richardberg, Sandersshire]</td>\n    </tr>\n    <tr>\n      <th>6</th>\n      <td>1046</td>\n      <td>1723</td>\n      <td>6120.390428</td>\n      <td>[Moodytown, Lisaton, Shanefort, Sandersshire]</td>\n    </tr>\n    <tr>\n      <th>7</th>\n      <td>1046</td>\n      <td>1723</td>\n      <td>6215.389810</td>\n      <td>[Moodytown, Grayshire, Shanefort, Sandersshire]</td>\n    </tr>\n    <tr>\n      <th>8</th>\n      <td>1046</td>\n      <td>1723</td>\n      <td>6348.892664</td>\n      <td>[Moodytown, Bryanside, Brownberg, Sandersshire]</td>\n    </tr>\n    <tr>\n      <th>9</th>\n      <td>1046</td>\n      <td>1723</td>\n      <td>6386.309525</td>\n      <td>[Moodytown, Michaelstad, Davisfort, Sandersshire]</td>\n    </tr>\n    <tr>\n      <th>10</th>\n      <td>1046</td>\n      <td>1723</td>\n      <td>6386.920902</td>\n      <td>[Moodytown, Michaelstad, Brownberg, Sandersshire]</td>\n    </tr>\n    <tr>\n      <th>11</th>\n      <td>1046</td>\n      <td>1723</td>\n      <td>6468.725298</td>\n      <td>[Moodytown, Michaelstad, Ramoshaven, Shanefort, Sandersshire]</td>\n    </tr>\n    <tr>\n      <th>12</th>\n      <td>1046</td>\n      <td>1723</td>\n      <td>6475.164397</td>\n      <td>[Moodytown, Lauramouth, Shanefort, Sandersshire]</td>\n    </tr>\n    <tr>\n      <th>13</th>\n      <td>1046</td>\n      <td>1723</td>\n      <td>6487.073683</td>\n      <td>[Moodytown, Ramoshaven, Wandaborough, Shanefort, Sandersshire]</td>\n    </tr>\n    <tr>\n      <th>14</th>\n      <td>1046</td>\n      <td>1723</td>\n      <td>6565.410080</td>\n      <td>[Moodytown, Wandaborough, Davisfort, Sandersshire]</td>\n    </tr>\n    <tr>\n      <th>15</th>\n      <td>1046</td>\n      <td>1723</td>\n      <td>6582.282754</td>\n      <td>[Moodytown, Wandaborough, Ramoshaven, Shanefort, Sandersshire]</td>\n    </tr>\n    <tr>\n      <th>16</th>\n      <td>1046</td>\n      <td>1723</td>\n      <td>6594.492470</td>\n      <td>[Moodytown, Matthewport, Davisfort, Sandersshire]</td>\n    </tr>\n    <tr>\n      <th>17</th>\n      <td>1046</td>\n      <td>1723</td>\n      <td>6633.386001</td>\n      <td>[Moodytown, Michaelstad, Richardberg, Sandersshire]</td>\n    </tr>\n    <tr>\n      <th>18</th>\n      <td>1046</td>\n      <td>1723</td>\n      <td>6649.983303</td>\n      <td>[Moodytown, Shanefort, Brownberg, Sandersshire]</td>\n    </tr>\n    <tr>\n      <th>19</th>\n      <td>1046</td>\n      <td>1723</td>\n      <td>6670.096114</td>\n      <td>[Moodytown, Wandaborough, Michaelstad, Shanefort, Sandersshire]</td>\n    </tr>\n  </tbody>\n</table>\n</div>"
     },
     "execution_count": 206,
     "metadata": {},
     "output_type": "execute_result"
    }
   ],
   "source": [
    "pd.options.display.width = 0\n",
    "pd.options.display.max_colwidth = 0\n",
    "\n",
    "target_node_id_2 = gds.find_node_id(['Destination'], {'name': 'Sandersshire'})\n",
    "\n",
    "yen_df = gds.shortestPath.yens.stream(g, sourceNode=source_node_id, targetNode=target_node_id_2, k=20, relationshipWeightProperty='averageEffectiveMinutes')\n",
    "yen_df['airportPath'] = yen_df.path.apply(get_airport_names)\n",
    "yen_df[['sourceNode', 'targetNode','totalCost','airportPath']]"
   ]
  },
  {
   "cell_type": "code",
   "execution_count": 207,
   "outputs": [
    {
     "data": {
      "text/plain": "468"
     },
     "execution_count": 207,
     "metadata": {},
     "output_type": "execute_result"
    }
   ],
   "source": [
    "gds.run_cypher('MATCH(n) WHERE id(n) = $id RETURN n.airportId AS airportId', params={'id':target_node_id_2}).airportId[0]"
   ],
   "metadata": {
    "collapsed": false,
    "pycharm": {
     "name": "#%%\n"
    }
   }
  },
  {
   "cell_type": "code",
   "execution_count": 208,
   "outputs": [
    {
     "data": {
      "text/plain": "    incomingLegId  outgoingLegId  shipmentId  incomingMinutes  \\\n0   4454           5766           3200        1142              \n1   8854           2379           1294        1663              \n2   9753           5385           3609        435               \n3   8768           13241          2775        2082              \n4   1923           14467          709         2084              \n5   10760          5385           3609        699               \n6   10479          9020           2848        890               \n7   2606           5385           3609        1158              \n8   4089           11427          1664        2618              \n9   10458          8613           3547        422               \n10  9250           6808           3279        2176              \n11  10915          6134           2738        842               \n12  10793          6140           3920        765               \n13  3010           7288           3621        1068              \n14  4652           12945          1180        1042              \n15  1579           3540           2764        2273              \n16  9829           6134           2738        1205              \n17  4322           6187           3926        543               \n18  3964           6187           3926        792               \n19  10509          12823          3619        508               \n20  4465           8594           3616        620               \n21  10350          8594           3616        824               \n22  10486          12810          2343        615               \n23  10977          5554           585         2022              \n24  3924           8613           3547        2346              \n25  4600           12810          2343        675               \n26  3651           4472           2926        2175              \n27  9909           5325           3005        1173              \n28  4052           4472           2926        2430              \n29  4755           5343           3738        1597              \n30  10510          12823          3619        1892              \n31  9943           5423           3508        5121              \n32  10069          5326           3774        501               \n33  3694           7508           3346        4042              \n34  10820          5326           3774        648               \n35  4656           5554           585         3650              \n36  4601           5326           3774        1032              \n37  10657          6134           2738        4503              \n38  10747          13142          2238        2141              \n39  4519           7299           3203        3497              \n40  4173           693            1044        5785              \n41  10140          3081           1568        7859              \n42  9279           1223           2574        7532              \n43  10780          7721           2893        12391             \n44  4619           7774           3791        14061             \n45  9329           2383           3282        30745             \n46  3518           7774           3791        25517             \n\n    outgoingMinutes  totalMinutes                  incomingAirportNames  \\\n0   3259             4401          [Moodytown, Richardberg]               \n1   2899             4562          [Davisfort, Moodytown]                 \n2   4359             4794          [Bryanside, Moodytown]                 \n3   2921             5003          [Davisfort, Moodytown]                 \n4   2949             5033          [Davisfort, Moodytown]                 \n5   4359             5058          [Bryanside, Moodytown]                 \n6   4296             5186          [Bryanside, Moodytown]                 \n7   4359             5517          [Bryanside, Moodytown]                 \n8   3029             5647          [Lisaton, Moodytown]                   \n9   5370             5792          [Moodytown, Michaelstad]               \n10  4068             6244          [Davisfort, Moodytown]                 \n11  5428             6270          [Bryanside, Moodytown]                 \n12  5560             6325          [Moodytown, Michaelstad]               \n13  5345             6413          [Moodytown, Michaelstad]               \n14  5371             6413          [Moodytown, Richardberg]               \n15  4146             6419          [Davisfort, Moodytown]                 \n16  5428             6633          [Bryanside, Moodytown]                 \n17  6317             6860          [Moodytown, Michaelstad]               \n18  6317             7109          [Moodytown, Michaelstad]               \n19  6818             7326          [Moodytown, Michaelstad]               \n20  6835             7455          [Moodytown, Michaelstad]               \n21  6835             7659          [Moodytown, Michaelstad]               \n22  7060             7675          [Moodytown, Michaelstad]               \n23  5693             7715          [Moodytown, Michaelstad]               \n24  5370             7716          [Moodytown, Michaelstad]               \n25  7060             7735          [Moodytown, Michaelstad]               \n26  5635             7810          [Scotttown, Moodytown]                 \n27  6755             7928          [Bryanside, Moodytown]                 \n28  5635             8065          [Scotttown, Moodytown]                 \n29  6663             8260          [Moodytown, Michaelstad]               \n30  6818             8710          [Moodytown, Michaelstad]               \n31  3608             8729          [Moodytown, Sonyafort]                 \n32  8458             8959          [Moodytown, Michaelstad]               \n33  4922             8964          [Moodytown, Wandaborough]              \n34  8458             9106          [Moodytown, Michaelstad]               \n35  5693             9343          [Moodytown, Michaelstad]               \n36  8458             9490          [Moodytown, Michaelstad]               \n37  5428             9931          [Bryanside, Moodytown]                 \n38  8116             10257         [Scotttown, Moodytown]                 \n39  7221             10718         [Moodytown, Michaelstad]               \n40  5019             10804         [Ellisville, Moodytown]                \n41  3009             10868         [Scotttown, Moodytown]                 \n42  7450             14982         [Callahanport, Davisfort, Moodytown]   \n43  7140             19531         [Evansfort, Moodytown]                 \n44  8238             22299         [Evansfort, Moodytown]                 \n45  2871             33616         [Davisfort, Moodytown]                 \n46  8238             33755         [Evansfort, Moodytown]                 \n\n                         outgoingAirportNames  \n0   [Richardberg, Sandersshire]                \n1   [Davisfort, Sandersshire]                  \n2   [Bryanside, Brownberg, Sandersshire]       \n3   [Davisfort, Sandersshire]                  \n4   [Davisfort, Sandersshire]                  \n5   [Bryanside, Brownberg, Sandersshire]       \n6   [Bryanside, Brownberg, Sandersshire]       \n7   [Bryanside, Brownberg, Sandersshire]       \n8   [Lisaton, Sandersshire, Shanefort]         \n9   [Sandersshire, Brownberg, Michaelstad]     \n10  [Davisfort, Sandersshire]                  \n11  [Bryanside, Brownberg, Sandersshire]       \n12  [Sandersshire, Brownberg, Michaelstad]     \n13  [Sandersshire, Brownberg, Michaelstad]     \n14  [Richardberg, Sandersshire]                \n15  [Davisfort, Sandersshire]                  \n16  [Bryanside, Brownberg, Sandersshire]       \n17  [Sandersshire, Brownberg, Michaelstad]     \n18  [Sandersshire, Brownberg, Michaelstad]     \n19  [Sandersshire, Brownberg, Michaelstad]     \n20  [Sandersshire, Brownberg, Michaelstad]     \n21  [Sandersshire, Brownberg, Michaelstad]     \n22  [Sandersshire, Brownberg, Michaelstad]     \n23  [Sandersshire, Brownberg, Michaelstad]     \n24  [Sandersshire, Brownberg, Michaelstad]     \n25  [Sandersshire, Brownberg, Michaelstad]     \n26  [Scotttown, Davisfort, Sandersshire]       \n27  [Bryanside, Brownberg, Sandersshire]       \n28  [Scotttown, Davisfort, Sandersshire]       \n29  [Sandersshire, Brownberg, Michaelstad]     \n30  [Sandersshire, Brownberg, Michaelstad]     \n31  [Sandersshire, Davisfort, Sonyafort]       \n32  [Sandersshire, Brownberg, Michaelstad]     \n33  [Wandaborough, Richardberg, Sandersshire]  \n34  [Sandersshire, Brownberg, Michaelstad]     \n35  [Sandersshire, Brownberg, Michaelstad]     \n36  [Sandersshire, Brownberg, Michaelstad]     \n37  [Bryanside, Brownberg, Sandersshire]       \n38  [Scotttown, Davisfort, Sandersshire]       \n39  [Sandersshire, Brownberg, Michaelstad]     \n40  [Ellisville, Davisfort, Sandersshire]      \n41  [Scotttown, Davisfort, Sandersshire]       \n42  [Callahanport, Sandersshire, Davisfort]    \n43  [Evansfort, Sandersshire, Davisfort]       \n44  [Evansfort, Sandersshire, Davisfort]       \n45  [Davisfort, Sandersshire]                  \n46  [Evansfort, Sandersshire, Davisfort]       ",
      "text/html": "<div>\n<style scoped>\n    .dataframe tbody tr th:only-of-type {\n        vertical-align: middle;\n    }\n\n    .dataframe tbody tr th {\n        vertical-align: top;\n    }\n\n    .dataframe thead th {\n        text-align: right;\n    }\n</style>\n<table border=\"1\" class=\"dataframe\">\n  <thead>\n    <tr style=\"text-align: right;\">\n      <th></th>\n      <th>incomingLegId</th>\n      <th>outgoingLegId</th>\n      <th>shipmentId</th>\n      <th>incomingMinutes</th>\n      <th>outgoingMinutes</th>\n      <th>totalMinutes</th>\n      <th>incomingAirportNames</th>\n      <th>outgoingAirportNames</th>\n    </tr>\n  </thead>\n  <tbody>\n    <tr>\n      <th>0</th>\n      <td>4454</td>\n      <td>5766</td>\n      <td>3200</td>\n      <td>1142</td>\n      <td>3259</td>\n      <td>4401</td>\n      <td>[Moodytown, Richardberg]</td>\n      <td>[Richardberg, Sandersshire]</td>\n    </tr>\n    <tr>\n      <th>1</th>\n      <td>8854</td>\n      <td>2379</td>\n      <td>1294</td>\n      <td>1663</td>\n      <td>2899</td>\n      <td>4562</td>\n      <td>[Davisfort, Moodytown]</td>\n      <td>[Davisfort, Sandersshire]</td>\n    </tr>\n    <tr>\n      <th>2</th>\n      <td>9753</td>\n      <td>5385</td>\n      <td>3609</td>\n      <td>435</td>\n      <td>4359</td>\n      <td>4794</td>\n      <td>[Bryanside, Moodytown]</td>\n      <td>[Bryanside, Brownberg, Sandersshire]</td>\n    </tr>\n    <tr>\n      <th>3</th>\n      <td>8768</td>\n      <td>13241</td>\n      <td>2775</td>\n      <td>2082</td>\n      <td>2921</td>\n      <td>5003</td>\n      <td>[Davisfort, Moodytown]</td>\n      <td>[Davisfort, Sandersshire]</td>\n    </tr>\n    <tr>\n      <th>4</th>\n      <td>1923</td>\n      <td>14467</td>\n      <td>709</td>\n      <td>2084</td>\n      <td>2949</td>\n      <td>5033</td>\n      <td>[Davisfort, Moodytown]</td>\n      <td>[Davisfort, Sandersshire]</td>\n    </tr>\n    <tr>\n      <th>5</th>\n      <td>10760</td>\n      <td>5385</td>\n      <td>3609</td>\n      <td>699</td>\n      <td>4359</td>\n      <td>5058</td>\n      <td>[Bryanside, Moodytown]</td>\n      <td>[Bryanside, Brownberg, Sandersshire]</td>\n    </tr>\n    <tr>\n      <th>6</th>\n      <td>10479</td>\n      <td>9020</td>\n      <td>2848</td>\n      <td>890</td>\n      <td>4296</td>\n      <td>5186</td>\n      <td>[Bryanside, Moodytown]</td>\n      <td>[Bryanside, Brownberg, Sandersshire]</td>\n    </tr>\n    <tr>\n      <th>7</th>\n      <td>2606</td>\n      <td>5385</td>\n      <td>3609</td>\n      <td>1158</td>\n      <td>4359</td>\n      <td>5517</td>\n      <td>[Bryanside, Moodytown]</td>\n      <td>[Bryanside, Brownberg, Sandersshire]</td>\n    </tr>\n    <tr>\n      <th>8</th>\n      <td>4089</td>\n      <td>11427</td>\n      <td>1664</td>\n      <td>2618</td>\n      <td>3029</td>\n      <td>5647</td>\n      <td>[Lisaton, Moodytown]</td>\n      <td>[Lisaton, Sandersshire, Shanefort]</td>\n    </tr>\n    <tr>\n      <th>9</th>\n      <td>10458</td>\n      <td>8613</td>\n      <td>3547</td>\n      <td>422</td>\n      <td>5370</td>\n      <td>5792</td>\n      <td>[Moodytown, Michaelstad]</td>\n      <td>[Sandersshire, Brownberg, Michaelstad]</td>\n    </tr>\n    <tr>\n      <th>10</th>\n      <td>9250</td>\n      <td>6808</td>\n      <td>3279</td>\n      <td>2176</td>\n      <td>4068</td>\n      <td>6244</td>\n      <td>[Davisfort, Moodytown]</td>\n      <td>[Davisfort, Sandersshire]</td>\n    </tr>\n    <tr>\n      <th>11</th>\n      <td>10915</td>\n      <td>6134</td>\n      <td>2738</td>\n      <td>842</td>\n      <td>5428</td>\n      <td>6270</td>\n      <td>[Bryanside, Moodytown]</td>\n      <td>[Bryanside, Brownberg, Sandersshire]</td>\n    </tr>\n    <tr>\n      <th>12</th>\n      <td>10793</td>\n      <td>6140</td>\n      <td>3920</td>\n      <td>765</td>\n      <td>5560</td>\n      <td>6325</td>\n      <td>[Moodytown, Michaelstad]</td>\n      <td>[Sandersshire, Brownberg, Michaelstad]</td>\n    </tr>\n    <tr>\n      <th>13</th>\n      <td>3010</td>\n      <td>7288</td>\n      <td>3621</td>\n      <td>1068</td>\n      <td>5345</td>\n      <td>6413</td>\n      <td>[Moodytown, Michaelstad]</td>\n      <td>[Sandersshire, Brownberg, Michaelstad]</td>\n    </tr>\n    <tr>\n      <th>14</th>\n      <td>4652</td>\n      <td>12945</td>\n      <td>1180</td>\n      <td>1042</td>\n      <td>5371</td>\n      <td>6413</td>\n      <td>[Moodytown, Richardberg]</td>\n      <td>[Richardberg, Sandersshire]</td>\n    </tr>\n    <tr>\n      <th>15</th>\n      <td>1579</td>\n      <td>3540</td>\n      <td>2764</td>\n      <td>2273</td>\n      <td>4146</td>\n      <td>6419</td>\n      <td>[Davisfort, Moodytown]</td>\n      <td>[Davisfort, Sandersshire]</td>\n    </tr>\n    <tr>\n      <th>16</th>\n      <td>9829</td>\n      <td>6134</td>\n      <td>2738</td>\n      <td>1205</td>\n      <td>5428</td>\n      <td>6633</td>\n      <td>[Bryanside, Moodytown]</td>\n      <td>[Bryanside, Brownberg, Sandersshire]</td>\n    </tr>\n    <tr>\n      <th>17</th>\n      <td>4322</td>\n      <td>6187</td>\n      <td>3926</td>\n      <td>543</td>\n      <td>6317</td>\n      <td>6860</td>\n      <td>[Moodytown, Michaelstad]</td>\n      <td>[Sandersshire, Brownberg, Michaelstad]</td>\n    </tr>\n    <tr>\n      <th>18</th>\n      <td>3964</td>\n      <td>6187</td>\n      <td>3926</td>\n      <td>792</td>\n      <td>6317</td>\n      <td>7109</td>\n      <td>[Moodytown, Michaelstad]</td>\n      <td>[Sandersshire, Brownberg, Michaelstad]</td>\n    </tr>\n    <tr>\n      <th>19</th>\n      <td>10509</td>\n      <td>12823</td>\n      <td>3619</td>\n      <td>508</td>\n      <td>6818</td>\n      <td>7326</td>\n      <td>[Moodytown, Michaelstad]</td>\n      <td>[Sandersshire, Brownberg, Michaelstad]</td>\n    </tr>\n    <tr>\n      <th>20</th>\n      <td>4465</td>\n      <td>8594</td>\n      <td>3616</td>\n      <td>620</td>\n      <td>6835</td>\n      <td>7455</td>\n      <td>[Moodytown, Michaelstad]</td>\n      <td>[Sandersshire, Brownberg, Michaelstad]</td>\n    </tr>\n    <tr>\n      <th>21</th>\n      <td>10350</td>\n      <td>8594</td>\n      <td>3616</td>\n      <td>824</td>\n      <td>6835</td>\n      <td>7659</td>\n      <td>[Moodytown, Michaelstad]</td>\n      <td>[Sandersshire, Brownberg, Michaelstad]</td>\n    </tr>\n    <tr>\n      <th>22</th>\n      <td>10486</td>\n      <td>12810</td>\n      <td>2343</td>\n      <td>615</td>\n      <td>7060</td>\n      <td>7675</td>\n      <td>[Moodytown, Michaelstad]</td>\n      <td>[Sandersshire, Brownberg, Michaelstad]</td>\n    </tr>\n    <tr>\n      <th>23</th>\n      <td>10977</td>\n      <td>5554</td>\n      <td>585</td>\n      <td>2022</td>\n      <td>5693</td>\n      <td>7715</td>\n      <td>[Moodytown, Michaelstad]</td>\n      <td>[Sandersshire, Brownberg, Michaelstad]</td>\n    </tr>\n    <tr>\n      <th>24</th>\n      <td>3924</td>\n      <td>8613</td>\n      <td>3547</td>\n      <td>2346</td>\n      <td>5370</td>\n      <td>7716</td>\n      <td>[Moodytown, Michaelstad]</td>\n      <td>[Sandersshire, Brownberg, Michaelstad]</td>\n    </tr>\n    <tr>\n      <th>25</th>\n      <td>4600</td>\n      <td>12810</td>\n      <td>2343</td>\n      <td>675</td>\n      <td>7060</td>\n      <td>7735</td>\n      <td>[Moodytown, Michaelstad]</td>\n      <td>[Sandersshire, Brownberg, Michaelstad]</td>\n    </tr>\n    <tr>\n      <th>26</th>\n      <td>3651</td>\n      <td>4472</td>\n      <td>2926</td>\n      <td>2175</td>\n      <td>5635</td>\n      <td>7810</td>\n      <td>[Scotttown, Moodytown]</td>\n      <td>[Scotttown, Davisfort, Sandersshire]</td>\n    </tr>\n    <tr>\n      <th>27</th>\n      <td>9909</td>\n      <td>5325</td>\n      <td>3005</td>\n      <td>1173</td>\n      <td>6755</td>\n      <td>7928</td>\n      <td>[Bryanside, Moodytown]</td>\n      <td>[Bryanside, Brownberg, Sandersshire]</td>\n    </tr>\n    <tr>\n      <th>28</th>\n      <td>4052</td>\n      <td>4472</td>\n      <td>2926</td>\n      <td>2430</td>\n      <td>5635</td>\n      <td>8065</td>\n      <td>[Scotttown, Moodytown]</td>\n      <td>[Scotttown, Davisfort, Sandersshire]</td>\n    </tr>\n    <tr>\n      <th>29</th>\n      <td>4755</td>\n      <td>5343</td>\n      <td>3738</td>\n      <td>1597</td>\n      <td>6663</td>\n      <td>8260</td>\n      <td>[Moodytown, Michaelstad]</td>\n      <td>[Sandersshire, Brownberg, Michaelstad]</td>\n    </tr>\n    <tr>\n      <th>30</th>\n      <td>10510</td>\n      <td>12823</td>\n      <td>3619</td>\n      <td>1892</td>\n      <td>6818</td>\n      <td>8710</td>\n      <td>[Moodytown, Michaelstad]</td>\n      <td>[Sandersshire, Brownberg, Michaelstad]</td>\n    </tr>\n    <tr>\n      <th>31</th>\n      <td>9943</td>\n      <td>5423</td>\n      <td>3508</td>\n      <td>5121</td>\n      <td>3608</td>\n      <td>8729</td>\n      <td>[Moodytown, Sonyafort]</td>\n      <td>[Sandersshire, Davisfort, Sonyafort]</td>\n    </tr>\n    <tr>\n      <th>32</th>\n      <td>10069</td>\n      <td>5326</td>\n      <td>3774</td>\n      <td>501</td>\n      <td>8458</td>\n      <td>8959</td>\n      <td>[Moodytown, Michaelstad]</td>\n      <td>[Sandersshire, Brownberg, Michaelstad]</td>\n    </tr>\n    <tr>\n      <th>33</th>\n      <td>3694</td>\n      <td>7508</td>\n      <td>3346</td>\n      <td>4042</td>\n      <td>4922</td>\n      <td>8964</td>\n      <td>[Moodytown, Wandaborough]</td>\n      <td>[Wandaborough, Richardberg, Sandersshire]</td>\n    </tr>\n    <tr>\n      <th>34</th>\n      <td>10820</td>\n      <td>5326</td>\n      <td>3774</td>\n      <td>648</td>\n      <td>8458</td>\n      <td>9106</td>\n      <td>[Moodytown, Michaelstad]</td>\n      <td>[Sandersshire, Brownberg, Michaelstad]</td>\n    </tr>\n    <tr>\n      <th>35</th>\n      <td>4656</td>\n      <td>5554</td>\n      <td>585</td>\n      <td>3650</td>\n      <td>5693</td>\n      <td>9343</td>\n      <td>[Moodytown, Michaelstad]</td>\n      <td>[Sandersshire, Brownberg, Michaelstad]</td>\n    </tr>\n    <tr>\n      <th>36</th>\n      <td>4601</td>\n      <td>5326</td>\n      <td>3774</td>\n      <td>1032</td>\n      <td>8458</td>\n      <td>9490</td>\n      <td>[Moodytown, Michaelstad]</td>\n      <td>[Sandersshire, Brownberg, Michaelstad]</td>\n    </tr>\n    <tr>\n      <th>37</th>\n      <td>10657</td>\n      <td>6134</td>\n      <td>2738</td>\n      <td>4503</td>\n      <td>5428</td>\n      <td>9931</td>\n      <td>[Bryanside, Moodytown]</td>\n      <td>[Bryanside, Brownberg, Sandersshire]</td>\n    </tr>\n    <tr>\n      <th>38</th>\n      <td>10747</td>\n      <td>13142</td>\n      <td>2238</td>\n      <td>2141</td>\n      <td>8116</td>\n      <td>10257</td>\n      <td>[Scotttown, Moodytown]</td>\n      <td>[Scotttown, Davisfort, Sandersshire]</td>\n    </tr>\n    <tr>\n      <th>39</th>\n      <td>4519</td>\n      <td>7299</td>\n      <td>3203</td>\n      <td>3497</td>\n      <td>7221</td>\n      <td>10718</td>\n      <td>[Moodytown, Michaelstad]</td>\n      <td>[Sandersshire, Brownberg, Michaelstad]</td>\n    </tr>\n    <tr>\n      <th>40</th>\n      <td>4173</td>\n      <td>693</td>\n      <td>1044</td>\n      <td>5785</td>\n      <td>5019</td>\n      <td>10804</td>\n      <td>[Ellisville, Moodytown]</td>\n      <td>[Ellisville, Davisfort, Sandersshire]</td>\n    </tr>\n    <tr>\n      <th>41</th>\n      <td>10140</td>\n      <td>3081</td>\n      <td>1568</td>\n      <td>7859</td>\n      <td>3009</td>\n      <td>10868</td>\n      <td>[Scotttown, Moodytown]</td>\n      <td>[Scotttown, Davisfort, Sandersshire]</td>\n    </tr>\n    <tr>\n      <th>42</th>\n      <td>9279</td>\n      <td>1223</td>\n      <td>2574</td>\n      <td>7532</td>\n      <td>7450</td>\n      <td>14982</td>\n      <td>[Callahanport, Davisfort, Moodytown]</td>\n      <td>[Callahanport, Sandersshire, Davisfort]</td>\n    </tr>\n    <tr>\n      <th>43</th>\n      <td>10780</td>\n      <td>7721</td>\n      <td>2893</td>\n      <td>12391</td>\n      <td>7140</td>\n      <td>19531</td>\n      <td>[Evansfort, Moodytown]</td>\n      <td>[Evansfort, Sandersshire, Davisfort]</td>\n    </tr>\n    <tr>\n      <th>44</th>\n      <td>4619</td>\n      <td>7774</td>\n      <td>3791</td>\n      <td>14061</td>\n      <td>8238</td>\n      <td>22299</td>\n      <td>[Evansfort, Moodytown]</td>\n      <td>[Evansfort, Sandersshire, Davisfort]</td>\n    </tr>\n    <tr>\n      <th>45</th>\n      <td>9329</td>\n      <td>2383</td>\n      <td>3282</td>\n      <td>30745</td>\n      <td>2871</td>\n      <td>33616</td>\n      <td>[Davisfort, Moodytown]</td>\n      <td>[Davisfort, Sandersshire]</td>\n    </tr>\n    <tr>\n      <th>46</th>\n      <td>3518</td>\n      <td>7774</td>\n      <td>3791</td>\n      <td>25517</td>\n      <td>8238</td>\n      <td>33755</td>\n      <td>[Evansfort, Moodytown]</td>\n      <td>[Evansfort, Sandersshire, Davisfort]</td>\n    </tr>\n  </tbody>\n</table>\n</div>"
     },
     "execution_count": 208,
     "metadata": {},
     "output_type": "execute_result"
    }
   ],
   "source": [
    "target_airport_id_2 = gds.run_cypher('MATCH(n) WHERE id(n) = $id RETURN n.airportId AS airportId', params={'id':target_node_id_2}).airportId[0]\n",
    "\n",
    "df = gds.run_cypher('''\n",
    "    MATCH()-[r {pathIndex:$pathIndex}]->(n) WHERE r.legNumber > 0\n",
    "    WITH r.legId AS incomingLegId, r.shipmentId AS shipmentId, sum(r.effectiveMinutes) AS incomingMinutes, collect(DISTINCT n.name) as incomingAirportNames\n",
    "    MATCH()-[r {shipmentId: shipmentId}]->(n) WHERE r.legNumber < 0\n",
    "    WITH incomingLegId, r.legId AS outgoingLegId, shipmentId, incomingMinutes, sum(r.effectiveMinutes) AS outgoingMinutes,\n",
    "        incomingAirportNames, collect(DISTINCT n.name) as outgoingAirportNames\n",
    "    RETURN incomingLegId, outgoingLegId, shipmentId, incomingMinutes, outgoingMinutes, (incomingMinutes + outgoingMinutes) AS totalMinutes,\n",
    "    incomingAirportNames, outgoingAirportNames\n",
    "    ORDER BY totalMinutes\n",
    "''', params = {'pathIndex': f'{source_airport_id}-{target_airport_id_2}'})\n",
    "df"
   ],
   "metadata": {
    "collapsed": false,
    "pycharm": {
     "name": "#%%\n"
    }
   }
  },
  {
   "cell_type": "markdown",
   "source": [
    "## Freight Forwarding Combinations"
   ],
   "metadata": {
    "collapsed": false,
    "pycharm": {
     "name": "#%% md\n"
    }
   }
  },
  {
   "cell_type": "code",
   "execution_count": 209,
   "outputs": [],
   "source": [
    "def get_yen_dfs(g, source_node_ids, target_node_ids, k, max_avg_time=np.Inf):\n",
    "    df_list = []\n",
    "    for source_node_id in source_node_ids:\n",
    "        for target_node_id in target_node_ids:\n",
    "            tdf = gds.shortestPath.yens.stream(g, sourceNode=source_node_id, targetNode=target_node_id,\n",
    "                                               k=k, relationshipWeightProperty='averageEffectiveMinutes')\n",
    "            if max_avg_time < np.Inf:\n",
    "                tdf = tdf[tdf.totalCost <= max_avg_time]\n",
    "            df_list.append(tdf)\n",
    "    return df_list\n",
    "\n",
    "def get_solution_costs(row, path_dfs):\n",
    "    solution = row.solutionIndex\n",
    "    rels = {}\n",
    "    path_costs = []\n",
    "    for n in range(len(solution)):\n",
    "        path_costs.append(path_dfs[n].totalCost[solution[n]])\n",
    "        for r in path_dfs[n].path[solution[n]].relationships:\n",
    "            rels[f'{r.start_node.id}-{r.end_node.id}'] = r\n",
    "    return sum([r.get('cost') for r in rels.values()]), path_costs, list(rels.values())\n",
    "\n",
    "\n",
    "def top_k_solutions(g, source_node_ids, target_node_ids, top_k=10, yen_candidates=10, max_avg_time=np.Inf):\n",
    "    #get paths\n",
    "    path_dfs = get_yen_dfs(g, source_node_ids, target_node_ids, yen_candidates, max_avg_time)\n",
    "    #get solutions\n",
    "    solution_df = pd.DataFrame(itertools.product(*[range(path_df.shape[0]) for path_df in path_dfs]))\\\n",
    "        .apply(tuple, axis=1).to_frame(name='solutionIndex')\n",
    "    solution_df[['totalCost','pathCosts', 'relationships']] = solution_df.apply(get_solution_costs,\n",
    "                                                                                args=([path_dfs]), axis=1, result_type='expand')\n",
    "    # return top solutions\n",
    "    return solution_df.sort_values('totalCost')[:top_k].reset_index(drop=True)\n",
    "\n",
    "def top_k_solutions_from_names(g, source_airport_names, target_airport_name, top_k=10, yen_candidates=10, max_avg_time=np.Inf):\n",
    "    source_node_ids = [gds.find_node_id(['EntryPoint'], {'name': i}) for i in source_airport_names]\n",
    "    target_node_ids = [gds.find_node_id(['Destination'], {'name': target_airport_name})]\n",
    "    return top_k_solutions(g, source_node_ids, target_node_ids, top_k=top_k, yen_candidates=yen_candidates, max_avg_time=max_avg_time)\n",
    "\n",
    "def top_k_solutions_from_airport_ids(g, source_airport_ids, target_airport_id, top_k=10, yen_candidates=10, max_avg_time=np.Inf):\n",
    "    source_node_ids = [gds.find_node_id(['EntryPoint'], {'airportId': i}) for i in source_airport_ids]\n",
    "    target_node_ids = [gds.find_node_id(['Destination'], {'airportId': target_airport_id})]\n",
    "    return top_k_solutions(g, source_node_ids, target_node_ids, top_k=top_k, yen_candidates=yen_candidates, max_avg_time=max_avg_time)"
   ],
   "metadata": {
    "collapsed": false,
    "pycharm": {
     "name": "#%%\n"
    }
   }
  },
  {
   "cell_type": "code",
   "execution_count": 210,
   "outputs": [
    {
     "data": {
      "text/plain": "  solutionIndex     totalCost  \\\n0  (2, 0, 0, 1)  12466.772236   \n1  (0, 0, 0, 1)  12527.402671   \n2  (2, 1, 0, 1)  12973.930460   \n3  (0, 1, 0, 1)  13034.560895   \n4  (2, 0, 2, 1)  13037.688624   \n5  (2, 4, 0, 1)  13065.902977   \n6  (0, 0, 2, 1)  13098.319059   \n7  (2, 1, 2, 1)  13113.269925   \n8  (2, 0, 3, 1)  13125.501985   \n9  (0, 4, 0, 1)  13126.533412   \n\n                                                                      pathCosts  \n0  [4619.049646440211, 5208.344320769946, 4349.129699336236, 6535.08500916388]   \n1  [3040.020833333333, 5208.344320769946, 4349.129699336236, 6535.08500916388]   \n2  [4619.049646440211, 5715.5025446598775, 4349.129699336236, 6535.08500916388]  \n3  [3040.020833333333, 5715.5025446598775, 4349.129699336236, 6535.08500916388]  \n4  [4619.049646440211, 5208.344320769946, 4920.046087296103, 6535.08500916388]   \n5  [4619.049646440211, 6011.366365614366, 4349.129699336236, 6535.08500916388]   \n6  [3040.020833333333, 5208.344320769946, 4920.046087296103, 6535.08500916388]   \n7  [4619.049646440211, 5715.5025446598775, 4920.046087296103, 6535.08500916388]  \n8  [4619.049646440211, 5208.344320769946, 5007.859447619989, 6535.08500916388]   \n9  [3040.020833333333, 6011.366365614366, 4349.129699336236, 6535.08500916388]   ",
      "text/html": "<div>\n<style scoped>\n    .dataframe tbody tr th:only-of-type {\n        vertical-align: middle;\n    }\n\n    .dataframe tbody tr th {\n        vertical-align: top;\n    }\n\n    .dataframe thead th {\n        text-align: right;\n    }\n</style>\n<table border=\"1\" class=\"dataframe\">\n  <thead>\n    <tr style=\"text-align: right;\">\n      <th></th>\n      <th>solutionIndex</th>\n      <th>totalCost</th>\n      <th>pathCosts</th>\n    </tr>\n  </thead>\n  <tbody>\n    <tr>\n      <th>0</th>\n      <td>(2, 0, 0, 1)</td>\n      <td>12466.772236</td>\n      <td>[4619.049646440211, 5208.344320769946, 4349.129699336236, 6535.08500916388]</td>\n    </tr>\n    <tr>\n      <th>1</th>\n      <td>(0, 0, 0, 1)</td>\n      <td>12527.402671</td>\n      <td>[3040.020833333333, 5208.344320769946, 4349.129699336236, 6535.08500916388]</td>\n    </tr>\n    <tr>\n      <th>2</th>\n      <td>(2, 1, 0, 1)</td>\n      <td>12973.930460</td>\n      <td>[4619.049646440211, 5715.5025446598775, 4349.129699336236, 6535.08500916388]</td>\n    </tr>\n    <tr>\n      <th>3</th>\n      <td>(0, 1, 0, 1)</td>\n      <td>13034.560895</td>\n      <td>[3040.020833333333, 5715.5025446598775, 4349.129699336236, 6535.08500916388]</td>\n    </tr>\n    <tr>\n      <th>4</th>\n      <td>(2, 0, 2, 1)</td>\n      <td>13037.688624</td>\n      <td>[4619.049646440211, 5208.344320769946, 4920.046087296103, 6535.08500916388]</td>\n    </tr>\n    <tr>\n      <th>5</th>\n      <td>(2, 4, 0, 1)</td>\n      <td>13065.902977</td>\n      <td>[4619.049646440211, 6011.366365614366, 4349.129699336236, 6535.08500916388]</td>\n    </tr>\n    <tr>\n      <th>6</th>\n      <td>(0, 0, 2, 1)</td>\n      <td>13098.319059</td>\n      <td>[3040.020833333333, 5208.344320769946, 4920.046087296103, 6535.08500916388]</td>\n    </tr>\n    <tr>\n      <th>7</th>\n      <td>(2, 1, 2, 1)</td>\n      <td>13113.269925</td>\n      <td>[4619.049646440211, 5715.5025446598775, 4920.046087296103, 6535.08500916388]</td>\n    </tr>\n    <tr>\n      <th>8</th>\n      <td>(2, 0, 3, 1)</td>\n      <td>13125.501985</td>\n      <td>[4619.049646440211, 5208.344320769946, 5007.859447619989, 6535.08500916388]</td>\n    </tr>\n    <tr>\n      <th>9</th>\n      <td>(0, 4, 0, 1)</td>\n      <td>13126.533412</td>\n      <td>[3040.020833333333, 6011.366365614366, 4349.129699336236, 6535.08500916388]</td>\n    </tr>\n  </tbody>\n</table>\n</div>"
     },
     "execution_count": 210,
     "metadata": {},
     "output_type": "execute_result"
    }
   ],
   "source": [
    "source_airport_names = ['Brownberg', 'Moodytown', 'Wandaborough', 'Richardberg']\n",
    "target_airport_name = 'Sandersshire'\n",
    "top_k_df = top_k_solutions_from_names(g, source_airport_names, target_airport_name)\n",
    "top_k_df[['solutionIndex', 'totalCost', 'pathCosts']]"
   ],
   "metadata": {
    "collapsed": false,
    "pycharm": {
     "name": "#%%\n"
    }
   }
  },
  {
   "cell_type": "code",
   "execution_count": 211,
   "outputs": [
    {
     "data": {
      "text/plain": "Empty DataFrame\nColumns: []\nIndex: []",
      "text/html": "<div>\n<style scoped>\n    .dataframe tbody tr th:only-of-type {\n        vertical-align: middle;\n    }\n\n    .dataframe tbody tr th {\n        vertical-align: top;\n    }\n\n    .dataframe thead th {\n        text-align: right;\n    }\n</style>\n<table border=\"1\" class=\"dataframe\">\n  <thead>\n    <tr style=\"text-align: right;\">\n      <th></th>\n    </tr>\n  </thead>\n  <tbody>\n  </tbody>\n</table>\n</div>"
     },
     "execution_count": 211,
     "metadata": {},
     "output_type": "execute_result"
    }
   ],
   "source": [
    "#write best path to DB to visualize results\n",
    "def format_nodes_and_rels(relationships):\n",
    "    records = []\n",
    "    for r in relationships:\n",
    "        records.append({'sourceNodeId': r.start_node.id, 'targetNodeId': r.end_node.id, 'cost': r.get('cost')})\n",
    "    rel_df = pd.DataFrame.from_records(records)\n",
    "    return pd.DataFrame(set(rel_df.sourceNodeId).union(rel_df.targetNodeId), columns = ['nodeId']), rel_df\n",
    "\n",
    "node_df, rels_df  = format_nodes_and_rels(top_k_df.relationships[0])\n",
    "gds.run_cypher('''\n",
    "        UNWIND $rels AS rels\n",
    "        WITH toInteger(rels.sourceNodeId) AS sourceNodeId,\n",
    "            toInteger(rels.targetNodeId) AS targetNodeId,\n",
    "            rels.cost AS cost\n",
    "        MATCH(n1) WHERE id(n1) = sourceNodeId\n",
    "        MATCH(n2) WHERE id(n2) = targetNodeId\n",
    "        MERGE(n1)-[r:BEST_YENS_PATH {cost: cost}]->(n2)\n",
    "''', params ={'rels': rels_df.to_dict('records')})"
   ],
   "metadata": {
    "collapsed": false,
    "pycharm": {
     "name": "#%%\n"
    }
   }
  },
  {
   "cell_type": "code",
   "execution_count": 212,
   "outputs": [
    {
     "data": {
      "text/plain": "   sourceNode  targetNode    totalCost                             airportPath\n0  1061        1723        5629.324223  [Richardberg, Sandersshire]           \n1  1061        1723        6535.085009  [Richardberg, Shanefort, Sandersshire]\n2  1061        1723        6911.991264  [Richardberg, Brownberg, Sandersshire]\n3  1061        1723        6927.236772  [Richardberg, Davisfort, Sandersshire]",
      "text/html": "<div>\n<style scoped>\n    .dataframe tbody tr th:only-of-type {\n        vertical-align: middle;\n    }\n\n    .dataframe tbody tr th {\n        vertical-align: top;\n    }\n\n    .dataframe thead th {\n        text-align: right;\n    }\n</style>\n<table border=\"1\" class=\"dataframe\">\n  <thead>\n    <tr style=\"text-align: right;\">\n      <th></th>\n      <th>sourceNode</th>\n      <th>targetNode</th>\n      <th>totalCost</th>\n      <th>airportPath</th>\n    </tr>\n  </thead>\n  <tbody>\n    <tr>\n      <th>0</th>\n      <td>1061</td>\n      <td>1723</td>\n      <td>5629.324223</td>\n      <td>[Richardberg, Sandersshire]</td>\n    </tr>\n    <tr>\n      <th>1</th>\n      <td>1061</td>\n      <td>1723</td>\n      <td>6535.085009</td>\n      <td>[Richardberg, Shanefort, Sandersshire]</td>\n    </tr>\n    <tr>\n      <th>2</th>\n      <td>1061</td>\n      <td>1723</td>\n      <td>6911.991264</td>\n      <td>[Richardberg, Brownberg, Sandersshire]</td>\n    </tr>\n    <tr>\n      <th>3</th>\n      <td>1061</td>\n      <td>1723</td>\n      <td>6927.236772</td>\n      <td>[Richardberg, Davisfort, Sandersshire]</td>\n    </tr>\n  </tbody>\n</table>\n</div>"
     },
     "execution_count": 212,
     "metadata": {},
     "output_type": "execute_result"
    }
   ],
   "source": [
    "source_node_id_2 = gds.find_node_id(['EntryPoint'], {'name': 'Richardberg'})\n",
    "\n",
    "yen_df = gds.shortestPath.yens.stream(g, sourceNode=source_node_id_2, targetNode=target_node_id_2, k=4, relationshipWeightProperty='averageEffectiveMinutes')\n",
    "yen_df['airportPath'] = yen_df.path.apply(get_airport_names)\n",
    "yen_df[['sourceNode', 'targetNode','totalCost','airportPath']]"
   ],
   "metadata": {
    "collapsed": false,
    "pycharm": {
     "name": "#%%\n"
    }
   }
  },
  {
   "cell_type": "code",
   "execution_count": 213,
   "outputs": [
    {
     "data": {
      "text/plain": "Empty DataFrame\nColumns: []\nIndex: []",
      "text/html": "<div>\n<style scoped>\n    .dataframe tbody tr th:only-of-type {\n        vertical-align: middle;\n    }\n\n    .dataframe tbody tr th {\n        vertical-align: top;\n    }\n\n    .dataframe thead th {\n        text-align: right;\n    }\n</style>\n<table border=\"1\" class=\"dataframe\">\n  <thead>\n    <tr style=\"text-align: right;\">\n      <th></th>\n    </tr>\n  </thead>\n  <tbody>\n  </tbody>\n</table>\n</div>"
     },
     "execution_count": 213,
     "metadata": {},
     "output_type": "execute_result"
    }
   ],
   "source": [
    "gds.run_cypher('MATCH()-[r:BEST_YENS_PATH]->() DELETE r')"
   ],
   "metadata": {
    "collapsed": false,
    "pycharm": {
     "name": "#%%\n"
    }
   }
  },
  {
   "cell_type": "code",
   "execution_count": 214,
   "outputs": [
    {
     "data": {
      "text/plain": "  solutionIndex     totalCost  \\\n0  (2, 0, 0, 0)  13200.670698   \n1  (0, 0, 0, 0)  13261.301133   \n2  (2, 1, 0, 0)  13707.828922   \n3  (0, 1, 0, 0)  13768.459357   \n4  (2, 0, 2, 0)  13771.587086   \n5  (0, 0, 2, 0)  13832.217521   \n6  (2, 1, 2, 0)  13847.168387   \n7  (2, 0, 3, 0)  13859.400446   \n8  (2, 3, 0, 0)  13904.395805   \n9  (2, 3, 3, 0)  13906.704500   \n\n                                                                       pathCosts  \n0  [4619.049646440211, 5208.344320769946, 4349.129699336236, 5629.324222812856]   \n1  [3040.020833333333, 5208.344320769946, 4349.129699336236, 5629.324222812856]   \n2  [4619.049646440211, 5715.5025446598775, 4349.129699336236, 5629.324222812856]  \n3  [3040.020833333333, 5715.5025446598775, 4349.129699336236, 5629.324222812856]  \n4  [4619.049646440211, 5208.344320769946, 4920.046087296103, 5629.324222812856]   \n5  [3040.020833333333, 5208.344320769946, 4920.046087296103, 5629.324222812856]   \n6  [4619.049646440211, 5715.5025446598775, 4920.046087296103, 5629.324222812856]  \n7  [4619.049646440211, 5208.344320769946, 5007.859447619989, 5629.324222812856]   \n8  [4619.049646440211, 5912.069427455579, 4349.129699336236, 5629.324222812856]   \n9  [4619.049646440211, 5912.069427455579, 5007.859447619989, 5629.324222812856]   ",
      "text/html": "<div>\n<style scoped>\n    .dataframe tbody tr th:only-of-type {\n        vertical-align: middle;\n    }\n\n    .dataframe tbody tr th {\n        vertical-align: top;\n    }\n\n    .dataframe thead th {\n        text-align: right;\n    }\n</style>\n<table border=\"1\" class=\"dataframe\">\n  <thead>\n    <tr style=\"text-align: right;\">\n      <th></th>\n      <th>solutionIndex</th>\n      <th>totalCost</th>\n      <th>pathCosts</th>\n    </tr>\n  </thead>\n  <tbody>\n    <tr>\n      <th>0</th>\n      <td>(2, 0, 0, 0)</td>\n      <td>13200.670698</td>\n      <td>[4619.049646440211, 5208.344320769946, 4349.129699336236, 5629.324222812856]</td>\n    </tr>\n    <tr>\n      <th>1</th>\n      <td>(0, 0, 0, 0)</td>\n      <td>13261.301133</td>\n      <td>[3040.020833333333, 5208.344320769946, 4349.129699336236, 5629.324222812856]</td>\n    </tr>\n    <tr>\n      <th>2</th>\n      <td>(2, 1, 0, 0)</td>\n      <td>13707.828922</td>\n      <td>[4619.049646440211, 5715.5025446598775, 4349.129699336236, 5629.324222812856]</td>\n    </tr>\n    <tr>\n      <th>3</th>\n      <td>(0, 1, 0, 0)</td>\n      <td>13768.459357</td>\n      <td>[3040.020833333333, 5715.5025446598775, 4349.129699336236, 5629.324222812856]</td>\n    </tr>\n    <tr>\n      <th>4</th>\n      <td>(2, 0, 2, 0)</td>\n      <td>13771.587086</td>\n      <td>[4619.049646440211, 5208.344320769946, 4920.046087296103, 5629.324222812856]</td>\n    </tr>\n    <tr>\n      <th>5</th>\n      <td>(0, 0, 2, 0)</td>\n      <td>13832.217521</td>\n      <td>[3040.020833333333, 5208.344320769946, 4920.046087296103, 5629.324222812856]</td>\n    </tr>\n    <tr>\n      <th>6</th>\n      <td>(2, 1, 2, 0)</td>\n      <td>13847.168387</td>\n      <td>[4619.049646440211, 5715.5025446598775, 4920.046087296103, 5629.324222812856]</td>\n    </tr>\n    <tr>\n      <th>7</th>\n      <td>(2, 0, 3, 0)</td>\n      <td>13859.400446</td>\n      <td>[4619.049646440211, 5208.344320769946, 5007.859447619989, 5629.324222812856]</td>\n    </tr>\n    <tr>\n      <th>8</th>\n      <td>(2, 3, 0, 0)</td>\n      <td>13904.395805</td>\n      <td>[4619.049646440211, 5912.069427455579, 4349.129699336236, 5629.324222812856]</td>\n    </tr>\n    <tr>\n      <th>9</th>\n      <td>(2, 3, 3, 0)</td>\n      <td>13906.704500</td>\n      <td>[4619.049646440211, 5912.069427455579, 5007.859447619989, 5629.324222812856]</td>\n    </tr>\n  </tbody>\n</table>\n</div>"
     },
     "execution_count": 214,
     "metadata": {},
     "output_type": "execute_result"
    }
   ],
   "source": [
    "top_k_df = top_k_solutions_from_names(g, source_airport_names, target_airport_name, max_avg_time=6000.0)\n",
    "top_k_df[['solutionIndex', 'totalCost', 'pathCosts']]"
   ],
   "metadata": {
    "collapsed": false,
    "pycharm": {
     "name": "#%%\n"
    }
   }
  },
  {
   "cell_type": "code",
   "execution_count": 215,
   "outputs": [
    {
     "data": {
      "text/plain": "Empty DataFrame\nColumns: []\nIndex: []",
      "text/html": "<div>\n<style scoped>\n    .dataframe tbody tr th:only-of-type {\n        vertical-align: middle;\n    }\n\n    .dataframe tbody tr th {\n        vertical-align: top;\n    }\n\n    .dataframe thead th {\n        text-align: right;\n    }\n</style>\n<table border=\"1\" class=\"dataframe\">\n  <thead>\n    <tr style=\"text-align: right;\">\n      <th></th>\n    </tr>\n  </thead>\n  <tbody>\n  </tbody>\n</table>\n</div>"
     },
     "execution_count": 215,
     "metadata": {},
     "output_type": "execute_result"
    }
   ],
   "source": [
    "def format_nodes_and_rels(relationships):\n",
    "    records = []\n",
    "    for r in relationships:\n",
    "        records.append({'sourceNodeId': r.start_node.id, 'targetNodeId': r.end_node.id, 'cost': r.get('cost')})\n",
    "    rel_df = pd.DataFrame.from_records(records)\n",
    "    return pd.DataFrame(set(rel_df.sourceNodeId).union(rel_df.targetNodeId), columns = ['nodeId']), rel_df\n",
    "\n",
    "node_df, rels_df  = format_nodes_and_rels(top_k_df.relationships[0])\n",
    "gds.run_cypher('''\n",
    "        UNWIND $rels AS rels\n",
    "        WITH toInteger(rels.sourceNodeId) AS sourceNodeId,\n",
    "            toInteger(rels.targetNodeId) AS targetNodeId,\n",
    "            rels.cost AS cost\n",
    "        MATCH(n1) WHERE id(n1) = sourceNodeId\n",
    "        MATCH(n2) WHERE id(n2) = targetNodeId\n",
    "        MERGE(n1)-[r:BEST_YENS_PATH {cost: cost}]->(n2)\n",
    "''', params ={'rels': rels_df.to_dict('records')})"
   ],
   "metadata": {
    "collapsed": false,
    "pycharm": {
     "name": "#%%\n"
    }
   }
  },
  {
   "cell_type": "code",
   "execution_count": 216,
   "outputs": [
    {
     "data": {
      "text/plain": "Empty DataFrame\nColumns: []\nIndex: []",
      "text/html": "<div>\n<style scoped>\n    .dataframe tbody tr th:only-of-type {\n        vertical-align: middle;\n    }\n\n    .dataframe tbody tr th {\n        vertical-align: top;\n    }\n\n    .dataframe thead th {\n        text-align: right;\n    }\n</style>\n<table border=\"1\" class=\"dataframe\">\n  <thead>\n    <tr style=\"text-align: right;\">\n      <th></th>\n    </tr>\n  </thead>\n  <tbody>\n  </tbody>\n</table>\n</div>"
     },
     "execution_count": 216,
     "metadata": {},
     "output_type": "execute_result"
    }
   ],
   "source": [
    "gds.run_cypher('MATCH()-[r:BEST_YENS_PATH]->() DELETE r')"
   ],
   "metadata": {
    "collapsed": false,
    "pycharm": {
     "name": "#%%\n"
    }
   }
  }
 ],
 "metadata": {
  "kernelspec": {
   "display_name": "Python 3 (ipykernel)",
   "language": "python",
   "name": "python3"
  },
  "language_info": {
   "codemirror_mode": {
    "name": "ipython",
    "version": 3
   },
   "file_extension": ".py",
   "mimetype": "text/x-python",
   "name": "python",
   "nbconvert_exporter": "python",
   "pygments_lexer": "ipython3",
   "version": "3.8.2"
  }
 },
 "nbformat": 4,
 "nbformat_minor": 1
}