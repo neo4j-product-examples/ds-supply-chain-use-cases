{
 "cells": [
  {
   "cell_type": "markdown",
   "source": [
    "# Graph Data Science for Supply Chain: Part III\n",
    "## Path Finding, Optimization, and Recommendation for Supply Chain and Logistics\n",
    "\n",
    "This notebook covers the use of GDS to find shortest routes and feed downstreem optimization and recommendation for logistics and supply chain networks.\n",
    "\n",
    "\n",
    "For a sample dataset we will use the “Cargo 2000” transport and logistics case study [[1]](#1). Cargo 2000 (re-branded as Cargo iQ in 2016) is an initiative of the International Air Transport Association (IATA) that aims to deliver a new quality management system for the air cargo industry.logistics-diagram.png\n",
    "\n",
    "The below figure shows a model of the business processes covered in the IATA case study. It represents the business processes of a freight forwarding company, in which up to three smaller shipments from suppliers are consolidated and then shipped together to customers. The business process is structured into incoming and outgoing transport legs, with the overall objective that freight is delivered to customers in a timely manner.  You can find out more about the business model in the [first blog of this series](https://neo4j.com/developer-blog/supply-chain-neo4j-gds-bloom/) where we explored the dataset in Neo4j Bloom or from the [original data source]( https://s-cube-network.eu/c2k/).\n",
    "\n",
    "<img src=\"img/logistics-diagram.png\" alt=\"summary\" width=\"1000\"/>\n",
    "\n",
    "\n",
    "## Prerequisites\n",
    "- Neo4j >= 4.3\n",
    "- GDS >= 2.0\n",
    "- The Cargo 2000 case study dataset loaded into a Neo4j database. There is a notebook to generate the Neo4j database [here](https://github.com/neo4j-product-examples/demo-supply-chain-logistics/blob/main/airplane-cargo/part1/transform-and-load.ipynb).\n",
    "\n",
    "## References\n",
    "<a id=\"1\">[1]</a> A. Metzger, P. Leitner, D. Ivanovic, E. Schmieders, R. Franklin, M. Carro, S. Dustdar, and K. Pohl, “ Comparing and combining predictive business process monitoring techniques,” IEEE Trans. on Systems Man Cybernetics: Systems, 2015."
   ],
   "metadata": {
    "collapsed": false,
    "pycharm": {
     "name": "#%% md\n"
    }
   }
  },
  {
   "cell_type": "code",
   "execution_count": 1,
   "outputs": [],
   "source": [
    "import pandas as pd\n",
    "import numpy as np\n",
    "import matplotlib.pyplot as plt\n",
    "import ds_utils"
   ],
   "metadata": {
    "collapsed": false,
    "pycharm": {
     "name": "#%%\n"
    }
   }
  },
  {
   "cell_type": "code",
   "execution_count": 2,
   "metadata": {
    "pycharm": {
     "name": "#%%\n"
    }
   },
   "outputs": [],
   "source": [
    "from graphdatascience import GraphDataScience\n",
    "\n",
    "# Use Neo4j URI and credentials according to your setup\n",
    "gds = GraphDataScience('neo4j://localhost', auth=('neo4j', 'neo'))"
   ]
  },
  {
   "cell_type": "markdown",
   "metadata": {
    "pycharm": {
     "name": "#%% md\n"
    }
   },
   "source": [
    "## Understanding Historic Shipments\n",
    "In the last two parts of this series we have primarily worked with a collapsed form of the network using the SENDS_TO relationship.  In this part, since we are concerned with specific routes, we will work with the full data model depicted below.\n",
    "\n",
    "<img src=\"img/c2k-schema.png\" alt=\"summary\" width=\"1000\"/>\n"
   ]
  },
  {
   "cell_type": "markdown",
   "source": [
    "With this data model it is fairly simple to pull the distribution of total minutes for historic shipment legs with Cypher.  Below is a distribution of total time for legs going from Moodytown to Davisfort, one of the most common routes.  You can see the [notebook] if you are interested in understanding the Cypher query used."
   ],
   "metadata": {
    "collapsed": false,
    "pycharm": {
     "name": "#%% md\n"
    }
   }
  },
  {
   "cell_type": "code",
   "execution_count": 3,
   "outputs": [
    {
     "data": {
      "text/plain": "    incomingLegId  outgoingLegId  shipmentId  incomingMinutes  \\\n0             123           8502        1490             1292   \n1            1430           8403        1067             6235   \n2            2601            657        1145             7592   \n3            2617          14366         605             1117   \n4            2941           7910        1323             1902   \n..            ...            ...         ...              ...   \n79          10934           6792        2633              553   \n80          10942           7971        1267             2630   \n81          11019          14532         160              722   \n82          11127           6299        3167             3486   \n83          13331           2405         775             2814   \n\n    outgoingMinutes  totalMinutes  \n0              3698          4990  \n1              9926         16161  \n2              5359         12951  \n3              2161          3278  \n4              1612          3514  \n..              ...           ...  \n79             6514          7067  \n80             2377          5007  \n81             4305          5027  \n82             1734          5220  \n83             2119          4933  \n\n[84 rows x 6 columns]",
      "text/html": "<div>\n<style scoped>\n    .dataframe tbody tr th:only-of-type {\n        vertical-align: middle;\n    }\n\n    .dataframe tbody tr th {\n        vertical-align: top;\n    }\n\n    .dataframe thead th {\n        text-align: right;\n    }\n</style>\n<table border=\"1\" class=\"dataframe\">\n  <thead>\n    <tr style=\"text-align: right;\">\n      <th></th>\n      <th>incomingLegId</th>\n      <th>outgoingLegId</th>\n      <th>shipmentId</th>\n      <th>incomingMinutes</th>\n      <th>outgoingMinutes</th>\n      <th>totalMinutes</th>\n    </tr>\n  </thead>\n  <tbody>\n    <tr>\n      <th>0</th>\n      <td>123</td>\n      <td>8502</td>\n      <td>1490</td>\n      <td>1292</td>\n      <td>3698</td>\n      <td>4990</td>\n    </tr>\n    <tr>\n      <th>1</th>\n      <td>1430</td>\n      <td>8403</td>\n      <td>1067</td>\n      <td>6235</td>\n      <td>9926</td>\n      <td>16161</td>\n    </tr>\n    <tr>\n      <th>2</th>\n      <td>2601</td>\n      <td>657</td>\n      <td>1145</td>\n      <td>7592</td>\n      <td>5359</td>\n      <td>12951</td>\n    </tr>\n    <tr>\n      <th>3</th>\n      <td>2617</td>\n      <td>14366</td>\n      <td>605</td>\n      <td>1117</td>\n      <td>2161</td>\n      <td>3278</td>\n    </tr>\n    <tr>\n      <th>4</th>\n      <td>2941</td>\n      <td>7910</td>\n      <td>1323</td>\n      <td>1902</td>\n      <td>1612</td>\n      <td>3514</td>\n    </tr>\n    <tr>\n      <th>...</th>\n      <td>...</td>\n      <td>...</td>\n      <td>...</td>\n      <td>...</td>\n      <td>...</td>\n      <td>...</td>\n    </tr>\n    <tr>\n      <th>79</th>\n      <td>10934</td>\n      <td>6792</td>\n      <td>2633</td>\n      <td>553</td>\n      <td>6514</td>\n      <td>7067</td>\n    </tr>\n    <tr>\n      <th>80</th>\n      <td>10942</td>\n      <td>7971</td>\n      <td>1267</td>\n      <td>2630</td>\n      <td>2377</td>\n      <td>5007</td>\n    </tr>\n    <tr>\n      <th>81</th>\n      <td>11019</td>\n      <td>14532</td>\n      <td>160</td>\n      <td>722</td>\n      <td>4305</td>\n      <td>5027</td>\n    </tr>\n    <tr>\n      <th>82</th>\n      <td>11127</td>\n      <td>6299</td>\n      <td>3167</td>\n      <td>3486</td>\n      <td>1734</td>\n      <td>5220</td>\n    </tr>\n    <tr>\n      <th>83</th>\n      <td>13331</td>\n      <td>2405</td>\n      <td>775</td>\n      <td>2814</td>\n      <td>2119</td>\n      <td>4933</td>\n    </tr>\n  </tbody>\n</table>\n<p>84 rows × 6 columns</p>\n</div>"
     },
     "execution_count": 3,
     "metadata": {},
     "output_type": "execute_result"
    }
   ],
   "source": [
    "# Calculate distribution for a single path\n",
    "source_airport_id = 815 #'Moodytown'\n",
    "target_airport_id = 700 #'Davisfort'\n",
    "moodytown_davisfort_df = gds.run_cypher('''\n",
    "    //match incoming legIds (leg numbers are > 0)\n",
    "    MATCH(:EntryPoint {airportId: $sourceAirportId})-[r:RECEPTION]->() WHERE r.legNumber > 0\n",
    "    WITH r.legId AS incomingLegId, r.shipmentId AS shipmentId\n",
    "    //filter to only shipmentIds that go to target airport\n",
    "    MATCH()-[:DELIVERY {shipmentId:shipmentId}]->(:Destination {airportId: $targetAirportId})\n",
    "    WITH incomingLegId, shipmentId\n",
    "    //incoming relationships\n",
    "    MATCH()-[r {legId: incomingLegId}]->()\n",
    "    WITH incomingLegId, shipmentId, sum(r.effectiveMinutes) AS incomingMinutes\n",
    "    //outgoing relationships (leg numbers are < 0)\n",
    "    MATCH()-[r {shipmentId: shipmentId}]->() WHERE r.legNumber < 0\n",
    "    WITH incomingLegId, r.legId AS outgoingLegId, shipmentId, incomingMinutes, sum(r.effectiveMinutes) AS outgoingMinutes\n",
    "    //sum all results on return\n",
    "    RETURN incomingLegId, outgoingLegId, shipmentId, incomingMinutes, outgoingMinutes, (incomingMinutes + outgoingMinutes) AS totalMinutes\n",
    "    ORDER BY incomingLegId\n",
    "''', params = {'sourceAirportId': source_airport_id, 'targetAirportId': target_airport_id})\n",
    "moodytown_davisfort_df"
   ],
   "metadata": {
    "collapsed": false,
    "pycharm": {
     "name": "#%%\n"
    }
   }
  },
  {
   "cell_type": "code",
   "execution_count": 4,
   "outputs": [
    {
     "data": {
      "text/plain": "<Figure size 432x288 with 1 Axes>",
      "image/png": "[encoded data removed]"
     },
     "metadata": {
      "needs_background": "light"
     },
     "output_type": "display_data"
    },
    {
     "name": "stdout",
     "output_type": "stream",
     "text": [
      "Mean Duration: 7741.5\n"
     ]
    }
   ],
   "source": [
    "def get_percentiles(s, q=None):\n",
    "    if q is None:\n",
    "        q = [0.1, 0.25, 0.5, 0.75, 0.9, 0.95, 0.99]\n",
    "    q_name = ['min'] + [f'p{int(100*i)}' for i in q] + ['max']\n",
    "    p = [s.min()] + [round(s.quantile(i)) for i in q] + [s.max()]\n",
    "    p_df = pd.DataFrame(np.column_stack((q_name, p)), columns=['q', 'percentile'])\n",
    "    return p_df.set_index('q')\n",
    "\n",
    "plt.hist(moodytown_davisfort_df.totalMinutes, bins=max(round(moodytown_davisfort_df.shape[0]/3),5))\n",
    "plt.title('Shipment Duration Distribution')\n",
    "plt.ylabel('Frequency')\n",
    "plt.xlabel('Duration (in Minutes)')\n",
    "plt.figtext(0.7, 0.4, get_percentiles(moodytown_davisfort_df.totalMinutes).to_string())\n",
    "plt.show()\n",
    "print(f'Mean Duration: {round(moodytown_davisfort_df.totalMinutes.mean(),1)}')"
   ],
   "metadata": {
    "collapsed": false,
    "pycharm": {
     "name": "#%%\n"
    }
   }
  },
  {
   "cell_type": "markdown",
   "source": [
    "## Find Shortest Routes with GDS Path Finding"
   ],
   "metadata": {
    "collapsed": false,
    "pycharm": {
     "name": "#%% md\n"
    }
   }
  },
  {
   "cell_type": "code",
   "execution_count": 8,
   "outputs": [
    {
     "data": {
      "text/plain": "nodeQuery            MATCH(n)\\n   WHERE n:EntryPoint OR n:Departure...\nrelationshipQuery    MATCH(n0)-[r:RECEPTION|DEPARTURE|TRANSPORT|DEL...\ngraphName                                                         proj\nnodeCount                                                         1422\nrelationshipCount                                                 2024\nprojectMillis                                                       41\nName: 0, dtype: object"
     },
     "execution_count": 8,
     "metadata": {},
     "output_type": "execute_result"
    }
   ],
   "source": [
    "g, _ = gds.graph.project.cypher('proj',\n",
    "    '''\n",
    "   MATCH(n)\n",
    "   WHERE n:EntryPoint OR n:DepartureWarehouse OR n:DeparturePoint OR n:ArrivalWarehouse OR n:TransferPoint OR n:Destination\n",
    "   RETURN id(n) as id, labels(n) as labels\n",
    "   '''\n",
    "    ,\n",
    "    '''\n",
    "    MATCH(n0)-[r:RECEPTION|DEPARTURE|TRANSPORT|DELIVERY]->(n1)\n",
    "    RETURN id(n0) AS source, id(n1) AS target, type(r) AS type, avg(r.effectiveMinutes) AS averageEffectiveMinutes\n",
    "    '''\n",
    ")\n",
    "_"
   ],
   "metadata": {
    "collapsed": false,
    "pycharm": {
     "name": "#%%\n"
    }
   }
  },
  {
   "cell_type": "code",
   "execution_count": 9,
   "outputs": [],
   "source": [
    "source_airport_name = 'Moodytown'\n",
    "target_airport_name = 'Davisfort'\n",
    "source_node_id = gds.find_node_id(['EntryPoint'], {'name': source_airport_name})\n",
    "target_node_id = gds.find_node_id(['Destination'], {'name': target_airport_name})\n",
    "yen_df = gds.shortestPath.yens.stream(g, sourceNode=source_node_id, targetNode=target_node_id, k=15, relationshipWeightProperty='averageEffectiveMinutes')"
   ],
   "metadata": {
    "collapsed": false,
    "pycharm": {
     "name": "#%%\n"
    }
   }
  },
  {
   "cell_type": "code",
   "execution_count": 10,
   "outputs": [
    {
     "data": {
      "text/plain": "                                          airportPath  approximatedAvgCost\n0                              Moodytown -> Davisfort          3743.273964\n1               Moodytown -> Michaelstad -> Davisfort          4409.658716\n2              Moodytown -> Wandaborough -> Davisfort          4588.759270\n3               Moodytown -> Matthewport -> Davisfort          4617.841660\n4                 Moodytown -> Bryanside -> Davisfort          4696.503596\n5                 Moodytown -> Shanefort -> Davisfort          4798.854341\n6               Moodytown -> Langborough -> Davisfort          4861.601065\n7   Moodytown -> Ramoshaven -> Wandaborough -> Dav...          5064.466587\n8   Moodytown -> Wandaborough -> Michaelstad -> Da...          5167.685402\n9    Moodytown -> Lisaton -> Michaelstad -> Davisfort          5274.477692\n10  Moodytown -> Wandaborough -> Matthewport -> Da...          5292.405734\n11  Moodytown -> Ramoshaven -> Shanefort -> Davisfort          5306.012565\n12  Moodytown -> Wandaborough -> Bryanside -> Davi...          5361.076441\n13              Moodytown -> Amandamouth -> Davisfort          5377.828626\n14  Moodytown -> Grayshire -> Michaelstad -> Davis...          5399.189040",
      "text/html": "<div>\n<style scoped>\n    .dataframe tbody tr th:only-of-type {\n        vertical-align: middle;\n    }\n\n    .dataframe tbody tr th {\n        vertical-align: top;\n    }\n\n    .dataframe thead th {\n        text-align: right;\n    }\n</style>\n<table border=\"1\" class=\"dataframe\">\n  <thead>\n    <tr style=\"text-align: right;\">\n      <th></th>\n      <th>airportPath</th>\n      <th>approximatedAvgCost</th>\n    </tr>\n  </thead>\n  <tbody>\n    <tr>\n      <th>0</th>\n      <td>Moodytown -&gt; Davisfort</td>\n      <td>3743.273964</td>\n    </tr>\n    <tr>\n      <th>1</th>\n      <td>Moodytown -&gt; Michaelstad -&gt; Davisfort</td>\n      <td>4409.658716</td>\n    </tr>\n    <tr>\n      <th>2</th>\n      <td>Moodytown -&gt; Wandaborough -&gt; Davisfort</td>\n      <td>4588.759270</td>\n    </tr>\n    <tr>\n      <th>3</th>\n      <td>Moodytown -&gt; Matthewport -&gt; Davisfort</td>\n      <td>4617.841660</td>\n    </tr>\n    <tr>\n      <th>4</th>\n      <td>Moodytown -&gt; Bryanside -&gt; Davisfort</td>\n      <td>4696.503596</td>\n    </tr>\n    <tr>\n      <th>5</th>\n      <td>Moodytown -&gt; Shanefort -&gt; Davisfort</td>\n      <td>4798.854341</td>\n    </tr>\n    <tr>\n      <th>6</th>\n      <td>Moodytown -&gt; Langborough -&gt; Davisfort</td>\n      <td>4861.601065</td>\n    </tr>\n    <tr>\n      <th>7</th>\n      <td>Moodytown -&gt; Ramoshaven -&gt; Wandaborough -&gt; Dav...</td>\n      <td>5064.466587</td>\n    </tr>\n    <tr>\n      <th>8</th>\n      <td>Moodytown -&gt; Wandaborough -&gt; Michaelstad -&gt; Da...</td>\n      <td>5167.685402</td>\n    </tr>\n    <tr>\n      <th>9</th>\n      <td>Moodytown -&gt; Lisaton -&gt; Michaelstad -&gt; Davisfort</td>\n      <td>5274.477692</td>\n    </tr>\n    <tr>\n      <th>10</th>\n      <td>Moodytown -&gt; Wandaborough -&gt; Matthewport -&gt; Da...</td>\n      <td>5292.405734</td>\n    </tr>\n    <tr>\n      <th>11</th>\n      <td>Moodytown -&gt; Ramoshaven -&gt; Shanefort -&gt; Davisfort</td>\n      <td>5306.012565</td>\n    </tr>\n    <tr>\n      <th>12</th>\n      <td>Moodytown -&gt; Wandaborough -&gt; Bryanside -&gt; Davi...</td>\n      <td>5361.076441</td>\n    </tr>\n    <tr>\n      <th>13</th>\n      <td>Moodytown -&gt; Amandamouth -&gt; Davisfort</td>\n      <td>5377.828626</td>\n    </tr>\n    <tr>\n      <th>14</th>\n      <td>Moodytown -&gt; Grayshire -&gt; Michaelstad -&gt; Davis...</td>\n      <td>5399.189040</td>\n    </tr>\n  </tbody>\n</table>\n</div>"
     },
     "execution_count": 10,
     "metadata": {},
     "output_type": "execute_result"
    }
   ],
   "source": [
    "def get_airport_names(p):\n",
    "    return ' -> '.join(list(dict.fromkeys([node.get('name') for node in p.nodes])))\n",
    "yen_df['airportPath'] = yen_df.path.apply(get_airport_names)\n",
    "top_path_df = yen_df[['airportPath', 'totalCost']].rename(columns={'totalCost':'approximatedAvgCost'})\n",
    "top_path_df"
   ],
   "metadata": {
    "collapsed": false,
    "pycharm": {
     "name": "#%%\n"
    }
   }
  },
  {
   "cell_type": "code",
   "execution_count": 11,
   "outputs": [
    {
     "data": {
      "text/plain": "                                          airportPath  approximatedAvgCost  \\\n0                              Moodytown -> Davisfort          3743.273964   \n1               Moodytown -> Michaelstad -> Davisfort          4409.658716   \n2              Moodytown -> Wandaborough -> Davisfort          4588.759270   \n3               Moodytown -> Matthewport -> Davisfort          4617.841660   \n4                 Moodytown -> Bryanside -> Davisfort          4696.503596   \n5                 Moodytown -> Shanefort -> Davisfort          4798.854341   \n6               Moodytown -> Langborough -> Davisfort          4861.601065   \n7   Moodytown -> Ramoshaven -> Wandaborough -> Dav...          5064.466587   \n8   Moodytown -> Wandaborough -> Michaelstad -> Da...          5167.685402   \n9    Moodytown -> Lisaton -> Michaelstad -> Davisfort          5274.477692   \n10  Moodytown -> Wandaborough -> Matthewport -> Da...          5292.405734   \n11  Moodytown -> Ramoshaven -> Shanefort -> Davisfort          5306.012565   \n12  Moodytown -> Wandaborough -> Bryanside -> Davi...          5361.076441   \n13              Moodytown -> Amandamouth -> Davisfort          5377.828626   \n14  Moodytown -> Grayshire -> Michaelstad -> Davis...          5399.189040   \n15                Moodytown -> Scotttown -> Davisfort                  NaN   \n16            Moodytown -> Amandachester -> Davisfort                  NaN   \n17                Moodytown -> Simonfurt -> Davisfort                  NaN   \n18               Moodytown -> Alvarezton -> Davisfort                  NaN   \n19                Moodytown -> Sonyafort -> Davisfort                  NaN   \n20  Moodytown -> Davisfort -> Staceyshire -> Davis...                  NaN   \n21                 Moodytown -> Erictown -> Davisfort                  NaN   \n22                Moodytown -> Evansfort -> Davisfort                  NaN   \n\n    historicPathCount  historicAvgCost  historicCostStd  \\\n0                 NaN              NaN              NaN   \n1                48.0      4197.187500      1729.899538   \n2                 1.0      5007.000000         0.000000   \n3                 NaN              NaN              NaN   \n4                 NaN              NaN              NaN   \n5                 5.0      5768.000000      2057.876211   \n6                 1.0      3514.000000         0.000000   \n7                 NaN              NaN              NaN   \n8                 NaN              NaN              NaN   \n9                 NaN              NaN              NaN   \n10                NaN              NaN              NaN   \n11                NaN              NaN              NaN   \n12                NaN              NaN              NaN   \n13                3.0     32374.666667     23454.058505   \n14                NaN              NaN              NaN   \n15               11.0      7239.272727      2334.050046   \n16                5.0      9642.400000      3091.773488   \n17                4.0     31136.500000     15181.952894   \n18                2.0      4255.000000      1039.446968   \n19                1.0      4933.000000         0.000000   \n20                1.0     16161.000000         0.000000   \n21                1.0     12286.000000         0.000000   \n22                1.0     20054.000000         0.000000   \n\n                                        historicCosts  \n0                                                 NaN  \n1   [5962, 2853, 2683, 3135, 4258, 3278, 2953, 286...  \n2                                              [5007]  \n3                                                 NaN  \n4                                                 NaN  \n5                      [7522, 3379, 3754, 6549, 7636]  \n6                                              [3514]  \n7                                                 NaN  \n8                                                 NaN  \n9                                                 NaN  \n10                                                NaN  \n11                                                NaN  \n12                                                NaN  \n13                               [5739, 41450, 49935]  \n14                                                NaN  \n15  [5281, 8594, 12205, 3746, 7395, 7078, 5423, 85...  \n16                   [9718, 6704, 12465, 12951, 6374]  \n17                       [48601, 19817, 17122, 39006]  \n18                                       [3520, 4990]  \n19                                             [4933]  \n20                                            [16161]  \n21                                            [12286]  \n22                                            [20054]  ",
      "text/html": "<div>\n<style scoped>\n    .dataframe tbody tr th:only-of-type {\n        vertical-align: middle;\n    }\n\n    .dataframe tbody tr th {\n        vertical-align: top;\n    }\n\n    .dataframe thead th {\n        text-align: right;\n    }\n</style>\n<table border=\"1\" class=\"dataframe\">\n  <thead>\n    <tr style=\"text-align: right;\">\n      <th></th>\n      <th>airportPath</th>\n      <th>approximatedAvgCost</th>\n      <th>historicPathCount</th>\n      <th>historicAvgCost</th>\n      <th>historicCostStd</th>\n      <th>historicCosts</th>\n    </tr>\n  </thead>\n  <tbody>\n    <tr>\n      <th>0</th>\n      <td>Moodytown -&gt; Davisfort</td>\n      <td>3743.273964</td>\n      <td>NaN</td>\n      <td>NaN</td>\n      <td>NaN</td>\n      <td>NaN</td>\n    </tr>\n    <tr>\n      <th>1</th>\n      <td>Moodytown -&gt; Michaelstad -&gt; Davisfort</td>\n      <td>4409.658716</td>\n      <td>48.0</td>\n      <td>4197.187500</td>\n      <td>1729.899538</td>\n      <td>[5962, 2853, 2683, 3135, 4258, 3278, 2953, 286...</td>\n    </tr>\n    <tr>\n      <th>2</th>\n      <td>Moodytown -&gt; Wandaborough -&gt; Davisfort</td>\n      <td>4588.759270</td>\n      <td>1.0</td>\n      <td>5007.000000</td>\n      <td>0.000000</td>\n      <td>[5007]</td>\n    </tr>\n    <tr>\n      <th>3</th>\n      <td>Moodytown -&gt; Matthewport -&gt; Davisfort</td>\n      <td>4617.841660</td>\n      <td>NaN</td>\n      <td>NaN</td>\n      <td>NaN</td>\n      <td>NaN</td>\n    </tr>\n    <tr>\n      <th>4</th>\n      <td>Moodytown -&gt; Bryanside -&gt; Davisfort</td>\n      <td>4696.503596</td>\n      <td>NaN</td>\n      <td>NaN</td>\n      <td>NaN</td>\n      <td>NaN</td>\n    </tr>\n    <tr>\n      <th>5</th>\n      <td>Moodytown -&gt; Shanefort -&gt; Davisfort</td>\n      <td>4798.854341</td>\n      <td>5.0</td>\n      <td>5768.000000</td>\n      <td>2057.876211</td>\n      <td>[7522, 3379, 3754, 6549, 7636]</td>\n    </tr>\n    <tr>\n      <th>6</th>\n      <td>Moodytown -&gt; Langborough -&gt; Davisfort</td>\n      <td>4861.601065</td>\n      <td>1.0</td>\n      <td>3514.000000</td>\n      <td>0.000000</td>\n      <td>[3514]</td>\n    </tr>\n    <tr>\n      <th>7</th>\n      <td>Moodytown -&gt; Ramoshaven -&gt; Wandaborough -&gt; Dav...</td>\n      <td>5064.466587</td>\n      <td>NaN</td>\n      <td>NaN</td>\n      <td>NaN</td>\n      <td>NaN</td>\n    </tr>\n    <tr>\n      <th>8</th>\n      <td>Moodytown -&gt; Wandaborough -&gt; Michaelstad -&gt; Da...</td>\n      <td>5167.685402</td>\n      <td>NaN</td>\n      <td>NaN</td>\n      <td>NaN</td>\n      <td>NaN</td>\n    </tr>\n    <tr>\n      <th>9</th>\n      <td>Moodytown -&gt; Lisaton -&gt; Michaelstad -&gt; Davisfort</td>\n      <td>5274.477692</td>\n      <td>NaN</td>\n      <td>NaN</td>\n      <td>NaN</td>\n      <td>NaN</td>\n    </tr>\n    <tr>\n      <th>10</th>\n      <td>Moodytown -&gt; Wandaborough -&gt; Matthewport -&gt; Da...</td>\n      <td>5292.405734</td>\n      <td>NaN</td>\n      <td>NaN</td>\n      <td>NaN</td>\n      <td>NaN</td>\n    </tr>\n    <tr>\n      <th>11</th>\n      <td>Moodytown -&gt; Ramoshaven -&gt; Shanefort -&gt; Davisfort</td>\n      <td>5306.012565</td>\n      <td>NaN</td>\n      <td>NaN</td>\n      <td>NaN</td>\n      <td>NaN</td>\n    </tr>\n    <tr>\n      <th>12</th>\n      <td>Moodytown -&gt; Wandaborough -&gt; Bryanside -&gt; Davi...</td>\n      <td>5361.076441</td>\n      <td>NaN</td>\n      <td>NaN</td>\n      <td>NaN</td>\n      <td>NaN</td>\n    </tr>\n    <tr>\n      <th>13</th>\n      <td>Moodytown -&gt; Amandamouth -&gt; Davisfort</td>\n      <td>5377.828626</td>\n      <td>3.0</td>\n      <td>32374.666667</td>\n      <td>23454.058505</td>\n      <td>[5739, 41450, 49935]</td>\n    </tr>\n    <tr>\n      <th>14</th>\n      <td>Moodytown -&gt; Grayshire -&gt; Michaelstad -&gt; Davis...</td>\n      <td>5399.189040</td>\n      <td>NaN</td>\n      <td>NaN</td>\n      <td>NaN</td>\n      <td>NaN</td>\n    </tr>\n    <tr>\n      <th>15</th>\n      <td>Moodytown -&gt; Scotttown -&gt; Davisfort</td>\n      <td>NaN</td>\n      <td>11.0</td>\n      <td>7239.272727</td>\n      <td>2334.050046</td>\n      <td>[5281, 8594, 12205, 3746, 7395, 7078, 5423, 85...</td>\n    </tr>\n    <tr>\n      <th>16</th>\n      <td>Moodytown -&gt; Amandachester -&gt; Davisfort</td>\n      <td>NaN</td>\n      <td>5.0</td>\n      <td>9642.400000</td>\n      <td>3091.773488</td>\n      <td>[9718, 6704, 12465, 12951, 6374]</td>\n    </tr>\n    <tr>\n      <th>17</th>\n      <td>Moodytown -&gt; Simonfurt -&gt; Davisfort</td>\n      <td>NaN</td>\n      <td>4.0</td>\n      <td>31136.500000</td>\n      <td>15181.952894</td>\n      <td>[48601, 19817, 17122, 39006]</td>\n    </tr>\n    <tr>\n      <th>18</th>\n      <td>Moodytown -&gt; Alvarezton -&gt; Davisfort</td>\n      <td>NaN</td>\n      <td>2.0</td>\n      <td>4255.000000</td>\n      <td>1039.446968</td>\n      <td>[3520, 4990]</td>\n    </tr>\n    <tr>\n      <th>19</th>\n      <td>Moodytown -&gt; Sonyafort -&gt; Davisfort</td>\n      <td>NaN</td>\n      <td>1.0</td>\n      <td>4933.000000</td>\n      <td>0.000000</td>\n      <td>[4933]</td>\n    </tr>\n    <tr>\n      <th>20</th>\n      <td>Moodytown -&gt; Davisfort -&gt; Staceyshire -&gt; Davis...</td>\n      <td>NaN</td>\n      <td>1.0</td>\n      <td>16161.000000</td>\n      <td>0.000000</td>\n      <td>[16161]</td>\n    </tr>\n    <tr>\n      <th>21</th>\n      <td>Moodytown -&gt; Erictown -&gt; Davisfort</td>\n      <td>NaN</td>\n      <td>1.0</td>\n      <td>12286.000000</td>\n      <td>0.000000</td>\n      <td>[12286]</td>\n    </tr>\n    <tr>\n      <th>22</th>\n      <td>Moodytown -&gt; Evansfort -&gt; Davisfort</td>\n      <td>NaN</td>\n      <td>1.0</td>\n      <td>20054.000000</td>\n      <td>0.000000</td>\n      <td>[20054]</td>\n    </tr>\n  </tbody>\n</table>\n</div>"
     },
     "execution_count": 11,
     "metadata": {},
     "output_type": "execute_result"
    }
   ],
   "source": [
    "top_path_df.merge(ds_utils.historic_path_counts(gds, source_airport_id, target_airport_id), on='airportPath', how='outer')"
   ],
   "metadata": {
    "collapsed": false,
    "pycharm": {
     "name": "#%%\n"
    }
   }
  },
  {
   "cell_type": "code",
   "execution_count": 12,
   "metadata": {
    "pycharm": {
     "name": "#%%\n"
    }
   },
   "outputs": [
    {
     "data": {
      "text/plain": "                                                             airportPath  \\\n0   Moodytown -> Shanefort -> Sandersshire                                 \n1   Moodytown -> Ramoshaven -> Shanefort -> Sandersshire                   \n2   Moodytown -> Davisfort -> Sandersshire                                 \n3   Moodytown -> Michaelstad -> Shanefort -> Sandersshire                  \n4   Moodytown -> Wandaborough -> Shanefort -> Sandersshire                 \n5   Moodytown -> Richardberg -> Sandersshire                               \n6   Moodytown -> Lisaton -> Shanefort -> Sandersshire                      \n7   Moodytown -> Grayshire -> Shanefort -> Sandersshire                    \n8   Moodytown -> Bryanside -> Brownberg -> Sandersshire                    \n9   Moodytown -> Michaelstad -> Davisfort -> Sandersshire                  \n10  Moodytown -> Michaelstad -> Brownberg -> Sandersshire                  \n11  Moodytown -> Michaelstad -> Ramoshaven -> Shanefort -> Sandersshire    \n12  Moodytown -> Lauramouth -> Shanefort -> Sandersshire                   \n13  Moodytown -> Ramoshaven -> Wandaborough -> Shanefort -> Sandersshire   \n14  Moodytown -> Wandaborough -> Davisfort -> Sandersshire                 \n\n    approximatedAvgCost  \n0   5208.344321          \n1   5715.502545          \n2   5719.924774          \n3   5912.069427          \n4   6011.366366          \n5   6087.670836          \n6   6120.390428          \n7   6215.389810          \n8   6348.892664          \n9   6386.309525          \n10  6386.920902          \n11  6468.725298          \n12  6475.164397          \n13  6487.073683          \n14  6565.410080          ",
      "text/html": "<div>\n<style scoped>\n    .dataframe tbody tr th:only-of-type {\n        vertical-align: middle;\n    }\n\n    .dataframe tbody tr th {\n        vertical-align: top;\n    }\n\n    .dataframe thead th {\n        text-align: right;\n    }\n</style>\n<table border=\"1\" class=\"dataframe\">\n  <thead>\n    <tr style=\"text-align: right;\">\n      <th></th>\n      <th>airportPath</th>\n      <th>approximatedAvgCost</th>\n    </tr>\n  </thead>\n  <tbody>\n    <tr>\n      <th>0</th>\n      <td>Moodytown -&gt; Shanefort -&gt; Sandersshire</td>\n      <td>5208.344321</td>\n    </tr>\n    <tr>\n      <th>1</th>\n      <td>Moodytown -&gt; Ramoshaven -&gt; Shanefort -&gt; Sandersshire</td>\n      <td>5715.502545</td>\n    </tr>\n    <tr>\n      <th>2</th>\n      <td>Moodytown -&gt; Davisfort -&gt; Sandersshire</td>\n      <td>5719.924774</td>\n    </tr>\n    <tr>\n      <th>3</th>\n      <td>Moodytown -&gt; Michaelstad -&gt; Shanefort -&gt; Sandersshire</td>\n      <td>5912.069427</td>\n    </tr>\n    <tr>\n      <th>4</th>\n      <td>Moodytown -&gt; Wandaborough -&gt; Shanefort -&gt; Sandersshire</td>\n      <td>6011.366366</td>\n    </tr>\n    <tr>\n      <th>5</th>\n      <td>Moodytown -&gt; Richardberg -&gt; Sandersshire</td>\n      <td>6087.670836</td>\n    </tr>\n    <tr>\n      <th>6</th>\n      <td>Moodytown -&gt; Lisaton -&gt; Shanefort -&gt; Sandersshire</td>\n      <td>6120.390428</td>\n    </tr>\n    <tr>\n      <th>7</th>\n      <td>Moodytown -&gt; Grayshire -&gt; Shanefort -&gt; Sandersshire</td>\n      <td>6215.389810</td>\n    </tr>\n    <tr>\n      <th>8</th>\n      <td>Moodytown -&gt; Bryanside -&gt; Brownberg -&gt; Sandersshire</td>\n      <td>6348.892664</td>\n    </tr>\n    <tr>\n      <th>9</th>\n      <td>Moodytown -&gt; Michaelstad -&gt; Davisfort -&gt; Sandersshire</td>\n      <td>6386.309525</td>\n    </tr>\n    <tr>\n      <th>10</th>\n      <td>Moodytown -&gt; Michaelstad -&gt; Brownberg -&gt; Sandersshire</td>\n      <td>6386.920902</td>\n    </tr>\n    <tr>\n      <th>11</th>\n      <td>Moodytown -&gt; Michaelstad -&gt; Ramoshaven -&gt; Shanefort -&gt; Sandersshire</td>\n      <td>6468.725298</td>\n    </tr>\n    <tr>\n      <th>12</th>\n      <td>Moodytown -&gt; Lauramouth -&gt; Shanefort -&gt; Sandersshire</td>\n      <td>6475.164397</td>\n    </tr>\n    <tr>\n      <th>13</th>\n      <td>Moodytown -&gt; Ramoshaven -&gt; Wandaborough -&gt; Shanefort -&gt; Sandersshire</td>\n      <td>6487.073683</td>\n    </tr>\n    <tr>\n      <th>14</th>\n      <td>Moodytown -&gt; Wandaborough -&gt; Davisfort -&gt; Sandersshire</td>\n      <td>6565.410080</td>\n    </tr>\n  </tbody>\n</table>\n</div>"
     },
     "execution_count": 12,
     "metadata": {},
     "output_type": "execute_result"
    }
   ],
   "source": [
    "pd.options.display.width = 0\n",
    "pd.options.display.max_colwidth = 0\n",
    "\n",
    "target_node_id_2 = gds.find_node_id(['Destination'], {'name': 'Sandersshire'})\n",
    "\n",
    "yen_df = gds.shortestPath.yens.stream(g, sourceNode=source_node_id, targetNode=target_node_id_2, k=15, relationshipWeightProperty='averageEffectiveMinutes')\n",
    "yen_df['airportPath'] = yen_df.path.apply(get_airport_names)\n",
    "top_path_df = yen_df[['airportPath', 'totalCost']].rename(columns={'totalCost':'approximatedAvgCost'})\n",
    "top_path_df"
   ]
  },
  {
   "cell_type": "code",
   "execution_count": 13,
   "outputs": [
    {
     "data": {
      "text/plain": "                                                             airportPath  \\\n0   Moodytown -> Shanefort -> Sandersshire                                 \n1   Moodytown -> Ramoshaven -> Shanefort -> Sandersshire                   \n2   Moodytown -> Davisfort -> Sandersshire                                 \n3   Moodytown -> Michaelstad -> Shanefort -> Sandersshire                  \n4   Moodytown -> Wandaborough -> Shanefort -> Sandersshire                 \n5   Moodytown -> Richardberg -> Sandersshire                               \n6   Moodytown -> Lisaton -> Shanefort -> Sandersshire                      \n7   Moodytown -> Grayshire -> Shanefort -> Sandersshire                    \n8   Moodytown -> Bryanside -> Brownberg -> Sandersshire                    \n9   Moodytown -> Michaelstad -> Davisfort -> Sandersshire                  \n10  Moodytown -> Michaelstad -> Brownberg -> Sandersshire                  \n11  Moodytown -> Michaelstad -> Ramoshaven -> Shanefort -> Sandersshire    \n12  Moodytown -> Lauramouth -> Shanefort -> Sandersshire                   \n13  Moodytown -> Ramoshaven -> Wandaborough -> Shanefort -> Sandersshire   \n14  Moodytown -> Wandaborough -> Davisfort -> Sandersshire                 \n15  Moodytown -> Scotttown -> Davisfort -> Sandersshire                    \n16  Moodytown -> Evansfort -> Davisfort -> Sandersshire                    \n17  Moodytown -> Wandaborough -> Richardberg -> Sandersshire               \n18  Moodytown -> Davisfort -> Callahanport -> Davisfort -> Sandersshire    \n19  Moodytown -> Sonyafort -> Davisfort -> Sandersshire                    \n20  Moodytown -> Ellisville -> Davisfort -> Sandersshire                   \n\n    approximatedAvgCost  historicPathCount  historicAvgCost  historicCostStd  \\\n0   5208.344321         NaN                NaN              NaN                \n1   5715.502545         NaN                NaN              NaN                \n2   5719.924774          6.0                10146.166667     11521.556378      \n3   5912.069427         NaN                NaN              NaN                \n4   6011.366366         NaN                NaN              NaN                \n5   6087.670836          2.0                5407.000000      1422.698844       \n6   6120.390428          1.0                5647.000000      0.000000          \n7   6215.389810         NaN                NaN              NaN                \n8   6348.892664          8.0                6414.625000      1752.789934       \n9   6386.309525         NaN                NaN              NaN                \n10  6386.920902          19.0               7914.000000      1235.664868       \n11  6468.725298         NaN                NaN              NaN                \n12  6475.164397         NaN                NaN              NaN                \n13  6487.073683         NaN                NaN              NaN                \n14  6565.410080         NaN                NaN              NaN                \n15 NaN                   4.0                9250.000000      1539.458563       \n16 NaN                   3.0                25195.000000     7541.263555       \n17 NaN                   1.0                8964.000000      0.000000          \n18 NaN                   1.0                14982.000000     0.000000          \n19 NaN                   1.0                8729.000000      0.000000          \n20 NaN                   1.0                10804.000000     0.000000          \n\n                                                                                                          historicCosts  \n0   NaN                                                                                                                  \n1   NaN                                                                                                                  \n2   [5003, 33616, 5033, 6419, 4562, 6244]                                                                                \n3   NaN                                                                                                                  \n4   NaN                                                                                                                  \n5   [6413, 4401]                                                                                                         \n6   [5647]                                                                                                               \n7   NaN                                                                                                                  \n8   [5058, 6270, 6633, 4794, 7928, 5517, 5186, 9931]                                                                     \n9   NaN                                                                                                                  \n10  [7715, 7455, 7109, 5792, 8959, 9490, 7659, 8710, 7675, 6413, 8260, 6860, 9106, 7326, 10718, 6325, 7716, 7735, 9343]  \n11  NaN                                                                                                                  \n12  NaN                                                                                                                  \n13  NaN                                                                                                                  \n14  NaN                                                                                                                  \n15  [7810, 10868, 8065, 10257]                                                                                           \n16  [22299, 33755, 19531]                                                                                                \n17  [8964]                                                                                                               \n18  [14982]                                                                                                              \n19  [8729]                                                                                                               \n20  [10804]                                                                                                              ",
      "text/html": "<div>\n<style scoped>\n    .dataframe tbody tr th:only-of-type {\n        vertical-align: middle;\n    }\n\n    .dataframe tbody tr th {\n        vertical-align: top;\n    }\n\n    .dataframe thead th {\n        text-align: right;\n    }\n</style>\n<table border=\"1\" class=\"dataframe\">\n  <thead>\n    <tr style=\"text-align: right;\">\n      <th></th>\n      <th>airportPath</th>\n      <th>approximatedAvgCost</th>\n      <th>historicPathCount</th>\n      <th>historicAvgCost</th>\n      <th>historicCostStd</th>\n      <th>historicCosts</th>\n    </tr>\n  </thead>\n  <tbody>\n    <tr>\n      <th>0</th>\n      <td>Moodytown -&gt; Shanefort -&gt; Sandersshire</td>\n      <td>5208.344321</td>\n      <td>NaN</td>\n      <td>NaN</td>\n      <td>NaN</td>\n      <td>NaN</td>\n    </tr>\n    <tr>\n      <th>1</th>\n      <td>Moodytown -&gt; Ramoshaven -&gt; Shanefort -&gt; Sandersshire</td>\n      <td>5715.502545</td>\n      <td>NaN</td>\n      <td>NaN</td>\n      <td>NaN</td>\n      <td>NaN</td>\n    </tr>\n    <tr>\n      <th>2</th>\n      <td>Moodytown -&gt; Davisfort -&gt; Sandersshire</td>\n      <td>5719.924774</td>\n      <td>6.0</td>\n      <td>10146.166667</td>\n      <td>11521.556378</td>\n      <td>[5003, 33616, 5033, 6419, 4562, 6244]</td>\n    </tr>\n    <tr>\n      <th>3</th>\n      <td>Moodytown -&gt; Michaelstad -&gt; Shanefort -&gt; Sandersshire</td>\n      <td>5912.069427</td>\n      <td>NaN</td>\n      <td>NaN</td>\n      <td>NaN</td>\n      <td>NaN</td>\n    </tr>\n    <tr>\n      <th>4</th>\n      <td>Moodytown -&gt; Wandaborough -&gt; Shanefort -&gt; Sandersshire</td>\n      <td>6011.366366</td>\n      <td>NaN</td>\n      <td>NaN</td>\n      <td>NaN</td>\n      <td>NaN</td>\n    </tr>\n    <tr>\n      <th>5</th>\n      <td>Moodytown -&gt; Richardberg -&gt; Sandersshire</td>\n      <td>6087.670836</td>\n      <td>2.0</td>\n      <td>5407.000000</td>\n      <td>1422.698844</td>\n      <td>[6413, 4401]</td>\n    </tr>\n    <tr>\n      <th>6</th>\n      <td>Moodytown -&gt; Lisaton -&gt; Shanefort -&gt; Sandersshire</td>\n      <td>6120.390428</td>\n      <td>1.0</td>\n      <td>5647.000000</td>\n      <td>0.000000</td>\n      <td>[5647]</td>\n    </tr>\n    <tr>\n      <th>7</th>\n      <td>Moodytown -&gt; Grayshire -&gt; Shanefort -&gt; Sandersshire</td>\n      <td>6215.389810</td>\n      <td>NaN</td>\n      <td>NaN</td>\n      <td>NaN</td>\n      <td>NaN</td>\n    </tr>\n    <tr>\n      <th>8</th>\n      <td>Moodytown -&gt; Bryanside -&gt; Brownberg -&gt; Sandersshire</td>\n      <td>6348.892664</td>\n      <td>8.0</td>\n      <td>6414.625000</td>\n      <td>1752.789934</td>\n      <td>[5058, 6270, 6633, 4794, 7928, 5517, 5186, 9931]</td>\n    </tr>\n    <tr>\n      <th>9</th>\n      <td>Moodytown -&gt; Michaelstad -&gt; Davisfort -&gt; Sandersshire</td>\n      <td>6386.309525</td>\n      <td>NaN</td>\n      <td>NaN</td>\n      <td>NaN</td>\n      <td>NaN</td>\n    </tr>\n    <tr>\n      <th>10</th>\n      <td>Moodytown -&gt; Michaelstad -&gt; Brownberg -&gt; Sandersshire</td>\n      <td>6386.920902</td>\n      <td>19.0</td>\n      <td>7914.000000</td>\n      <td>1235.664868</td>\n      <td>[7715, 7455, 7109, 5792, 8959, 9490, 7659, 8710, 7675, 6413, 8260, 6860, 9106, 7326, 10718, 6325, 7716, 7735, 9343]</td>\n    </tr>\n    <tr>\n      <th>11</th>\n      <td>Moodytown -&gt; Michaelstad -&gt; Ramoshaven -&gt; Shanefort -&gt; Sandersshire</td>\n      <td>6468.725298</td>\n      <td>NaN</td>\n      <td>NaN</td>\n      <td>NaN</td>\n      <td>NaN</td>\n    </tr>\n    <tr>\n      <th>12</th>\n      <td>Moodytown -&gt; Lauramouth -&gt; Shanefort -&gt; Sandersshire</td>\n      <td>6475.164397</td>\n      <td>NaN</td>\n      <td>NaN</td>\n      <td>NaN</td>\n      <td>NaN</td>\n    </tr>\n    <tr>\n      <th>13</th>\n      <td>Moodytown -&gt; Ramoshaven -&gt; Wandaborough -&gt; Shanefort -&gt; Sandersshire</td>\n      <td>6487.073683</td>\n      <td>NaN</td>\n      <td>NaN</td>\n      <td>NaN</td>\n      <td>NaN</td>\n    </tr>\n    <tr>\n      <th>14</th>\n      <td>Moodytown -&gt; Wandaborough -&gt; Davisfort -&gt; Sandersshire</td>\n      <td>6565.410080</td>\n      <td>NaN</td>\n      <td>NaN</td>\n      <td>NaN</td>\n      <td>NaN</td>\n    </tr>\n    <tr>\n      <th>15</th>\n      <td>Moodytown -&gt; Scotttown -&gt; Davisfort -&gt; Sandersshire</td>\n      <td>NaN</td>\n      <td>4.0</td>\n      <td>9250.000000</td>\n      <td>1539.458563</td>\n      <td>[7810, 10868, 8065, 10257]</td>\n    </tr>\n    <tr>\n      <th>16</th>\n      <td>Moodytown -&gt; Evansfort -&gt; Davisfort -&gt; Sandersshire</td>\n      <td>NaN</td>\n      <td>3.0</td>\n      <td>25195.000000</td>\n      <td>7541.263555</td>\n      <td>[22299, 33755, 19531]</td>\n    </tr>\n    <tr>\n      <th>17</th>\n      <td>Moodytown -&gt; Wandaborough -&gt; Richardberg -&gt; Sandersshire</td>\n      <td>NaN</td>\n      <td>1.0</td>\n      <td>8964.000000</td>\n      <td>0.000000</td>\n      <td>[8964]</td>\n    </tr>\n    <tr>\n      <th>18</th>\n      <td>Moodytown -&gt; Davisfort -&gt; Callahanport -&gt; Davisfort -&gt; Sandersshire</td>\n      <td>NaN</td>\n      <td>1.0</td>\n      <td>14982.000000</td>\n      <td>0.000000</td>\n      <td>[14982]</td>\n    </tr>\n    <tr>\n      <th>19</th>\n      <td>Moodytown -&gt; Sonyafort -&gt; Davisfort -&gt; Sandersshire</td>\n      <td>NaN</td>\n      <td>1.0</td>\n      <td>8729.000000</td>\n      <td>0.000000</td>\n      <td>[8729]</td>\n    </tr>\n    <tr>\n      <th>20</th>\n      <td>Moodytown -&gt; Ellisville -&gt; Davisfort -&gt; Sandersshire</td>\n      <td>NaN</td>\n      <td>1.0</td>\n      <td>10804.000000</td>\n      <td>0.000000</td>\n      <td>[10804]</td>\n    </tr>\n  </tbody>\n</table>\n</div>"
     },
     "execution_count": 13,
     "metadata": {},
     "output_type": "execute_result"
    }
   ],
   "source": [
    "# Calculate distribution for a single path\n",
    "target_airport_id_2 = int(gds.run_cypher('MATCH(n) WHERE id(n) = $id RETURN n.airportId AS airportId', params={'id':target_node_id_2}).airportId[0])\n",
    "top_path_df.merge(ds_utils.historic_path_counts(gds, source_airport_id, target_airport_id_2), on='airportPath', how='outer')"
   ],
   "metadata": {
    "collapsed": false,
    "pycharm": {
     "name": "#%%\n"
    }
   }
  },
  {
   "cell_type": "markdown",
   "source": [
    "## Freight Forwarding Combinations"
   ],
   "metadata": {
    "collapsed": false,
    "pycharm": {
     "name": "#%% md\n"
    }
   }
  },
  {
   "cell_type": "code",
   "execution_count": 14,
   "outputs": [
    {
     "name": "stdout",
     "output_type": "stream",
     "text": [
      "Total Average Cost: 15805.44\n"
     ]
    }
   ],
   "source": [
    "source_airport_names =  ['Bradleymouth', 'Moodytown', 'Richardberg', 'Wandaborough']\n",
    "target_airport_name = 'Sandersshire'\n",
    "\n",
    "shortest_path_list = []\n",
    "rels = {}\n",
    "for source_airport_name in source_airport_names:\n",
    "    source_node_id = gds.find_node_id(['EntryPoint'], {'name': source_airport_name})\n",
    "    temp_df = gds.shortestPath.dijkstra.stream(g, sourceNode=source_node_id, targetNode=target_node_id_2, relationshipWeightProperty='averageEffectiveMinutes')\n",
    "    for r in temp_df.path[0].relationships:\n",
    "        rels[f'{r.start_node.id}-{r.end_node.id}'] = r\n",
    "\n",
    "print(f'Total Average Cost: {round(sum([r.get(\"cost\") for r in rels.values()]), 2)}')"
   ],
   "metadata": {
    "collapsed": false,
    "pycharm": {
     "name": "#%%\n"
    }
   }
  },
  {
   "cell_type": "code",
   "execution_count": 15,
   "outputs": [],
   "source": [
    "ds_utils.write_solution_to_db(gds, rels.values(), 'BEST_PATHS')"
   ],
   "metadata": {
    "collapsed": false,
    "pycharm": {
     "name": "#%%\n"
    }
   }
  },
  {
   "cell_type": "markdown",
   "source": [
    "<img src=\"img/sandersshire-all-shortest-paths.png\" alt=\"summary\" width=\"1000\"/>"
   ],
   "metadata": {
    "collapsed": false
   }
  },
  {
   "cell_type": "markdown",
   "source": [
    "### Freight Forwarding Solution Using Minimal Cost Objective"
   ],
   "metadata": {
    "collapsed": false
   }
  },
  {
   "cell_type": "code",
   "execution_count": 16,
   "outputs": [
    {
     "data": {
      "text/plain": "  solutionIndex  totalAverageTime  \\\n0  (1, 0, 1, 0)  14069.456562       \n1  (1, 1, 1, 0)  14576.614786       \n2  (1, 0, 1, 2)  14640.372950       \n3  (1, 4, 1, 0)  14668.587302       \n4  (1, 1, 1, 2)  14715.954250       \n5  (1, 0, 1, 3)  14728.186310       \n6  (1, 3, 1, 0)  14773.181668       \n7  (1, 3, 1, 3)  14775.490364       \n8  (1, 0, 0, 0)  14803.355023       \n9  (1, 0, 1, 4)  14853.769859       \n\n                                                                      pathCosts  \n0  [6221.733971695967, 5208.344320769946, 6535.08500916388, 4349.129699336236]   \n1  [6221.733971695967, 5715.5025446598775, 6535.08500916388, 4349.129699336236]  \n2  [6221.733971695967, 5208.344320769946, 6535.08500916388, 4920.046087296103]   \n3  [6221.733971695967, 6011.366365614366, 6535.08500916388, 4349.129699336236]   \n4  [6221.733971695967, 5715.5025446598775, 6535.08500916388, 4920.046087296103]  \n5  [6221.733971695967, 5208.344320769946, 6535.08500916388, 5007.859447619989]   \n6  [6221.733971695967, 5912.069427455579, 6535.08500916388, 4349.129699336236]   \n7  [6221.733971695967, 5912.069427455579, 6535.08500916388, 5007.859447619989]   \n8  [6221.733971695967, 5208.344320769946, 5629.324222812856, 4349.129699336236]  \n9  [6221.733971695967, 5208.344320769946, 6535.08500916388, 5133.442996838174]   ",
      "text/html": "<div>\n<style scoped>\n    .dataframe tbody tr th:only-of-type {\n        vertical-align: middle;\n    }\n\n    .dataframe tbody tr th {\n        vertical-align: top;\n    }\n\n    .dataframe thead th {\n        text-align: right;\n    }\n</style>\n<table border=\"1\" class=\"dataframe\">\n  <thead>\n    <tr style=\"text-align: right;\">\n      <th></th>\n      <th>solutionIndex</th>\n      <th>totalAverageTime</th>\n      <th>pathCosts</th>\n    </tr>\n  </thead>\n  <tbody>\n    <tr>\n      <th>0</th>\n      <td>(1, 0, 1, 0)</td>\n      <td>14069.456562</td>\n      <td>[6221.733971695967, 5208.344320769946, 6535.08500916388, 4349.129699336236]</td>\n    </tr>\n    <tr>\n      <th>1</th>\n      <td>(1, 1, 1, 0)</td>\n      <td>14576.614786</td>\n      <td>[6221.733971695967, 5715.5025446598775, 6535.08500916388, 4349.129699336236]</td>\n    </tr>\n    <tr>\n      <th>2</th>\n      <td>(1, 0, 1, 2)</td>\n      <td>14640.372950</td>\n      <td>[6221.733971695967, 5208.344320769946, 6535.08500916388, 4920.046087296103]</td>\n    </tr>\n    <tr>\n      <th>3</th>\n      <td>(1, 4, 1, 0)</td>\n      <td>14668.587302</td>\n      <td>[6221.733971695967, 6011.366365614366, 6535.08500916388, 4349.129699336236]</td>\n    </tr>\n    <tr>\n      <th>4</th>\n      <td>(1, 1, 1, 2)</td>\n      <td>14715.954250</td>\n      <td>[6221.733971695967, 5715.5025446598775, 6535.08500916388, 4920.046087296103]</td>\n    </tr>\n    <tr>\n      <th>5</th>\n      <td>(1, 0, 1, 3)</td>\n      <td>14728.186310</td>\n      <td>[6221.733971695967, 5208.344320769946, 6535.08500916388, 5007.859447619989]</td>\n    </tr>\n    <tr>\n      <th>6</th>\n      <td>(1, 3, 1, 0)</td>\n      <td>14773.181668</td>\n      <td>[6221.733971695967, 5912.069427455579, 6535.08500916388, 4349.129699336236]</td>\n    </tr>\n    <tr>\n      <th>7</th>\n      <td>(1, 3, 1, 3)</td>\n      <td>14775.490364</td>\n      <td>[6221.733971695967, 5912.069427455579, 6535.08500916388, 5007.859447619989]</td>\n    </tr>\n    <tr>\n      <th>8</th>\n      <td>(1, 0, 0, 0)</td>\n      <td>14803.355023</td>\n      <td>[6221.733971695967, 5208.344320769946, 5629.324222812856, 4349.129699336236]</td>\n    </tr>\n    <tr>\n      <th>9</th>\n      <td>(1, 0, 1, 4)</td>\n      <td>14853.769859</td>\n      <td>[6221.733971695967, 5208.344320769946, 6535.08500916388, 5133.442996838174]</td>\n    </tr>\n  </tbody>\n</table>\n</div>"
     },
     "execution_count": 16,
     "metadata": {},
     "output_type": "execute_result"
    }
   ],
   "source": [
    "top_k_df = ds_utils.top_k_solutions_from_names(gds, g, source_airport_names, target_airport_name).rename(columns={'totalCost':'totalAverageTime'})\n",
    "top_k_df[['solutionIndex', 'totalAverageTime', 'pathCosts']]"
   ],
   "metadata": {
    "collapsed": false,
    "pycharm": {
     "name": "#%%\n"
    }
   }
  },
  {
   "cell_type": "code",
   "execution_count": 17,
   "outputs": [],
   "source": [
    "ds_utils.write_solution_to_db(gds, top_k_df.relationships[0], 'BEST_YENS_PATH')"
   ],
   "metadata": {
    "collapsed": false,
    "pycharm": {
     "name": "#%%\n"
    }
   }
  },
  {
   "cell_type": "markdown",
   "source": [
    "<img src=\"img/sandersshire-best-yens.png\" alt=\"summary\" width=\"1000\"/>"
   ],
   "metadata": {
    "collapsed": false,
    "pycharm": {
     "name": "#%% md\n"
    }
   }
  },
  {
   "cell_type": "markdown",
   "source": [
    "### Applying Constraints"
   ],
   "metadata": {
    "collapsed": false,
    "pycharm": {
     "name": "#%% md\n"
    }
   }
  },
  {
   "cell_type": "code",
   "execution_count": 18,
   "outputs": [
    {
     "data": {
      "text/plain": "  solutionIndex  totalAverageTime  \\\n0  (0, 0, 0, 0)  15805.435025       \n1  (0, 2, 0, 1)  15881.873342       \n2  (0, 1, 0, 0)  16312.593249       \n3  (0, 0, 0, 2)  16376.351413       \n4  (0, 1, 0, 2)  16451.932714       \n5  (0, 2, 0, 8)  16460.799474       \n6  (0, 0, 0, 3)  16464.164773       \n7  (0, 3, 0, 0)  16509.160132       \n8  (0, 3, 0, 3)  16511.468827       \n9  (0, 0, 0, 4)  16589.748322       \n\n                                                                      pathCosts  \n0  [5584.15472555134, 5208.344320769946, 5629.324222812856, 4349.129699336236]   \n1  [5584.15472555134, 5719.924774003627, 5629.324222812856, 4903.173413290249]   \n2  [5584.15472555134, 5715.5025446598775, 5629.324222812856, 4349.129699336236]  \n3  [5584.15472555134, 5208.344320769946, 5629.324222812856, 4920.046087296103]   \n4  [5584.15472555134, 5715.5025446598775, 5629.324222812856, 4920.046087296103]  \n5  [5584.15472555134, 5719.924774003627, 5629.324222812856, 5482.099545580897]   \n6  [5584.15472555134, 5208.344320769946, 5629.324222812856, 5007.859447619989]   \n7  [5584.15472555134, 5912.069427455579, 5629.324222812856, 4349.129699336236]   \n8  [5584.15472555134, 5912.069427455579, 5629.324222812856, 5007.859447619989]   \n9  [5584.15472555134, 5208.344320769946, 5629.324222812856, 5133.442996838174]   ",
      "text/html": "<div>\n<style scoped>\n    .dataframe tbody tr th:only-of-type {\n        vertical-align: middle;\n    }\n\n    .dataframe tbody tr th {\n        vertical-align: top;\n    }\n\n    .dataframe thead th {\n        text-align: right;\n    }\n</style>\n<table border=\"1\" class=\"dataframe\">\n  <thead>\n    <tr style=\"text-align: right;\">\n      <th></th>\n      <th>solutionIndex</th>\n      <th>totalAverageTime</th>\n      <th>pathCosts</th>\n    </tr>\n  </thead>\n  <tbody>\n    <tr>\n      <th>0</th>\n      <td>(0, 0, 0, 0)</td>\n      <td>15805.435025</td>\n      <td>[5584.15472555134, 5208.344320769946, 5629.324222812856, 4349.129699336236]</td>\n    </tr>\n    <tr>\n      <th>1</th>\n      <td>(0, 2, 0, 1)</td>\n      <td>15881.873342</td>\n      <td>[5584.15472555134, 5719.924774003627, 5629.324222812856, 4903.173413290249]</td>\n    </tr>\n    <tr>\n      <th>2</th>\n      <td>(0, 1, 0, 0)</td>\n      <td>16312.593249</td>\n      <td>[5584.15472555134, 5715.5025446598775, 5629.324222812856, 4349.129699336236]</td>\n    </tr>\n    <tr>\n      <th>3</th>\n      <td>(0, 0, 0, 2)</td>\n      <td>16376.351413</td>\n      <td>[5584.15472555134, 5208.344320769946, 5629.324222812856, 4920.046087296103]</td>\n    </tr>\n    <tr>\n      <th>4</th>\n      <td>(0, 1, 0, 2)</td>\n      <td>16451.932714</td>\n      <td>[5584.15472555134, 5715.5025446598775, 5629.324222812856, 4920.046087296103]</td>\n    </tr>\n    <tr>\n      <th>5</th>\n      <td>(0, 2, 0, 8)</td>\n      <td>16460.799474</td>\n      <td>[5584.15472555134, 5719.924774003627, 5629.324222812856, 5482.099545580897]</td>\n    </tr>\n    <tr>\n      <th>6</th>\n      <td>(0, 0, 0, 3)</td>\n      <td>16464.164773</td>\n      <td>[5584.15472555134, 5208.344320769946, 5629.324222812856, 5007.859447619989]</td>\n    </tr>\n    <tr>\n      <th>7</th>\n      <td>(0, 3, 0, 0)</td>\n      <td>16509.160132</td>\n      <td>[5584.15472555134, 5912.069427455579, 5629.324222812856, 4349.129699336236]</td>\n    </tr>\n    <tr>\n      <th>8</th>\n      <td>(0, 3, 0, 3)</td>\n      <td>16511.468827</td>\n      <td>[5584.15472555134, 5912.069427455579, 5629.324222812856, 5007.859447619989]</td>\n    </tr>\n    <tr>\n      <th>9</th>\n      <td>(0, 0, 0, 4)</td>\n      <td>16589.748322</td>\n      <td>[5584.15472555134, 5208.344320769946, 5629.324222812856, 5133.442996838174]</td>\n    </tr>\n  </tbody>\n</table>\n</div>"
     },
     "execution_count": 18,
     "metadata": {},
     "output_type": "execute_result"
    }
   ],
   "source": [
    "top_k_df = ds_utils.top_k_solutions_from_names(gds, g, source_airport_names, target_airport_name, max_avg_time=6000.0)\\\n",
    "    .rename(columns={'totalCost':'totalAverageTime'})\n",
    "top_k_df[['solutionIndex', 'totalAverageTime', 'pathCosts']]"
   ],
   "metadata": {
    "collapsed": false,
    "pycharm": {
     "name": "#%%\n"
    }
   }
  },
  {
   "cell_type": "code",
   "execution_count": 19,
   "outputs": [],
   "source": [
    "ds_utils.write_solution_to_db(gds, top_k_df.relationships[0], 'BEST_YENS_PATH')"
   ],
   "metadata": {
    "collapsed": false,
    "pycharm": {
     "name": "#%%\n"
    }
   }
  },
  {
   "cell_type": "markdown",
   "source": [
    "<img src=\"img/sandersshire-all-shortest-paths.png\" alt=\"summary\" width=\"1000\"/>"
   ],
   "metadata": {
    "collapsed": false,
    "pycharm": {
     "name": "#%% md\n"
    }
   }
  },
  {
   "cell_type": "code",
   "execution_count": 20,
   "outputs": [],
   "source": [
    "ds_utils.write_solution_to_db(gds, top_k_df.relationships[1], 'BEST_YENS_PATH')"
   ],
   "metadata": {
    "collapsed": false,
    "pycharm": {
     "name": "#%%\n"
    }
   }
  },
  {
   "cell_type": "markdown",
   "source": [
    "<img src=\"img/sandersshire-second-best-yens-constrained.png\" alt=\"summary\" width=\"1000\"/>"
   ],
   "metadata": {
    "collapsed": false,
    "pycharm": {
     "name": "#%% md\n"
    }
   }
  },
  {
   "cell_type": "markdown",
   "source": [
    "## What-If Scenarios and Path Finding"
   ],
   "metadata": {
    "collapsed": false,
    "pycharm": {
     "name": "#%% md\n"
    }
   }
  },
  {
   "cell_type": "code",
   "execution_count": 21,
   "outputs": [],
   "source": [
    "node_proj_query = '''\n",
    "    MATCH(n)\n",
    "    WHERE n:EntryPoint OR n:DepartureWarehouse OR n:DeparturePoint OR n:ArrivalWarehouse OR n:TransferPoint OR n:Destination\n",
    "    RETURN id(n) as id, labels(n) as labels\n",
    "    '''\n",
    "\n",
    "relationship_proj_query =  '''\n",
    "    MATCH(n0)-[r:RECEPTION|DEPARTURE|TRANSPORT|DELIVERY]->(n1)\n",
    "    RETURN id(n0) AS source, id(n1) AS target, type(r) AS type,\n",
    "        CASE\n",
    "            WHEN n1.name in $delayAirportNames THEN $delayMultiplier * avg(r.effectiveMinutes)\n",
    "            ELSE avg(r.effectiveMinutes)\n",
    "            END AS averageEffectiveMinutes\n",
    "    '''"
   ],
   "metadata": {
    "collapsed": false,
    "pycharm": {
     "name": "#%%\n"
    }
   }
  },
  {
   "cell_type": "code",
   "execution_count": 25,
   "outputs": [
    {
     "data": {
      "text/plain": "  solutionIndex  totalAverageTime  \\\n0  (0, 5, 4, 0)  15227.326930       \n1  (1, 1, 0, 4)  15316.952203       \n2  (1, 7, 0, 7)  15433.867368       \n3  (1, 1, 0, 7)  15559.707758       \n4  (0, 3, 9, 2)  15575.926376       \n5  (1, 9, 0, 8)  15613.565653       \n6  (0, 5, 2, 0)  15627.676930       \n7  (0, 5, 0, 0)  15644.186930       \n8  (1, 1, 0, 8)  15654.552203       \n9  (0, 3, 2, 2)  15654.776376       \n\n                                                                       pathCosts  \n0  [5584.15472555134, 6565.410079568379, 8208.315245760938, 4903.173413290248]    \n1  [7078.438011342081, 6087.670836006222, 5629.324222812856, 5486.420465780242]   \n2  [7078.438011342081, 6633.386001171387, 5629.324222812856, 5729.1760213357975]  \n3  [7078.438011342081, 6087.670836006222, 5629.324222812856, 5729.1760213357975]  \n4  [5584.15472555134, 6386.309525416487, 8304.28462129483, 5482.099545580897]     \n5  [7078.438011342081, 6821.68428629862, 5629.324222812856, 5824.0204657802415]   \n6  [5584.15472555134, 6565.410079568379, 6927.236771832464, 4903.173413290248]    \n7  [5584.15472555134, 6565.410079568379, 5629.324222812856, 4903.173413290248]    \n8  [7078.438011342081, 6087.670836006222, 5629.324222812856, 5824.0204657802415]  \n9  [5584.15472555134, 6386.309525416487, 6927.236771832464, 5482.099545580897]    ",
      "text/html": "<div>\n<style scoped>\n    .dataframe tbody tr th:only-of-type {\n        vertical-align: middle;\n    }\n\n    .dataframe tbody tr th {\n        vertical-align: top;\n    }\n\n    .dataframe thead th {\n        text-align: right;\n    }\n</style>\n<table border=\"1\" class=\"dataframe\">\n  <thead>\n    <tr style=\"text-align: right;\">\n      <th></th>\n      <th>solutionIndex</th>\n      <th>totalAverageTime</th>\n      <th>pathCosts</th>\n    </tr>\n  </thead>\n  <tbody>\n    <tr>\n      <th>0</th>\n      <td>(0, 5, 4, 0)</td>\n      <td>15227.326930</td>\n      <td>[5584.15472555134, 6565.410079568379, 8208.315245760938, 4903.173413290248]</td>\n    </tr>\n    <tr>\n      <th>1</th>\n      <td>(1, 1, 0, 4)</td>\n      <td>15316.952203</td>\n      <td>[7078.438011342081, 6087.670836006222, 5629.324222812856, 5486.420465780242]</td>\n    </tr>\n    <tr>\n      <th>2</th>\n      <td>(1, 7, 0, 7)</td>\n      <td>15433.867368</td>\n      <td>[7078.438011342081, 6633.386001171387, 5629.324222812856, 5729.1760213357975]</td>\n    </tr>\n    <tr>\n      <th>3</th>\n      <td>(1, 1, 0, 7)</td>\n      <td>15559.707758</td>\n      <td>[7078.438011342081, 6087.670836006222, 5629.324222812856, 5729.1760213357975]</td>\n    </tr>\n    <tr>\n      <th>4</th>\n      <td>(0, 3, 9, 2)</td>\n      <td>15575.926376</td>\n      <td>[5584.15472555134, 6386.309525416487, 8304.28462129483, 5482.099545580897]</td>\n    </tr>\n    <tr>\n      <th>5</th>\n      <td>(1, 9, 0, 8)</td>\n      <td>15613.565653</td>\n      <td>[7078.438011342081, 6821.68428629862, 5629.324222812856, 5824.0204657802415]</td>\n    </tr>\n    <tr>\n      <th>6</th>\n      <td>(0, 5, 2, 0)</td>\n      <td>15627.676930</td>\n      <td>[5584.15472555134, 6565.410079568379, 6927.236771832464, 4903.173413290248]</td>\n    </tr>\n    <tr>\n      <th>7</th>\n      <td>(0, 5, 0, 0)</td>\n      <td>15644.186930</td>\n      <td>[5584.15472555134, 6565.410079568379, 5629.324222812856, 4903.173413290248]</td>\n    </tr>\n    <tr>\n      <th>8</th>\n      <td>(1, 1, 0, 8)</td>\n      <td>15654.552203</td>\n      <td>[7078.438011342081, 6087.670836006222, 5629.324222812856, 5824.0204657802415]</td>\n    </tr>\n    <tr>\n      <th>9</th>\n      <td>(0, 3, 2, 2)</td>\n      <td>15654.776376</td>\n      <td>[5584.15472555134, 6386.309525416487, 6927.236771832464, 5482.099545580897]</td>\n    </tr>\n  </tbody>\n</table>\n</div>"
     },
     "execution_count": 25,
     "metadata": {},
     "output_type": "execute_result"
    }
   ],
   "source": [
    "g.drop()\n",
    "g, _ = gds.graph.project.cypher('proj', node_proj_query, relationship_proj_query\n",
    "    , parameters = {'delayAirportNames': ['Shanefort'], 'delayMultiplier': 3.0})\n",
    "\n",
    "top_k_df = ds_utils.top_k_solutions_from_names(gds, g, source_airport_names, target_airport_name).rename(columns={'totalCost':'totalAverageTime'})\n",
    "ds_utils.write_solution_to_db(gds, top_k_df.relationships[0], 'BEST_YENS_PATH')\n",
    "top_k_df[['solutionIndex', 'totalAverageTime', 'pathCosts']]"
   ],
   "metadata": {
    "collapsed": false,
    "pycharm": {
     "name": "#%%\n"
    }
   }
  },
  {
   "cell_type": "markdown",
   "source": [
    "<img src=\"img/sandersshire-best-yens-delayed-1.png\" alt=\"summary\" width=\"1000\"/>"
   ],
   "metadata": {
    "collapsed": false,
    "pycharm": {
     "name": "#%% md\n"
    }
   }
  },
  {
   "cell_type": "code",
   "execution_count": 26,
   "outputs": [
    {
     "data": {
      "text/plain": "  solutionIndex  totalAverageTime  \\\n0  (0, 0, 1, 0)  27324.638407       \n1  (0, 1, 1, 1)  27371.266645       \n2  (0, 2, 2, 2)  27412.482172       \n3  (0, 1, 3, 1)  27456.878586       \n4  (0, 0, 0, 0)  27505.610348       \n5  (0, 1, 0, 1)  27552.238586       \n6  (0, 3, 6, 0)  27555.723193       \n7  (0, 0, 6, 0)  27687.007104       \n8  (0, 5, 4, 3)  27787.323118       \n9  (0, 3, 1, 0)  27791.611253       \n\n                                                                        pathCosts  \n0  [9003.383694558299, 6348.8926636941715, 14058.680579496433, 5351.228843175793]  \n1  [9003.383694558299, 6386.9209015184615, 14058.680579496433, 5482.710921682872]  \n2  [9003.383694558299, 6848.581630429191, 15413.526286028708, 5898.309037980989]   \n3  [9003.383694558299, 6386.9209015184615, 15451.585312587733, 5482.710921682872]  \n4  [9003.383694558299, 6348.8926636941715, 12776.013538003786, 5351.228843175793]  \n5  [9003.383694558299, 6386.9209015184615, 12776.013538003786, 5482.710921682872]  \n6  [9003.383694558299, 7013.465509453924, 15803.059990837412, 5351.228843175793]   \n7  [9003.383694558299, 6348.8926636941715, 15803.059990837412, 5351.228843175793]  \n8  [9003.383694558299, 7109.06543398196, 15585.125853128273, 5913.551462223413]    \n9  [9003.383694558299, 7013.465509453924, 14058.680579496433, 5351.228843175793]   ",
      "text/html": "<div>\n<style scoped>\n    .dataframe tbody tr th:only-of-type {\n        vertical-align: middle;\n    }\n\n    .dataframe tbody tr th {\n        vertical-align: top;\n    }\n\n    .dataframe thead th {\n        text-align: right;\n    }\n</style>\n<table border=\"1\" class=\"dataframe\">\n  <thead>\n    <tr style=\"text-align: right;\">\n      <th></th>\n      <th>solutionIndex</th>\n      <th>totalAverageTime</th>\n      <th>pathCosts</th>\n    </tr>\n  </thead>\n  <tbody>\n    <tr>\n      <th>0</th>\n      <td>(0, 0, 1, 0)</td>\n      <td>27324.638407</td>\n      <td>[9003.383694558299, 6348.8926636941715, 14058.680579496433, 5351.228843175793]</td>\n    </tr>\n    <tr>\n      <th>1</th>\n      <td>(0, 1, 1, 1)</td>\n      <td>27371.266645</td>\n      <td>[9003.383694558299, 6386.9209015184615, 14058.680579496433, 5482.710921682872]</td>\n    </tr>\n    <tr>\n      <th>2</th>\n      <td>(0, 2, 2, 2)</td>\n      <td>27412.482172</td>\n      <td>[9003.383694558299, 6848.581630429191, 15413.526286028708, 5898.309037980989]</td>\n    </tr>\n    <tr>\n      <th>3</th>\n      <td>(0, 1, 3, 1)</td>\n      <td>27456.878586</td>\n      <td>[9003.383694558299, 6386.9209015184615, 15451.585312587733, 5482.710921682872]</td>\n    </tr>\n    <tr>\n      <th>4</th>\n      <td>(0, 0, 0, 0)</td>\n      <td>27505.610348</td>\n      <td>[9003.383694558299, 6348.8926636941715, 12776.013538003786, 5351.228843175793]</td>\n    </tr>\n    <tr>\n      <th>5</th>\n      <td>(0, 1, 0, 1)</td>\n      <td>27552.238586</td>\n      <td>[9003.383694558299, 6386.9209015184615, 12776.013538003786, 5482.710921682872]</td>\n    </tr>\n    <tr>\n      <th>6</th>\n      <td>(0, 3, 6, 0)</td>\n      <td>27555.723193</td>\n      <td>[9003.383694558299, 7013.465509453924, 15803.059990837412, 5351.228843175793]</td>\n    </tr>\n    <tr>\n      <th>7</th>\n      <td>(0, 0, 6, 0)</td>\n      <td>27687.007104</td>\n      <td>[9003.383694558299, 6348.8926636941715, 15803.059990837412, 5351.228843175793]</td>\n    </tr>\n    <tr>\n      <th>8</th>\n      <td>(0, 5, 4, 3)</td>\n      <td>27787.323118</td>\n      <td>[9003.383694558299, 7109.06543398196, 15585.125853128273, 5913.551462223413]</td>\n    </tr>\n    <tr>\n      <th>9</th>\n      <td>(0, 3, 1, 0)</td>\n      <td>27791.611253</td>\n      <td>[9003.383694558299, 7013.465509453924, 14058.680579496433, 5351.228843175793]</td>\n    </tr>\n  </tbody>\n</table>\n</div>"
     },
     "execution_count": 26,
     "metadata": {},
     "output_type": "execute_result"
    }
   ],
   "source": [
    "g.drop()\n",
    "g, _ = gds.graph.project.cypher('proj', node_proj_query, relationship_proj_query\n",
    "                                , parameters = {'delayAirportNames': ['Shanefort', 'Davisfort', 'Richardberg'], 'delayMultiplier': 3.0})\n",
    "\n",
    "top_k_df = ds_utils.top_k_solutions_from_names(gds, g, source_airport_names, target_airport_name).rename(columns={'totalCost':'totalAverageTime'})\n",
    "ds_utils.write_solution_to_db(gds, top_k_df.relationships[0], 'BEST_YENS_PATH')\n",
    "top_k_df[['solutionIndex', 'totalAverageTime', 'pathCosts']]"
   ],
   "metadata": {
    "collapsed": false,
    "pycharm": {
     "name": "#%%\n"
    }
   }
  },
  {
   "cell_type": "markdown",
   "source": [
    "<img src=\"img/sandersshire-best-yens-delayed-2.png\" alt=\"summary\" width=\"1000\"/>"
   ],
   "metadata": {
    "collapsed": false,
    "pycharm": {
     "name": "#%% md\n"
    }
   }
  },
  {
   "cell_type": "code",
   "execution_count": 24,
   "outputs": [],
   "source": [
    "# Cleanup: remove paths and graph projection\n",
    "ds_utils.remove_solution_from_db(gds, 'BEST_PATHS')\n",
    "ds_utils.remove_solution_from_db(gds, 'BEST_YENS_PATH')\n",
    "ds_utils.clear_all_graphs(gds)"
   ],
   "metadata": {
    "collapsed": false,
    "pycharm": {
     "name": "#%%\n"
    }
   }
  }
 ],
 "metadata": {
  "kernelspec": {
   "display_name": "Python 3 (ipykernel)",
   "language": "python",
   "name": "python3"
  },
  "language_info": {
   "codemirror_mode": {
    "name": "ipython",
    "version": 3
   },
   "file_extension": ".py",
   "mimetype": "text/x-python",
   "name": "python",
   "nbconvert_exporter": "python",
   "pygments_lexer": "ipython3",
   "version": "3.8.2"
  }
 },
 "nbformat": 4,
 "nbformat_minor": 1
}