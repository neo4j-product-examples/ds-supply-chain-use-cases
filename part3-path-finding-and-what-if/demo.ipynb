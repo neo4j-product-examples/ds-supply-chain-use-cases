{
 "cells": [
  {
   "cell_type": "markdown",
   "metadata": {
    "pycharm": {
     "name": "#%% md\n"
    }
   },
   "source": [
    "# Graph Data Science for Supply Chain: Part III\n",
    "## Path Finding, Optimization, and Recommendation for Supply Chain and Logistics\n",
    "\n",
    "This notebook demonstrates how [Neo4j Graph Data Science](https://neo4j.com/docs/graph-data-science/current/algorithms/) can be applied to supply chain data to:\n",
    "\n",
    "- find new, faster, paths through supply chain processes with potential to __improve performance by up to 40%__,\n",
    "- __facilitate enhanced downstream optimization__ for freight forwarding and supply chain problems in general, and\n",
    "- conduct __what-if simulations__ to quickly identify alternative routes under delay/failure scenarios and enable deeper risk assessment around critical and high centrality supply chain stages\n",
    "\n",
    "We will start with a brief recap of the dataset we have been using in the series and overview of shipment routes.  After that, we will explore path finding to show how we can identify new and faster shipment routes, walking through a specific example that reveals potential to improve performance by up to 40%.  We will then show how path finding algorithms can be used to facilitate downstream optimization problems enabling a freight forwarding recommender that returns results in a matter of just a few seconds. Lastly, we explore how these path finding algorithms can further be used in what-if scenario simulations to better understand alternative routing and conduct risk assessment.\n",
    "It is worth noting that while we are using an air cargo freight forwarding dataset in this post, these same techniques can be applied to other types of logistics, including maritime and trucking services, as well as other types of supply chain domains, including manufacturing, inventory management, and bill of materials.\n",
    "\n",
    "\n",
    "### Prerequisites\n",
    "- Neo4j >= 4.3\n",
    "- GDS >= 2.0\n",
    "- The Cargo 2000 case study dataset loaded into a Neo4j database. There is a notebook to generate the Neo4j database [here](https://github.com/neo4j-product-examples/demo-supply-chain-logistics/blob/main/airplane-cargo/part1/transform-and-load.ipynb). You can alternatively load the database from [this dump file](https://github.com/neo4j-product-examples/demo-supply-chain-logistics/blob/main/data/c2k-case-study.dump).\n"
   ]
  },
  {
   "cell_type": "code",
   "execution_count": 1,
   "outputs": [],
   "source": [
    "import pandas as pd\n",
    "import numpy as np\n",
    "import matplotlib.pyplot as plt\n",
    "import ds_utils\n",
    "from graphdatascience import GraphDataScience"
   ],
   "metadata": {
    "collapsed": false,
    "pycharm": {
     "name": "#%%\n"
    }
   }
  },
  {
   "cell_type": "code",
   "execution_count": 2,
   "outputs": [],
   "source": [
    "# Use Neo4j URI and credentials according to your setup\n",
    "gds = GraphDataScience('neo4j://localhost', auth=('neo4j', 'neo'))"
   ],
   "metadata": {
    "collapsed": false,
    "pycharm": {
     "name": "#%%\n"
    }
   }
  },
  {
   "cell_type": "markdown",
   "source": [
    "## Dataset\n",
    "\n",
    "For a sample dataset we will use the “Cargo 2000” transport and logistics case study [[1]](#1). Cargo 2000 (re-branded as Cargo iQ in 2016) is an initiative of the International Air Transport Association (IATA) that aims to deliver a new quality management system for the air cargo industry.logistics-diagram.png\n",
    "\n",
    "The below figure shows a model of the business processes covered in the IATA case study. It represents the business processes of a freight forwarding company, in which up to three smaller shipments from suppliers are consolidated and then shipped together to customers. The business process is structured into incoming and outgoing transport legs, with the overall objective that freight is delivered to customers in a timely manner.  You can find out more about the business model in the [first blog of this series](https://neo4j.com/developer-blog/supply-chain-neo4j-gds-bloom/) where we explored the dataset in Neo4j Bloom or from the [original data source]( https://s-cube-network.eu/c2k/).\n",
    "\n",
    "<img src=\"img/logistics-diagram.png\" alt=\"summary\" width=\"1000\"/>\n",
    "\n",
    "## References\n",
    "<a id=\"1\">[1]</a> A. Metzger, P. Leitner, D. Ivanovic, E. Schmieders, R. Franklin, M. Carro, S. Dustdar, and K. Pohl, “ Comparing and combining predictive business process monitoring techniques,” IEEE Trans. on Systems Man Cybernetics: Systems, 2015."
   ],
   "metadata": {
    "collapsed": false
   }
  },
  {
   "cell_type": "markdown",
   "source": [
    "## Understanding Historic Shipment Routes\n",
    "In the last two parts of this series we have primarily worked with a collapsed form of the network using the SENDS_TO relationship.  Since we are concerned with specific shipment paths in this part of the series, we will work with the full data model depicted below.\n",
    "\n",
    "<img src=\"img/c2k-schema.png\" alt=\"summary\" width=\"1000\"/>\n"
   ],
   "metadata": {
    "collapsed": false
   }
  },
  {
   "cell_type": "markdown",
   "source": [
    "Recall from part 1 that shipments consist of one or multiple incoming legs that merge into a single outgoing leg for delivery.  Each leg, incoming and outgoing, has the potential for multiple connecting flights.  For reference, below is an example of what a single shipment looks like in the graph with three incoming legs originating from Davidburgh, Paulchester, and Moodytown, and outgoing leg going to Davisfort.\n",
    "\n",
    "\n",
    "<img src=\"img/paths-of-single-shipments.png\" alt=\"summary\" width=\"1000\"/>"
   ],
   "metadata": {
    "collapsed": false
   }
  },
  {
   "cell_type": "markdown",
   "source": [
    "With this data model we can pull the total effective minutes for historic shipments paths with Cypher. A path being the set of nodes and relationships that track a single incoming leg end-to-end, going from the source airport EntryPoint all the way to the target airport Destination in a shipment. Below is a table and distribution of total time for paths going from Moodytown to Davisfort, one of the most frequent paths in the logistic network."
   ],
   "metadata": {
    "collapsed": false
   }
  },
  {
   "cell_type": "code",
   "execution_count": 3,
   "metadata": {
    "pycharm": {
     "name": "#%%\n"
    }
   },
   "outputs": [
    {
     "data": {
      "text/plain": "    incomingLegId  outgoingLegId  shipmentId         incomingDuration  \\\n0             123           8502        1490  00 days, 21 hrs, 32 min   \n1            1430           8403        1067  04 days, 07 hrs, 55 min   \n2            2601            657        1145  05 days, 06 hrs, 32 min   \n3            2617          14366         605  00 days, 18 hrs, 37 min   \n4            2941           7910        1323  01 days, 07 hrs, 42 min   \n..            ...            ...         ...                      ...   \n79          10934           6792        2633  00 days, 09 hrs, 13 min   \n80          10942           7971        1267  01 days, 19 hrs, 50 min   \n81          11019          14532         160  00 days, 12 hrs, 02 min   \n82          11127           6299        3167  02 days, 10 hrs, 06 min   \n83          13331           2405         775  01 days, 22 hrs, 54 min   \n\n           outgoingDuration            totalDuration  totalDurationDays  \n0   02 days, 13 hrs, 38 min  03 days, 11 hrs, 10 min           3.465278  \n1   06 days, 21 hrs, 26 min  11 days, 05 hrs, 21 min          11.222917  \n2   03 days, 17 hrs, 19 min  08 days, 23 hrs, 51 min           8.993750  \n3   01 days, 12 hrs, 01 min  02 days, 06 hrs, 38 min           2.276389  \n4   01 days, 02 hrs, 52 min  02 days, 10 hrs, 34 min           2.440278  \n..                      ...                      ...                ...  \n79  04 days, 12 hrs, 34 min  04 days, 21 hrs, 47 min           4.907639  \n80  01 days, 15 hrs, 37 min  03 days, 11 hrs, 27 min           3.477083  \n81  02 days, 23 hrs, 45 min  03 days, 11 hrs, 47 min           3.490972  \n82  01 days, 04 hrs, 54 min  03 days, 15 hrs, 00 min           3.625000  \n83  01 days, 11 hrs, 19 min  03 days, 10 hrs, 13 min           3.425694  \n\n[84 rows x 7 columns]",
      "text/html": "<div>\n<style scoped>\n    .dataframe tbody tr th:only-of-type {\n        vertical-align: middle;\n    }\n\n    .dataframe tbody tr th {\n        vertical-align: top;\n    }\n\n    .dataframe thead th {\n        text-align: right;\n    }\n</style>\n<table border=\"1\" class=\"dataframe\">\n  <thead>\n    <tr style=\"text-align: right;\">\n      <th></th>\n      <th>incomingLegId</th>\n      <th>outgoingLegId</th>\n      <th>shipmentId</th>\n      <th>incomingDuration</th>\n      <th>outgoingDuration</th>\n      <th>totalDuration</th>\n      <th>totalDurationDays</th>\n    </tr>\n  </thead>\n  <tbody>\n    <tr>\n      <th>0</th>\n      <td>123</td>\n      <td>8502</td>\n      <td>1490</td>\n      <td>00 days, 21 hrs, 32 min</td>\n      <td>02 days, 13 hrs, 38 min</td>\n      <td>03 days, 11 hrs, 10 min</td>\n      <td>3.465278</td>\n    </tr>\n    <tr>\n      <th>1</th>\n      <td>1430</td>\n      <td>8403</td>\n      <td>1067</td>\n      <td>04 days, 07 hrs, 55 min</td>\n      <td>06 days, 21 hrs, 26 min</td>\n      <td>11 days, 05 hrs, 21 min</td>\n      <td>11.222917</td>\n    </tr>\n    <tr>\n      <th>2</th>\n      <td>2601</td>\n      <td>657</td>\n      <td>1145</td>\n      <td>05 days, 06 hrs, 32 min</td>\n      <td>03 days, 17 hrs, 19 min</td>\n      <td>08 days, 23 hrs, 51 min</td>\n      <td>8.993750</td>\n    </tr>\n    <tr>\n      <th>3</th>\n      <td>2617</td>\n      <td>14366</td>\n      <td>605</td>\n      <td>00 days, 18 hrs, 37 min</td>\n      <td>01 days, 12 hrs, 01 min</td>\n      <td>02 days, 06 hrs, 38 min</td>\n      <td>2.276389</td>\n    </tr>\n    <tr>\n      <th>4</th>\n      <td>2941</td>\n      <td>7910</td>\n      <td>1323</td>\n      <td>01 days, 07 hrs, 42 min</td>\n      <td>01 days, 02 hrs, 52 min</td>\n      <td>02 days, 10 hrs, 34 min</td>\n      <td>2.440278</td>\n    </tr>\n    <tr>\n      <th>...</th>\n      <td>...</td>\n      <td>...</td>\n      <td>...</td>\n      <td>...</td>\n      <td>...</td>\n      <td>...</td>\n      <td>...</td>\n    </tr>\n    <tr>\n      <th>79</th>\n      <td>10934</td>\n      <td>6792</td>\n      <td>2633</td>\n      <td>00 days, 09 hrs, 13 min</td>\n      <td>04 days, 12 hrs, 34 min</td>\n      <td>04 days, 21 hrs, 47 min</td>\n      <td>4.907639</td>\n    </tr>\n    <tr>\n      <th>80</th>\n      <td>10942</td>\n      <td>7971</td>\n      <td>1267</td>\n      <td>01 days, 19 hrs, 50 min</td>\n      <td>01 days, 15 hrs, 37 min</td>\n      <td>03 days, 11 hrs, 27 min</td>\n      <td>3.477083</td>\n    </tr>\n    <tr>\n      <th>81</th>\n      <td>11019</td>\n      <td>14532</td>\n      <td>160</td>\n      <td>00 days, 12 hrs, 02 min</td>\n      <td>02 days, 23 hrs, 45 min</td>\n      <td>03 days, 11 hrs, 47 min</td>\n      <td>3.490972</td>\n    </tr>\n    <tr>\n      <th>82</th>\n      <td>11127</td>\n      <td>6299</td>\n      <td>3167</td>\n      <td>02 days, 10 hrs, 06 min</td>\n      <td>01 days, 04 hrs, 54 min</td>\n      <td>03 days, 15 hrs, 00 min</td>\n      <td>3.625000</td>\n    </tr>\n    <tr>\n      <th>83</th>\n      <td>13331</td>\n      <td>2405</td>\n      <td>775</td>\n      <td>01 days, 22 hrs, 54 min</td>\n      <td>01 days, 11 hrs, 19 min</td>\n      <td>03 days, 10 hrs, 13 min</td>\n      <td>3.425694</td>\n    </tr>\n  </tbody>\n</table>\n<p>84 rows × 7 columns</p>\n</div>"
     },
     "execution_count": 3,
     "metadata": {},
     "output_type": "execute_result"
    }
   ],
   "source": [
    "# Calculate distribution for a single path\n",
    "source_airport_id = 815 #'Moodytown'\n",
    "target_airport_id = 700 #'Davisfort'\n",
    "moodytown_davisfort_df = gds.run_cypher('''\n",
    "    //match incoming legIds (leg numbers are > 0)\n",
    "    MATCH(:EntryPoint {airportId: $sourceAirportId})-[r:RECEPTION]->() WHERE r.legNumber > 0\n",
    "    WITH r.legId AS incomingLegId, r.shipmentId AS shipmentId\n",
    "    //filter to only shipmentIds that go to target airport\n",
    "    MATCH()-[:DELIVERY {shipmentId:shipmentId}]->(:Destination {airportId: $targetAirportId})\n",
    "    WITH incomingLegId, shipmentId\n",
    "    //incoming relationships\n",
    "    MATCH()-[r {legId: incomingLegId}]->()\n",
    "    WITH incomingLegId, shipmentId, sum(r.effectiveMinutes) AS incomingMinutes\n",
    "    //outgoing relationships (leg numbers are < 0)\n",
    "    MATCH()-[r {shipmentId: shipmentId}]->() WHERE r.legNumber < 0\n",
    "    WITH incomingLegId, r.legId AS outgoingLegId, shipmentId, incomingMinutes, sum(r.effectiveMinutes) AS outgoingMinutes\n",
    "    //sum all results on return\n",
    "    RETURN incomingLegId, outgoingLegId, shipmentId, incomingMinutes, outgoingMinutes, (incomingMinutes + outgoingMinutes) AS totalMinutes\n",
    "    ORDER BY incomingLegId\n",
    "''', params = {'sourceAirportId': source_airport_id, 'targetAirportId': target_airport_id})\n",
    "\n",
    "moodytown_davisfort_df['incomingDuration'] = ds_utils.minutes_to_duration(moodytown_davisfort_df.incomingMinutes)\n",
    "moodytown_davisfort_df['outgoingDuration'] = ds_utils.minutes_to_duration(moodytown_davisfort_df.outgoingMinutes)\n",
    "moodytown_davisfort_df['totalDuration'] = ds_utils.minutes_to_duration(moodytown_davisfort_df.totalMinutes)\n",
    "moodytown_davisfort_df['totalDurationDays'] = moodytown_davisfort_df.totalMinutes/1440.0\n",
    "moodytown_davisfort_df.drop(columns=['incomingMinutes', 'outgoingMinutes', 'totalMinutes'], inplace=True)\n",
    "moodytown_davisfort_df"
   ]
  },
  {
   "cell_type": "code",
   "execution_count": 4,
   "metadata": {
    "pycharm": {
     "name": "#%%\n"
    }
   },
   "outputs": [
    {
     "data": {
      "text/plain": "<Figure size 432x288 with 1 Axes>",
      "image/png": "[encoded data removed]"
     },
     "metadata": {
      "needs_background": "light"
     },
     "output_type": "display_data"
    },
    {
     "name": "stdout",
     "output_type": "stream",
     "text": [
      "Mean Duration: 5.4 days\n"
     ]
    }
   ],
   "source": [
    "def get_percentiles(s, q=None):\n",
    "    if q is None:\n",
    "        q = [0.1, 0.25, 0.5, 0.75, 0.9, 0.95, 0.99]\n",
    "    q_name = ['min'] + [f'p{int(100*i)}' for i in q] + ['max']\n",
    "    p = [round(s.min(),2)] + [round(s.quantile(i), 2) for i in q] + [round(s.max(),2)]\n",
    "    p_df = pd.DataFrame(np.column_stack((q_name, p)), columns=['q', 'percentile'])\n",
    "    return p_df.set_index('q')\n",
    "\n",
    "plt.hist(moodytown_davisfort_df.totalDurationDays, bins=max(round(moodytown_davisfort_df.shape[0]/3),5))\n",
    "plt.title('Route Duration Distribution')\n",
    "plt.ylabel('Frequency')\n",
    "plt.xlabel('Duration (in Days)')\n",
    "plt.figtext(0.7, 0.4, get_percentiles(moodytown_davisfort_df.totalDurationDays).to_string())\n",
    "plt.show()\n",
    "print(f'Mean Duration: {round(moodytown_davisfort_df.totalDurationDays.mean(),1)} days')"
   ]
  },
  {
   "cell_type": "markdown",
   "metadata": {},
   "source": [
    "Notice the distribution has a long right tail. This is characteristic for many of the other shipment routes where most shipments fall into a tight range of duration times, with a few extreme cases that have much longer times, sometimes ten or more times greater than the median."
   ]
  },
  {
   "cell_type": "markdown",
   "metadata": {
    "pycharm": {
     "name": "#%% md\n"
    }
   },
   "source": [
    "## Identify Faster Routes and Improve Performance with Path Finding\n",
    "\n",
    "GDS has a robust family of [10+ algorithms for path finding](https://neo4j.com/docs/graph-data-science/current/algorithms/pathfinding/).  These algorithms can be used to explore, recommend, and optimize paths in supply chains.  To highlight just a few of these algorithms:\n",
    "\n",
    "- [Dikstra’s Source-Target Shortest Path](https://neo4j.com/docs/graph-data-science/current/algorithms/dijkstra-source-target/) is a classic graph algorithm for finding the shortest path between two nodes\n",
    "\n",
    "- [Delta-Stepping Single-Source Shortest Path](https://neo4j.com/docs/graph-data-science/current/algorithms/delta-single-source/) uses parallelized computation to find the shortest paths between a single source node and multiple target nodes.\n",
    "\n",
    "- [A* Shortest Path](https://neo4j.com/docs/graph-data-science/current/algorithms/astar/) is an extension of Dijkstra that uses heuristics to speed up computation.  Particularly well-suited for paths between geospatial points\n",
    "\n",
    "In this notebook we will focus on another path finding algorithm called [Yen's K-Shortest Path](https://neo4j.com/docs/graph-data-science/current/algorithms/yens/). Yen’s algorithm is similar to the Dikstra’s Source-Target Shortest Path, but while Djikstra calculates only a single shortest path between a source node and target node, Yens can find multiple, “top k”, shortest paths between a source and target.  This will prove useful later for recommending freight forwarding combinations.\n",
    "\n",
    "Yen’s algorithm, along with most other GDS Path finding algorithms, can be weighted with relationship properties to take variable costs associated with time, distance, and other operations into consideration.  In this case we will use the average effective minutes of the business processes.  This will allow us to find paths that minimize the approximate average duration, which we will refer to as the “fastest” paths. There are some statistical considerations to keep in mind when using averages this way. Depending on your use case you may also want to choose a different type of aggregate measure. I cover this in more detail in the appendix.  If you are considering using this type of solution in a production capacity I recommend reading it. For now though, the following steps provide a good starting point for path finding based on historical data.\n",
    "\n",
    "The below Cypher projection aggregates parallel relationships and creates the average effective time relationship property."
   ]
  },
  {
   "cell_type": "code",
   "execution_count": 5,
   "metadata": {
    "pycharm": {
     "name": "#%%\n"
    }
   },
   "outputs": [
    {
     "data": {
      "text/plain": "nodeQuery            MATCH(n)\\n   WHERE n:EntryPoint \\n       OR n:...\nrelationshipQuery    MATCH(n0)-[r:RECEPTION|DEPARTURE|TRANSPORT|DEL...\ngraphName                                                         proj\nnodeCount                                                         1422\nrelationshipCount                                                 2024\nprojectMillis                                                       85\nName: 0, dtype: object"
     },
     "execution_count": 5,
     "metadata": {},
     "output_type": "execute_result"
    }
   ],
   "source": [
    "g, _ = gds.graph.project.cypher('proj',\n",
    "    '''\n",
    "   MATCH(n)\n",
    "   WHERE n:EntryPoint \n",
    "       OR n:DepartureWarehouse OR n:DeparturePoint OR n:ArrivalWarehouse OR n:TransferPoint OR n:Destination\n",
    "   RETURN id(n) as id, labels(n) as labels\n",
    "   '''\n",
    "    ,\n",
    "    '''\n",
    "    MATCH(n0)-[r:RECEPTION|DEPARTURE|TRANSPORT|DELIVERY]->(n1)\n",
    "    RETURN id(n0) AS source, id(n1) AS target, type(r) AS type, avg(r.effectiveMinutes) AS averageEffectiveMinutes\n",
    "    '''\n",
    ")\n",
    "_"
   ]
  },
  {
   "cell_type": "markdown",
   "metadata": {},
   "source": [
    "After you project the graph you can begin with path finding.  For our first example, let’s get the top 10 shortest paths going from Moodytown to Davisport."
   ]
  },
  {
   "cell_type": "code",
   "execution_count": 6,
   "metadata": {
    "pycharm": {
     "name": "#%%\n"
    }
   },
   "outputs": [],
   "source": [
    "source_airport_name = 'Moodytown'\n",
    "target_airport_name = 'Davisfort'\n",
    "source_node_id = gds.find_node_id(['EntryPoint'], {'name': source_airport_name})\n",
    "target_node_id = gds.find_node_id(['Destination'], {'name': target_airport_name})\n",
    "yen_df = gds.shortestPath.yens.stream(g, sourceNode=source_node_id, targetNode=target_node_id, k=10,\n",
    "                                      relationshipWeightProperty='averageEffectiveMinutes')"
   ]
  },
  {
   "cell_type": "code",
   "execution_count": 7,
   "metadata": {
    "pycharm": {
     "name": "#%%\n"
    }
   },
   "outputs": [
    {
     "data": {
      "text/plain": "                                         airportPath       approximateAvgTime\n0                             Moodytown -> Davisfort  02 days, 14 hrs, 23 min\n1              Moodytown -> Michaelstad -> Davisfort  03 days, 01 hrs, 29 min\n2             Moodytown -> Wandaborough -> Davisfort  03 days, 04 hrs, 28 min\n3              Moodytown -> Matthewport -> Davisfort  03 days, 04 hrs, 57 min\n4                Moodytown -> Bryanside -> Davisfort  03 days, 06 hrs, 16 min\n5                Moodytown -> Shanefort -> Davisfort  03 days, 07 hrs, 58 min\n6              Moodytown -> Langborough -> Davisfort  03 days, 09 hrs, 01 min\n7  Moodytown -> Ramoshaven -> Wandaborough -> Dav...  03 days, 12 hrs, 24 min\n8  Moodytown -> Wandaborough -> Michaelstad -> Da...  03 days, 14 hrs, 07 min\n9   Moodytown -> Lisaton -> Michaelstad -> Davisfort  03 days, 15 hrs, 54 min",
      "text/html": "<div>\n<style scoped>\n    .dataframe tbody tr th:only-of-type {\n        vertical-align: middle;\n    }\n\n    .dataframe tbody tr th {\n        vertical-align: top;\n    }\n\n    .dataframe thead th {\n        text-align: right;\n    }\n</style>\n<table border=\"1\" class=\"dataframe\">\n  <thead>\n    <tr style=\"text-align: right;\">\n      <th></th>\n      <th>airportPath</th>\n      <th>approximateAvgTime</th>\n    </tr>\n  </thead>\n  <tbody>\n    <tr>\n      <th>0</th>\n      <td>Moodytown -&gt; Davisfort</td>\n      <td>02 days, 14 hrs, 23 min</td>\n    </tr>\n    <tr>\n      <th>1</th>\n      <td>Moodytown -&gt; Michaelstad -&gt; Davisfort</td>\n      <td>03 days, 01 hrs, 29 min</td>\n    </tr>\n    <tr>\n      <th>2</th>\n      <td>Moodytown -&gt; Wandaborough -&gt; Davisfort</td>\n      <td>03 days, 04 hrs, 28 min</td>\n    </tr>\n    <tr>\n      <th>3</th>\n      <td>Moodytown -&gt; Matthewport -&gt; Davisfort</td>\n      <td>03 days, 04 hrs, 57 min</td>\n    </tr>\n    <tr>\n      <th>4</th>\n      <td>Moodytown -&gt; Bryanside -&gt; Davisfort</td>\n      <td>03 days, 06 hrs, 16 min</td>\n    </tr>\n    <tr>\n      <th>5</th>\n      <td>Moodytown -&gt; Shanefort -&gt; Davisfort</td>\n      <td>03 days, 07 hrs, 58 min</td>\n    </tr>\n    <tr>\n      <th>6</th>\n      <td>Moodytown -&gt; Langborough -&gt; Davisfort</td>\n      <td>03 days, 09 hrs, 01 min</td>\n    </tr>\n    <tr>\n      <th>7</th>\n      <td>Moodytown -&gt; Ramoshaven -&gt; Wandaborough -&gt; Dav...</td>\n      <td>03 days, 12 hrs, 24 min</td>\n    </tr>\n    <tr>\n      <th>8</th>\n      <td>Moodytown -&gt; Wandaborough -&gt; Michaelstad -&gt; Da...</td>\n      <td>03 days, 14 hrs, 07 min</td>\n    </tr>\n    <tr>\n      <th>9</th>\n      <td>Moodytown -&gt; Lisaton -&gt; Michaelstad -&gt; Davisfort</td>\n      <td>03 days, 15 hrs, 54 min</td>\n    </tr>\n  </tbody>\n</table>\n</div>"
     },
     "execution_count": 7,
     "metadata": {},
     "output_type": "execute_result"
    }
   ],
   "source": [
    "def get_airport_names(p):\n",
    "    return ' -> '.join(list(dict.fromkeys([node.get('name') for node in p.nodes])))\n",
    "yen_df['airportPath'] = yen_df.path.apply(get_airport_names)\n",
    "yen_df['totalCostFormatted'] = ds_utils.minutes_to_duration(yen_df.totalCost)\n",
    "top_path_df = yen_df[['airportPath', 'totalCostFormatted']].rename(columns={'totalCostFormatted':'approximateAvgTime'})\n",
    "top_path_df"
   ]
  },
  {
   "cell_type": "markdown",
   "metadata": {},
   "source": [
    "Notice that the best path is a direct flight from Moodytown to Davisport. By nature of the freight forwarding model, we don’t have direct deliveries in the dataset.  We will see later with freight forwarding combinations that there are opportunities for reducing total costs by taking longer routes through connecting airports which motivates the use of multi-step paths despite them taking longer on average. \n",
    "\n",
    "Let's compare the above paths to those historically taken in the dataset.  We will do this by merging the above results to actual historic paths which we can pull with Cypher.  Below is the resulting dataframe."
   ]
  },
  {
   "cell_type": "code",
   "execution_count": 8,
   "metadata": {
    "pycharm": {
     "name": "#%%\n"
    }
   },
   "outputs": [
    {
     "data": {
      "text/plain": "                                          airportPath  \\\n0                              Moodytown -> Davisfort   \n1               Moodytown -> Michaelstad -> Davisfort   \n2              Moodytown -> Wandaborough -> Davisfort   \n3               Moodytown -> Matthewport -> Davisfort   \n4                 Moodytown -> Bryanside -> Davisfort   \n5                 Moodytown -> Shanefort -> Davisfort   \n6               Moodytown -> Langborough -> Davisfort   \n7   Moodytown -> Ramoshaven -> Wandaborough -> Dav...   \n8   Moodytown -> Wandaborough -> Michaelstad -> Da...   \n9    Moodytown -> Lisaton -> Michaelstad -> Davisfort   \n10                Moodytown -> Scotttown -> Davisfort   \n11            Moodytown -> Amandachester -> Davisfort   \n12                Moodytown -> Simonfurt -> Davisfort   \n13              Moodytown -> Amandamouth -> Davisfort   \n14               Moodytown -> Alvarezton -> Davisfort   \n15                Moodytown -> Sonyafort -> Davisfort   \n16  Moodytown -> Davisfort -> Staceyshire -> Davis...   \n17                 Moodytown -> Erictown -> Davisfort   \n18                Moodytown -> Evansfort -> Davisfort   \n\n         approximateAvgTime  historicPathCount          historicAvgCost  \\\n0   02 days, 14 hrs, 23 min                NaN                      NaN   \n1   03 days, 01 hrs, 29 min               48.0  02 days, 21 hrs, 57 min   \n2   03 days, 04 hrs, 28 min                1.0  03 days, 11 hrs, 27 min   \n3   03 days, 04 hrs, 57 min                NaN                      NaN   \n4   03 days, 06 hrs, 16 min                NaN                      NaN   \n5   03 days, 07 hrs, 58 min                5.0  04 days, 00 hrs, 08 min   \n6   03 days, 09 hrs, 01 min                1.0  02 days, 10 hrs, 34 min   \n7   03 days, 12 hrs, 24 min                NaN                      NaN   \n8   03 days, 14 hrs, 07 min                NaN                      NaN   \n9   03 days, 15 hrs, 54 min                NaN                      NaN   \n10                      NaN               11.0  05 days, 00 hrs, 39 min   \n11                      NaN                5.0  06 days, 16 hrs, 42 min   \n12                      NaN                4.0  21 days, 14 hrs, 56 min   \n13                      NaN                3.0  22 days, 11 hrs, 34 min   \n14                      NaN                2.0  02 days, 22 hrs, 55 min   \n15                      NaN                1.0  03 days, 10 hrs, 13 min   \n16                      NaN                1.0  11 days, 05 hrs, 21 min   \n17                      NaN                1.0  08 days, 12 hrs, 46 min   \n18                      NaN                1.0  13 days, 22 hrs, 14 min   \n\n            historicCostStd                                      historicCosts  \n0                       NaN                                                NaN  \n1   01 days, 04 hrs, 49 min  [04days-03hrs-22min, 01days-23hrs-33min, 01day...  \n2   00 days, 00 hrs, 00 min                               [03days-11hrs-27min]  \n3                       NaN                                                NaN  \n4                       NaN                                                NaN  \n5   01 days, 10 hrs, 17 min  [05days-05hrs-22min, 02days-08hrs-19min, 02day...  \n6   00 days, 00 hrs, 00 min                               [02days-10hrs-34min]  \n7                       NaN                                                NaN  \n8                       NaN                                                NaN  \n9                       NaN                                                NaN  \n10  01 days, 14 hrs, 54 min  [03days-16hrs-01min, 05days-23hrs-14min, 08day...  \n11  02 days, 03 hrs, 31 min  [06days-17hrs-58min, 04days-15hrs-44min, 08day...  \n12  10 days, 13 hrs, 01 min  [33days-18hrs-01min, 13days-18hrs-17min, 11day...  \n13  16 days, 06 hrs, 54 min  [03days-23hrs-39min, 28days-18hrs-50min, 34day...  \n14  00 days, 17 hrs, 19 min           [02days-10hrs-40min, 03days-11hrs-10min]  \n15  00 days, 00 hrs, 00 min                               [03days-10hrs-13min]  \n16  00 days, 00 hrs, 00 min                               [11days-05hrs-21min]  \n17  00 days, 00 hrs, 00 min                               [08days-12hrs-46min]  \n18  00 days, 00 hrs, 00 min                               [13days-22hrs-14min]  ",
      "text/html": "<div>\n<style scoped>\n    .dataframe tbody tr th:only-of-type {\n        vertical-align: middle;\n    }\n\n    .dataframe tbody tr th {\n        vertical-align: top;\n    }\n\n    .dataframe thead th {\n        text-align: right;\n    }\n</style>\n<table border=\"1\" class=\"dataframe\">\n  <thead>\n    <tr style=\"text-align: right;\">\n      <th></th>\n      <th>airportPath</th>\n      <th>approximateAvgTime</th>\n      <th>historicPathCount</th>\n      <th>historicAvgCost</th>\n      <th>historicCostStd</th>\n      <th>historicCosts</th>\n    </tr>\n  </thead>\n  <tbody>\n    <tr>\n      <th>0</th>\n      <td>Moodytown -&gt; Davisfort</td>\n      <td>02 days, 14 hrs, 23 min</td>\n      <td>NaN</td>\n      <td>NaN</td>\n      <td>NaN</td>\n      <td>NaN</td>\n    </tr>\n    <tr>\n      <th>1</th>\n      <td>Moodytown -&gt; Michaelstad -&gt; Davisfort</td>\n      <td>03 days, 01 hrs, 29 min</td>\n      <td>48.0</td>\n      <td>02 days, 21 hrs, 57 min</td>\n      <td>01 days, 04 hrs, 49 min</td>\n      <td>[04days-03hrs-22min, 01days-23hrs-33min, 01day...</td>\n    </tr>\n    <tr>\n      <th>2</th>\n      <td>Moodytown -&gt; Wandaborough -&gt; Davisfort</td>\n      <td>03 days, 04 hrs, 28 min</td>\n      <td>1.0</td>\n      <td>03 days, 11 hrs, 27 min</td>\n      <td>00 days, 00 hrs, 00 min</td>\n      <td>[03days-11hrs-27min]</td>\n    </tr>\n    <tr>\n      <th>3</th>\n      <td>Moodytown -&gt; Matthewport -&gt; Davisfort</td>\n      <td>03 days, 04 hrs, 57 min</td>\n      <td>NaN</td>\n      <td>NaN</td>\n      <td>NaN</td>\n      <td>NaN</td>\n    </tr>\n    <tr>\n      <th>4</th>\n      <td>Moodytown -&gt; Bryanside -&gt; Davisfort</td>\n      <td>03 days, 06 hrs, 16 min</td>\n      <td>NaN</td>\n      <td>NaN</td>\n      <td>NaN</td>\n      <td>NaN</td>\n    </tr>\n    <tr>\n      <th>5</th>\n      <td>Moodytown -&gt; Shanefort -&gt; Davisfort</td>\n      <td>03 days, 07 hrs, 58 min</td>\n      <td>5.0</td>\n      <td>04 days, 00 hrs, 08 min</td>\n      <td>01 days, 10 hrs, 17 min</td>\n      <td>[05days-05hrs-22min, 02days-08hrs-19min, 02day...</td>\n    </tr>\n    <tr>\n      <th>6</th>\n      <td>Moodytown -&gt; Langborough -&gt; Davisfort</td>\n      <td>03 days, 09 hrs, 01 min</td>\n      <td>1.0</td>\n      <td>02 days, 10 hrs, 34 min</td>\n      <td>00 days, 00 hrs, 00 min</td>\n      <td>[02days-10hrs-34min]</td>\n    </tr>\n    <tr>\n      <th>7</th>\n      <td>Moodytown -&gt; Ramoshaven -&gt; Wandaborough -&gt; Dav...</td>\n      <td>03 days, 12 hrs, 24 min</td>\n      <td>NaN</td>\n      <td>NaN</td>\n      <td>NaN</td>\n      <td>NaN</td>\n    </tr>\n    <tr>\n      <th>8</th>\n      <td>Moodytown -&gt; Wandaborough -&gt; Michaelstad -&gt; Da...</td>\n      <td>03 days, 14 hrs, 07 min</td>\n      <td>NaN</td>\n      <td>NaN</td>\n      <td>NaN</td>\n      <td>NaN</td>\n    </tr>\n    <tr>\n      <th>9</th>\n      <td>Moodytown -&gt; Lisaton -&gt; Michaelstad -&gt; Davisfort</td>\n      <td>03 days, 15 hrs, 54 min</td>\n      <td>NaN</td>\n      <td>NaN</td>\n      <td>NaN</td>\n      <td>NaN</td>\n    </tr>\n    <tr>\n      <th>10</th>\n      <td>Moodytown -&gt; Scotttown -&gt; Davisfort</td>\n      <td>NaN</td>\n      <td>11.0</td>\n      <td>05 days, 00 hrs, 39 min</td>\n      <td>01 days, 14 hrs, 54 min</td>\n      <td>[03days-16hrs-01min, 05days-23hrs-14min, 08day...</td>\n    </tr>\n    <tr>\n      <th>11</th>\n      <td>Moodytown -&gt; Amandachester -&gt; Davisfort</td>\n      <td>NaN</td>\n      <td>5.0</td>\n      <td>06 days, 16 hrs, 42 min</td>\n      <td>02 days, 03 hrs, 31 min</td>\n      <td>[06days-17hrs-58min, 04days-15hrs-44min, 08day...</td>\n    </tr>\n    <tr>\n      <th>12</th>\n      <td>Moodytown -&gt; Simonfurt -&gt; Davisfort</td>\n      <td>NaN</td>\n      <td>4.0</td>\n      <td>21 days, 14 hrs, 56 min</td>\n      <td>10 days, 13 hrs, 01 min</td>\n      <td>[33days-18hrs-01min, 13days-18hrs-17min, 11day...</td>\n    </tr>\n    <tr>\n      <th>13</th>\n      <td>Moodytown -&gt; Amandamouth -&gt; Davisfort</td>\n      <td>NaN</td>\n      <td>3.0</td>\n      <td>22 days, 11 hrs, 34 min</td>\n      <td>16 days, 06 hrs, 54 min</td>\n      <td>[03days-23hrs-39min, 28days-18hrs-50min, 34day...</td>\n    </tr>\n    <tr>\n      <th>14</th>\n      <td>Moodytown -&gt; Alvarezton -&gt; Davisfort</td>\n      <td>NaN</td>\n      <td>2.0</td>\n      <td>02 days, 22 hrs, 55 min</td>\n      <td>00 days, 17 hrs, 19 min</td>\n      <td>[02days-10hrs-40min, 03days-11hrs-10min]</td>\n    </tr>\n    <tr>\n      <th>15</th>\n      <td>Moodytown -&gt; Sonyafort -&gt; Davisfort</td>\n      <td>NaN</td>\n      <td>1.0</td>\n      <td>03 days, 10 hrs, 13 min</td>\n      <td>00 days, 00 hrs, 00 min</td>\n      <td>[03days-10hrs-13min]</td>\n    </tr>\n    <tr>\n      <th>16</th>\n      <td>Moodytown -&gt; Davisfort -&gt; Staceyshire -&gt; Davis...</td>\n      <td>NaN</td>\n      <td>1.0</td>\n      <td>11 days, 05 hrs, 21 min</td>\n      <td>00 days, 00 hrs, 00 min</td>\n      <td>[11days-05hrs-21min]</td>\n    </tr>\n    <tr>\n      <th>17</th>\n      <td>Moodytown -&gt; Erictown -&gt; Davisfort</td>\n      <td>NaN</td>\n      <td>1.0</td>\n      <td>08 days, 12 hrs, 46 min</td>\n      <td>00 days, 00 hrs, 00 min</td>\n      <td>[08days-12hrs-46min]</td>\n    </tr>\n    <tr>\n      <th>18</th>\n      <td>Moodytown -&gt; Evansfort -&gt; Davisfort</td>\n      <td>NaN</td>\n      <td>1.0</td>\n      <td>13 days, 22 hrs, 14 min</td>\n      <td>00 days, 00 hrs, 00 min</td>\n      <td>[13days-22hrs-14min]</td>\n    </tr>\n  </tbody>\n</table>\n</div>"
     },
     "execution_count": 8,
     "metadata": {},
     "output_type": "execute_result"
    }
   ],
   "source": [
    "top_path_df.merge(ds_utils.historic_path_counts(gds, source_airport_id, target_airport_id), on='airportPath', \n",
    "                  how='outer')"
   ]
  },
  {
   "cell_type": "markdown",
   "metadata": {},
   "source": [
    "Notice that the second best path through Michaelstad is by far the most frequently used route historically.  However, there still seem to be many routes that aren’t reflected in our shortest path recommendations.  For example, there are 11 instances going through Scottstown which isn’t even in the top 15 recommended paths, as well as 5 through Amandachester and 4 through Simonfurt.\n",
    "\n",
    "### Improving Performance by Selecting New Routes\n",
    "While Scotttown was heavily utilized historically, our application of GDS path finding revealed multiple other faster options. We are already routing many flights through Michaelstad, so what if we routed the Scotttown flights through Wandaborough instead which has a very similar approximate average time to the Michaelstad path?\n",
    "\n",
    "With a bit of arithmetic, we can estimate that by switching the Scottstown flights to go through Wondaburough instead, __*we could see an approx 40% decrease in average time which is rather significant*__.\n",
    "\n",
    "To calculate this, it is important to note that the approximate average times from our Yen’s shortest paths and the actual historic average times won’t be exactly the same for a variety of reasons.  These include large variance in flight times and the fact that shortest paths tend to go through flight segment connections rather than proper TransferPoints (points where incoming and outgoing legs connect in the graph schema triggering another freight reception process).  Nevertheless, the shortest path approximate average times and historic average times should be well correlated, and if we assume they are relatively proportional we can estimate differences in performance between different paths. For the above example, we can note that the Wondaburough connected path (#2) is only slightly longer than the Michaelstad connected path (#1) and that the average historic time of the Michaelstad connected path is under 60% that of the Scottstown connected path (#10). A bit of percentage calculations will allow you to reach the solution I came to above."
   ]
  },
  {
   "cell_type": "markdown",
   "metadata": {
    "pycharm": {
     "name": "#%% md\n"
    }
   },
   "source": [
    "## Downstream Optimization and Recommendation\n",
    "\n",
    "Once we can find shortest paths we can use them in downstream optimization and recommendation to aid decision making in supply chains.  In this case we will use them for freight forwarding combinations. Optimization in supply chain networks is a broad and complex topic often involving multiple objectives relating to revenue, time, and expenses as well as constraints around resources, equipment, and other assets.  From a technical standpoint, this can involve linear and nonlinear programming techniques as well as discrete optimization.  Going into depth on these techniques is out of scope for this post.  However, I will walk through a simple example of using shortest paths to optimize and recommend freight forwarding combinations.  This should provide you with enough tooling to get started with using graph data science for your own supply chain optimization problems.\n",
    "\n",
    "Consider you have 4 shipments going to Sandersshire from the airports\n",
    "1. Bradleymouth\n",
    "2. Moodytown\n",
    "3. Richardberg, and \n",
    "4. Wandaborough\n",
    "\n",
    "We could simply use the shortest path for each route.  Below is the total cost of that solution in minutes as well as a visualization from Bloom.\n"
   ]
  },
  {
   "cell_type": "code",
   "execution_count": 9,
   "metadata": {
    "pycharm": {
     "name": "#%%\n"
    }
   },
   "outputs": [
    {
     "name": "stdout",
     "output_type": "stream",
     "text": [
      "Total Average Cost: 15805.44\n"
     ]
    }
   ],
   "source": [
    "source_airport_names =  ['Bradleymouth', 'Moodytown', 'Richardberg', 'Wandaborough']\n",
    "target_airport_name = 'Sandersshire'\n",
    "\n",
    "shortest_path_list = []\n",
    "rels = {}\n",
    "for source_airport_name in source_airport_names:\n",
    "    source_node_id = gds.find_node_id(['EntryPoint'], {'name': source_airport_name})\n",
    "    temp_df = gds.shortestPath.dijkstra.stream(g, sourceNode=source_node_id, targetNode=gds.find_node_id(['Destination'], {'name': target_airport_name}),\n",
    "                                               relationshipWeightProperty='averageEffectiveMinutes')\n",
    "    for r in temp_df.path[0].relationships:\n",
    "        rels[f'{r.start_node.id}-{r.end_node.id}'] = r\n",
    "\n",
    "print(f'Total Average Cost: {round(sum([r.get(\"cost\") for r in rels.values()]), 2)}')"
   ]
  },
  {
   "cell_type": "code",
   "execution_count": 10,
   "metadata": {
    "pycharm": {
     "name": "#%%\n"
    }
   },
   "outputs": [],
   "source": [
    "ds_utils.write_solution_to_db(gds, rels.values(), 'best-single-paths')"
   ]
  },
  {
   "cell_type": "markdown",
   "metadata": {},
   "source": [
    "This can be visualized in Bloom using a [search phrase](https://neo4j.com/docs/bloom-user-guide/current/bloom-tutorial/search-phrases-advanced/).  i.e.\n",
    "\n",
    "- Search phrase: \"Solution Path: &#36;s\"\n",
    "- Cypher query: `MATCH (n)-[r:SOLUTION_PATH {solutionTag: $s}]->(m)\n",
    "RETURN *`\n",
    "\n",
    "Then you can type \"Solution Path: best-single-paths\" into the search bar to get the below:\n",
    "\n",
    "\n",
    "<img src=\"img/sandersshire-all-shortest-paths.png\" alt=\"summary\" width=\"1000\"/>"
   ]
  },
  {
   "cell_type": "markdown",
   "metadata": {},
   "source": [
    "However, this may not be the best overall solution.  We could, instead choose paths that allow us to better consolidate freight on different legs, allowing us to use less airplanes, less overall resources, and reducing cost."
   ]
  },
  {
   "cell_type": "markdown",
   "metadata": {},
   "source": [
    "### Minimal Cost Objective to Recommend Freight Forwarding Combinations\n",
    "\n",
    "To keep things simple, we will find a freight forwarding solution by minimizing a single objective, total average time.  The total average time is calculated by taking the sum of all the approximate average times in the relationships in the paths. If multiple paths go through the same airport, the business processes (expressed as relationships) for that airport including transport, departure, reception, and delivery will only be counted once. This reflects a cost minimization problem, with a constant variable cost across all business processes. Obviously, for real world application, you may need to vary the cost per business process or develop other rules around how overlapping paths affect total costs, all of which can be accomplished by altering/extending the objective.\n",
    "\n",
    "Below are the top 10 solutions.  The function `ds_utils.top_k_solutions_from_names` contains all the logic for running Yen's shortest path in GDS and applying the objective function to rank the freight forwarding combinations."
   ]
  },
  {
   "cell_type": "code",
   "execution_count": 11,
   "metadata": {
    "pycharm": {
     "name": "#%%\n"
    }
   },
   "outputs": [
    {
     "data": {
      "text/plain": "  solutionIndex  totalAverageTime  \\\n0  (1, 0, 1, 0)      14069.456562   \n1  (1, 1, 1, 0)      14576.614786   \n2  (1, 0, 1, 2)      14640.372950   \n3  (1, 4, 1, 0)      14668.587302   \n4  (1, 1, 1, 2)      14715.954250   \n5  (1, 0, 1, 3)      14728.186310   \n6  (1, 3, 1, 0)      14773.181668   \n7  (1, 3, 1, 3)      14775.490364   \n8  (1, 0, 0, 0)      14803.355023   \n9  (1, 0, 1, 4)      14853.769859   \n\n                                           pathCosts  \n0  [6221.733971695967, 5208.344320769946, 6535.08...  \n1  [6221.733971695967, 5715.5025446598775, 6535.0...  \n2  [6221.733971695967, 5208.344320769946, 6535.08...  \n3  [6221.733971695967, 6011.366365614366, 6535.08...  \n4  [6221.733971695967, 5715.5025446598775, 6535.0...  \n5  [6221.733971695967, 5208.344320769946, 6535.08...  \n6  [6221.733971695967, 5912.069427455579, 6535.08...  \n7  [6221.733971695967, 5912.069427455579, 6535.08...  \n8  [6221.733971695967, 5208.344320769946, 5629.32...  \n9  [6221.733971695967, 5208.344320769946, 6535.08...  ",
      "text/html": "<div>\n<style scoped>\n    .dataframe tbody tr th:only-of-type {\n        vertical-align: middle;\n    }\n\n    .dataframe tbody tr th {\n        vertical-align: top;\n    }\n\n    .dataframe thead th {\n        text-align: right;\n    }\n</style>\n<table border=\"1\" class=\"dataframe\">\n  <thead>\n    <tr style=\"text-align: right;\">\n      <th></th>\n      <th>solutionIndex</th>\n      <th>totalAverageTime</th>\n      <th>pathCosts</th>\n    </tr>\n  </thead>\n  <tbody>\n    <tr>\n      <th>0</th>\n      <td>(1, 0, 1, 0)</td>\n      <td>14069.456562</td>\n      <td>[6221.733971695967, 5208.344320769946, 6535.08...</td>\n    </tr>\n    <tr>\n      <th>1</th>\n      <td>(1, 1, 1, 0)</td>\n      <td>14576.614786</td>\n      <td>[6221.733971695967, 5715.5025446598775, 6535.0...</td>\n    </tr>\n    <tr>\n      <th>2</th>\n      <td>(1, 0, 1, 2)</td>\n      <td>14640.372950</td>\n      <td>[6221.733971695967, 5208.344320769946, 6535.08...</td>\n    </tr>\n    <tr>\n      <th>3</th>\n      <td>(1, 4, 1, 0)</td>\n      <td>14668.587302</td>\n      <td>[6221.733971695967, 6011.366365614366, 6535.08...</td>\n    </tr>\n    <tr>\n      <th>4</th>\n      <td>(1, 1, 1, 2)</td>\n      <td>14715.954250</td>\n      <td>[6221.733971695967, 5715.5025446598775, 6535.0...</td>\n    </tr>\n    <tr>\n      <th>5</th>\n      <td>(1, 0, 1, 3)</td>\n      <td>14728.186310</td>\n      <td>[6221.733971695967, 5208.344320769946, 6535.08...</td>\n    </tr>\n    <tr>\n      <th>6</th>\n      <td>(1, 3, 1, 0)</td>\n      <td>14773.181668</td>\n      <td>[6221.733971695967, 5912.069427455579, 6535.08...</td>\n    </tr>\n    <tr>\n      <th>7</th>\n      <td>(1, 3, 1, 3)</td>\n      <td>14775.490364</td>\n      <td>[6221.733971695967, 5912.069427455579, 6535.08...</td>\n    </tr>\n    <tr>\n      <th>8</th>\n      <td>(1, 0, 0, 0)</td>\n      <td>14803.355023</td>\n      <td>[6221.733971695967, 5208.344320769946, 5629.32...</td>\n    </tr>\n    <tr>\n      <th>9</th>\n      <td>(1, 0, 1, 4)</td>\n      <td>14853.769859</td>\n      <td>[6221.733971695967, 5208.344320769946, 6535.08...</td>\n    </tr>\n  </tbody>\n</table>\n</div>"
     },
     "execution_count": 11,
     "metadata": {},
     "output_type": "execute_result"
    }
   ],
   "source": [
    "top_k_df = ds_utils.top_k_solutions_from_names(gds, g, source_airport_names, \n",
    "                                               target_airport_name).rename(columns={'totalCost':'totalAverageTime'})\n",
    "top_k_df[['solutionIndex', 'totalAverageTime', 'pathCosts']]"
   ]
  },
  {
   "cell_type": "markdown",
   "metadata": {},
   "source": [
    "The `solutionIndex` column tells you the rank of the shortest path chosen for each incoming leg in alphabetical order of airport name. For the best solution in the top row, `(1, 0, 1, 0)` reads as using the second fastest path for Bradleymouth, fastest for Moodytown, second fastest for Richardberg, and the fastest for Wandaborough. This top solution results in all four incoming legs getting consolidated in Shanefort for a single outgoing leg.  Below is a visual depiction of the top solution in Bloom."
   ]
  },
  {
   "cell_type": "code",
   "execution_count": 12,
   "metadata": {
    "pycharm": {
     "name": "#%%\n"
    }
   },
   "outputs": [],
   "source": [
    "ds_utils.write_solution_to_db(gds, top_k_df.relationships[0], 'best-overall')"
   ]
  },
  {
   "cell_type": "markdown",
   "metadata": {
    "pycharm": {
     "name": "#%% md\n"
    }
   },
   "source": [
    "<img src=\"img/sandersshire-best-yens.png\" alt=\"summary\" width=\"1000\"/>"
   ]
  },
  {
   "cell_type": "markdown",
   "metadata": {
    "pycharm": {
     "name": "#%% md\n"
    }
   },
   "source": [
    "### Adding Constraints\n",
    "\n",
    "It is possible to add constraints to this form of problem as well.  To demonstrate, let’s put a constraint on max time, such that no single path in the solution can be over m approximate average minutes, thus bounding the time it takes to deliver all the freight. \n",
    "\n",
    "I set the max time to 10 hours below and it results in the following top 10 solutions. "
   ]
  },
  {
   "cell_type": "code",
   "execution_count": 13,
   "metadata": {
    "pycharm": {
     "name": "#%%\n"
    }
   },
   "outputs": [
    {
     "data": {
      "text/plain": "  solutionIndex  totalAverageTime  \\\n0  (0, 0, 0, 0)      15805.435025   \n1  (0, 2, 0, 1)      15881.873342   \n2  (0, 1, 0, 0)      16312.593249   \n3  (0, 0, 0, 2)      16376.351413   \n4  (0, 1, 0, 2)      16451.932714   \n5  (0, 2, 0, 8)      16460.799474   \n6  (0, 0, 0, 3)      16464.164773   \n7  (0, 3, 0, 0)      16509.160132   \n8  (0, 3, 0, 3)      16511.468827   \n9  (0, 0, 0, 4)      16589.748322   \n\n                                           pathCosts  \n0  [5584.15472555134, 5208.344320769946, 5629.324...  \n1  [5584.15472555134, 5719.924774003627, 5629.324...  \n2  [5584.15472555134, 5715.5025446598775, 5629.32...  \n3  [5584.15472555134, 5208.344320769946, 5629.324...  \n4  [5584.15472555134, 5715.5025446598775, 5629.32...  \n5  [5584.15472555134, 5719.924774003627, 5629.324...  \n6  [5584.15472555134, 5208.344320769946, 5629.324...  \n7  [5584.15472555134, 5912.069427455579, 5629.324...  \n8  [5584.15472555134, 5912.069427455579, 5629.324...  \n9  [5584.15472555134, 5208.344320769946, 5629.324...  ",
      "text/html": "<div>\n<style scoped>\n    .dataframe tbody tr th:only-of-type {\n        vertical-align: middle;\n    }\n\n    .dataframe tbody tr th {\n        vertical-align: top;\n    }\n\n    .dataframe thead th {\n        text-align: right;\n    }\n</style>\n<table border=\"1\" class=\"dataframe\">\n  <thead>\n    <tr style=\"text-align: right;\">\n      <th></th>\n      <th>solutionIndex</th>\n      <th>totalAverageTime</th>\n      <th>pathCosts</th>\n    </tr>\n  </thead>\n  <tbody>\n    <tr>\n      <th>0</th>\n      <td>(0, 0, 0, 0)</td>\n      <td>15805.435025</td>\n      <td>[5584.15472555134, 5208.344320769946, 5629.324...</td>\n    </tr>\n    <tr>\n      <th>1</th>\n      <td>(0, 2, 0, 1)</td>\n      <td>15881.873342</td>\n      <td>[5584.15472555134, 5719.924774003627, 5629.324...</td>\n    </tr>\n    <tr>\n      <th>2</th>\n      <td>(0, 1, 0, 0)</td>\n      <td>16312.593249</td>\n      <td>[5584.15472555134, 5715.5025446598775, 5629.32...</td>\n    </tr>\n    <tr>\n      <th>3</th>\n      <td>(0, 0, 0, 2)</td>\n      <td>16376.351413</td>\n      <td>[5584.15472555134, 5208.344320769946, 5629.324...</td>\n    </tr>\n    <tr>\n      <th>4</th>\n      <td>(0, 1, 0, 2)</td>\n      <td>16451.932714</td>\n      <td>[5584.15472555134, 5715.5025446598775, 5629.32...</td>\n    </tr>\n    <tr>\n      <th>5</th>\n      <td>(0, 2, 0, 8)</td>\n      <td>16460.799474</td>\n      <td>[5584.15472555134, 5719.924774003627, 5629.324...</td>\n    </tr>\n    <tr>\n      <th>6</th>\n      <td>(0, 0, 0, 3)</td>\n      <td>16464.164773</td>\n      <td>[5584.15472555134, 5208.344320769946, 5629.324...</td>\n    </tr>\n    <tr>\n      <th>7</th>\n      <td>(0, 3, 0, 0)</td>\n      <td>16509.160132</td>\n      <td>[5584.15472555134, 5912.069427455579, 5629.324...</td>\n    </tr>\n    <tr>\n      <th>8</th>\n      <td>(0, 3, 0, 3)</td>\n      <td>16511.468827</td>\n      <td>[5584.15472555134, 5912.069427455579, 5629.324...</td>\n    </tr>\n    <tr>\n      <th>9</th>\n      <td>(0, 0, 0, 4)</td>\n      <td>16589.748322</td>\n      <td>[5584.15472555134, 5208.344320769946, 5629.324...</td>\n    </tr>\n  </tbody>\n</table>\n</div>"
     },
     "execution_count": 13,
     "metadata": {},
     "output_type": "execute_result"
    }
   ],
   "source": [
    "top_k_df = ds_utils.top_k_solutions_from_names(gds, g, source_airport_names, \n",
    "    target_airport_name, max_avg_time=6000.0).rename(columns={'totalCost':'totalAverageTime'})\n",
    "top_k_df[['solutionIndex', 'totalAverageTime', 'pathCosts']]"
   ]
  },
  {
   "cell_type": "markdown",
   "metadata": {},
   "source": [
    "Note the best solution is now the same as the combination of all best paths, same as is visualized in the all shortest path solution above. While the max time is lower, the freight is not getting consolidated completely in outgoing legs.  \n",
    "\n",
    "Some of the other top solutions are interesting to consider as well.  For example, the second best solution, visualized in Bloom below, is very close in total average time to the best, but takes a very different approach, routing everything through Davisfort except for Richardberg which is left as a direct path. "
   ]
  },
  {
   "cell_type": "code",
   "execution_count": 14,
   "metadata": {
    "pycharm": {
     "name": "#%%\n"
    }
   },
   "outputs": [],
   "source": [
    "ds_utils.write_solution_to_db(gds, top_k_df.relationships[1], 'second-best-with-constraints')"
   ]
  },
  {
   "cell_type": "markdown",
   "metadata": {
    "pycharm": {
     "name": "#%% md\n"
    }
   },
   "source": [
    "<img src=\"img/sandersshire-second-best-yens-constrained.png\" alt=\"summary\" width=\"1000\"/>"
   ]
  },
  {
   "cell_type": "markdown",
   "metadata": {
    "pycharm": {
     "name": "#%% md\n"
    }
   },
   "source": [
    "## What-If Scenarios and Path Finding\n",
    "\n",
    "You can also use path finding to help simulate what-if scenarios, such as predicting the effect of delays, changes in resources, external shocks, or other new occurrences on the supply chain. This can be applied in a couple different ways:\n",
    "\n",
    "- __Alternative Routing:__ Find next best options in the event of failures or significant delays\n",
    "- __Risk Assessment:__ Perform analysis to understand the effect of failures, significant delays, or other issues on supply chain performance."
   ]
  },
  {
   "cell_type": "markdown",
   "metadata": {
    "pycharm": {
     "name": "#%% md\n"
    }
   },
   "source": [
    "### Alternative Routing\n",
    "\n",
    "As an example of alternative routing, let's assume that Shanefort becomes overloaded and, in conjunction with bad weather, is no longer a viable connection/transfer option for freight forwarding.\n",
    "\n",
    "In this scenario we can scan each solution for a result that doesn't involve Shanefort."
   ]
  },
  {
   "cell_type": "code",
   "execution_count": 15,
   "outputs": [
    {
     "data": {
      "text/plain": "False"
     },
     "execution_count": 15,
     "metadata": {},
     "output_type": "execute_result"
    }
   ],
   "source": [
    "top_k_df = ds_utils.top_k_solutions_from_names(gds, g, source_airport_names,\n",
    "                                               target_airport_name, top_k=30).rename(columns={'totalCost':'totalAverageTime'})\n",
    "\n",
    "def rels_does_not_contain_airport(rels, airport_name):\n",
    "    for r in rels:\n",
    "       if r.end_node.get('name') == airport_name:\n",
    "           return False\n",
    "    return True\n",
    "\n",
    "any(top_k_df.relationships.apply(lambda x: rels_does_not_contain_airport(x, 'Shanefort')))"
   ],
   "metadata": {
    "collapsed": false,
    "pycharm": {
     "name": "#%%\n"
    }
   }
  },
  {
   "cell_type": "markdown",
   "source": [
    "However this wont always work. As we see above, all the top paths involved Shanefort. Luckily GDS allows us to quickly re-project a graph, and when we do we can easily exclude Shanefort."
   ],
   "metadata": {
    "collapsed": false
   }
  },
  {
   "cell_type": "code",
   "execution_count": 16,
   "outputs": [],
   "source": [
    "g.drop()\n",
    "g, _ = gds.graph.project.cypher('proj',\n",
    "    '''\n",
    "    MATCH(n)\n",
    "    WHERE (n:EntryPoint OR n:DepartureWarehouse OR n:DeparturePoint OR n:ArrivalWarehouse OR n:TransferPoint OR n:Destination)\n",
    "        AND  (n.name <> $excludeAirportName)\n",
    "    RETURN id(n) as id, labels(n) as labels\n",
    "    ''',\n",
    "    '''\n",
    "    MATCH(n0)-[r:RECEPTION|DEPARTURE|TRANSPORT|DELIVERY]->(n1)\n",
    "    WHERE (n0.name <> $excludeAirportName) AND (n1.name <> $excludeAirportName)\n",
    "    RETURN id(n0) AS source, id(n1) AS target, type(r) AS type,\n",
    "        avg(r.effectiveMinutes) AS averageEffectiveMinutes\n",
    "    ''',\n",
    "    parameters = {'excludeAirportName': 'Shanefort'})"
   ],
   "metadata": {
    "collapsed": false,
    "pycharm": {
     "name": "#%%\n"
    }
   }
  },
  {
   "cell_type": "markdown",
   "source": [
    "Then we can find top alternative routes, just as we found solutions before.  Below are the top 3 in a dataframe and in Bloom."
   ],
   "metadata": {
    "collapsed": false,
    "pycharm": {
     "name": "#%% md\n"
    }
   }
  },
  {
   "cell_type": "code",
   "execution_count": 17,
   "metadata": {
    "pycharm": {
     "name": "#%%\n"
    }
   },
   "outputs": [
    {
     "data": {
      "text/plain": "  solutionIndex  totalAverageTime  \\\n0  (0, 5, 4, 0)      15227.326930   \n1  (1, 1, 0, 4)      15316.952203   \n2  (1, 7, 0, 7)      15433.867368   \n\n                                           pathCosts  \n0  [5584.15472555134, 6565.410079568379, 8208.315...  \n1  [7078.438011342081, 6087.670836006222, 5629.32...  \n2  [7078.438011342081, 6633.386001171387, 5629.32...  ",
      "text/html": "<div>\n<style scoped>\n    .dataframe tbody tr th:only-of-type {\n        vertical-align: middle;\n    }\n\n    .dataframe tbody tr th {\n        vertical-align: top;\n    }\n\n    .dataframe thead th {\n        text-align: right;\n    }\n</style>\n<table border=\"1\" class=\"dataframe\">\n  <thead>\n    <tr style=\"text-align: right;\">\n      <th></th>\n      <th>solutionIndex</th>\n      <th>totalAverageTime</th>\n      <th>pathCosts</th>\n    </tr>\n  </thead>\n  <tbody>\n    <tr>\n      <th>0</th>\n      <td>(0, 5, 4, 0)</td>\n      <td>15227.326930</td>\n      <td>[5584.15472555134, 6565.410079568379, 8208.315...</td>\n    </tr>\n    <tr>\n      <th>1</th>\n      <td>(1, 1, 0, 4)</td>\n      <td>15316.952203</td>\n      <td>[7078.438011342081, 6087.670836006222, 5629.32...</td>\n    </tr>\n    <tr>\n      <th>2</th>\n      <td>(1, 7, 0, 7)</td>\n      <td>15433.867368</td>\n      <td>[7078.438011342081, 6633.386001171387, 5629.32...</td>\n    </tr>\n  </tbody>\n</table>\n</div>"
     },
     "execution_count": 17,
     "metadata": {},
     "output_type": "execute_result"
    }
   ],
   "source": [
    "top_k_df = ds_utils.top_k_solutions_from_names(gds, g, source_airport_names,\n",
    "                                               target_airport_name, top_k=3).rename(columns={'totalCost':'totalAverageTime'})\n",
    "for i in range(3):\n",
    "    ds_utils.write_solution_to_db(gds, top_k_df.relationships[i], f'{i}-best-alternative')\n",
    "top_k_df[['solutionIndex', 'totalAverageTime', 'pathCosts']]"
   ]
  },
  {
   "cell_type": "markdown",
   "metadata": {},
   "source": [
    "Alternative 1\n",
    "<img src=\"img/alt-route-1.png\" alt=\"summary\" width=\"600\"/>\n",
    "\n",
    "Alternative 2\n",
    "<img src=\"img/alt-route-2.png\" alt=\"summary\" width=\"600\"/>\n",
    "\n",
    "Alternative 3\n",
    "<img src=\"img/alt-route-3.png\" alt=\"summary\" width=\"600\"/>\n",
    "\n",
    "\n",
    "You can see how these alternative routes substitute different airports for Shanefort. The best alternative (Alternative 1) takes a total average time of 15,227 minutes, an approximate 8.2% increase from the best original solution with Shanefort above. While there is some impact to performance, we see that we can likely re-route shipments to keep the supply chain functioning."
   ]
  },
  {
   "cell_type": "markdown",
   "metadata": {
    "pycharm": {
     "name": "#%% md\n"
    }
   },
   "source": [
    "\n",
    "### What-If Scenarios for Risk Assessment\n",
    "\n",
    "Due to the complex and interdependent nature of supply chain networks, significant risks can develop inconspicuously when thorough risk assessment is overlooked.\n",
    "\n",
    "What-if scenarios can be used as part of the risk assessment process to understand how the network will perform when encountering significant delays, shortages, and/or failures.\n",
    "\n",
    "As an example, suppose Richardberg experienced significant delays in their management of ground resources resulting in the average times for departure and transport processes to increase by a factor of 3. What effect would this have on freight forwarding?\n",
    "\n",
    "If we rerun our freight forwarding recommender under these conditions we obtain the same top 10 path combinations as we did previously, however all the times are increased. This makes sense since, while Richardberg is one of the four source airports, it is not prioritized heavily as a transfer point in our paths."
   ]
  },
  {
   "cell_type": "code",
   "execution_count": 18,
   "metadata": {
    "pycharm": {
     "name": "#%%\n"
    }
   },
   "outputs": [],
   "source": [
    "node_proj_query = '''\n",
    "    MATCH(n)\n",
    "    WHERE n:EntryPoint \n",
    "        OR n:DepartureWarehouse OR n:DeparturePoint OR n:ArrivalWarehouse OR n:TransferPoint OR n:Destination\n",
    "    RETURN id(n) as id, labels(n) as labels\n",
    "    '''\n",
    "\n",
    "relationship_proj_query =  '''\n",
    "    MATCH(n0)-[r:RECEPTION|DEPARTURE|TRANSPORT|DELIVERY]->(n1)\n",
    "    RETURN id(n0) AS source, id(n1) AS target, type(r) AS type,\n",
    "        CASE\n",
    "            WHEN (n1.name in $delayAirportNames) AND (type(r) in [\"TRANSPORT\", \"DEPARTURE\"])\n",
    "                THEN $delayMultiplier * avg(r.effectiveMinutes)\n",
    "            ELSE avg(r.effectiveMinutes)\n",
    "            END AS averageEffectiveMinutes\n",
    "    '''"
   ]
  },
  {
   "cell_type": "code",
   "execution_count": 19,
   "metadata": {
    "pycharm": {
     "name": "#%%\n"
    }
   },
   "outputs": [
    {
     "data": {
      "text/plain": "  solutionIndex  totalAverageTime  \\\n0  (1, 0, 1, 0)      16519.789381   \n1  (1, 1, 1, 0)      17026.947605   \n2  (1, 0, 1, 2)      17090.705769   \n3  (1, 4, 1, 0)      17118.920122   \n4  (1, 1, 1, 2)      17166.287070   \n5  (1, 0, 1, 3)      17178.519130   \n6  (1, 3, 1, 0)      17223.514488   \n7  (1, 3, 1, 3)      17225.823184   \n8  (1, 0, 0, 0)      17253.687843   \n9  (1, 0, 1, 4)      17304.102679   \n\n                                           pathCosts  \n0  [6221.733971695967, 5208.344320769946, 8985.41...  \n1  [6221.733971695967, 5715.5025446598775, 8985.4...  \n2  [6221.733971695967, 5208.344320769946, 8985.41...  \n3  [6221.733971695967, 6011.366365614366, 8985.41...  \n4  [6221.733971695967, 5715.5025446598775, 8985.4...  \n5  [6221.733971695967, 5208.344320769946, 8985.41...  \n6  [6221.733971695967, 5912.069427455579, 8985.41...  \n7  [6221.733971695967, 5912.069427455579, 8985.41...  \n8  [6221.733971695967, 5208.344320769946, 8079.65...  \n9  [6221.733971695967, 5208.344320769946, 8985.41...  ",
      "text/html": "<div>\n<style scoped>\n    .dataframe tbody tr th:only-of-type {\n        vertical-align: middle;\n    }\n\n    .dataframe tbody tr th {\n        vertical-align: top;\n    }\n\n    .dataframe thead th {\n        text-align: right;\n    }\n</style>\n<table border=\"1\" class=\"dataframe\">\n  <thead>\n    <tr style=\"text-align: right;\">\n      <th></th>\n      <th>solutionIndex</th>\n      <th>totalAverageTime</th>\n      <th>pathCosts</th>\n    </tr>\n  </thead>\n  <tbody>\n    <tr>\n      <th>0</th>\n      <td>(1, 0, 1, 0)</td>\n      <td>16519.789381</td>\n      <td>[6221.733971695967, 5208.344320769946, 8985.41...</td>\n    </tr>\n    <tr>\n      <th>1</th>\n      <td>(1, 1, 1, 0)</td>\n      <td>17026.947605</td>\n      <td>[6221.733971695967, 5715.5025446598775, 8985.4...</td>\n    </tr>\n    <tr>\n      <th>2</th>\n      <td>(1, 0, 1, 2)</td>\n      <td>17090.705769</td>\n      <td>[6221.733971695967, 5208.344320769946, 8985.41...</td>\n    </tr>\n    <tr>\n      <th>3</th>\n      <td>(1, 4, 1, 0)</td>\n      <td>17118.920122</td>\n      <td>[6221.733971695967, 6011.366365614366, 8985.41...</td>\n    </tr>\n    <tr>\n      <th>4</th>\n      <td>(1, 1, 1, 2)</td>\n      <td>17166.287070</td>\n      <td>[6221.733971695967, 5715.5025446598775, 8985.4...</td>\n    </tr>\n    <tr>\n      <th>5</th>\n      <td>(1, 0, 1, 3)</td>\n      <td>17178.519130</td>\n      <td>[6221.733971695967, 5208.344320769946, 8985.41...</td>\n    </tr>\n    <tr>\n      <th>6</th>\n      <td>(1, 3, 1, 0)</td>\n      <td>17223.514488</td>\n      <td>[6221.733971695967, 5912.069427455579, 8985.41...</td>\n    </tr>\n    <tr>\n      <th>7</th>\n      <td>(1, 3, 1, 3)</td>\n      <td>17225.823184</td>\n      <td>[6221.733971695967, 5912.069427455579, 8985.41...</td>\n    </tr>\n    <tr>\n      <th>8</th>\n      <td>(1, 0, 0, 0)</td>\n      <td>17253.687843</td>\n      <td>[6221.733971695967, 5208.344320769946, 8079.65...</td>\n    </tr>\n    <tr>\n      <th>9</th>\n      <td>(1, 0, 1, 4)</td>\n      <td>17304.102679</td>\n      <td>[6221.733971695967, 5208.344320769946, 8985.41...</td>\n    </tr>\n  </tbody>\n</table>\n</div>"
     },
     "execution_count": 19,
     "metadata": {},
     "output_type": "execute_result"
    }
   ],
   "source": [
    "g.drop()\n",
    "g, _ = gds.graph.project.cypher('proj', node_proj_query, relationship_proj_query\n",
    "    , parameters = {'delayAirportNames': ['Richardberg'], 'delayMultiplier': 3.0})\n",
    "\n",
    "top_k_df = ds_utils.top_k_solutions_from_names(gds, g, source_airport_names, \n",
    "    target_airport_name).rename(columns={'totalCost':'totalAverageTime'})\n",
    "top_k_df[['solutionIndex', 'totalAverageTime', 'pathCosts']]"
   ]
  },
  {
   "cell_type": "markdown",
   "metadata": {},
   "source": [
    "Now suppose the situation was a bit worse and we saw similar delays in both Davisfort and Shanefort.  At that point we would get a completely different top 10 solutions all with substantially longer times."
   ]
  },
  {
   "cell_type": "code",
   "execution_count": 20,
   "metadata": {
    "pycharm": {
     "name": "#%%\n"
    }
   },
   "outputs": [
    {
     "data": {
      "text/plain": "  solutionIndex  totalAverageTime  \\\n0  (0, 0, 1, 0)      22628.281912   \n1  (0, 1, 1, 1)      22674.910150   \n2  (0, 2, 2, 2)      22716.125676   \n3  (0, 1, 3, 1)      22760.522090   \n4  (0, 0, 0, 0)      22809.253852   \n5  (0, 1, 0, 1)      22855.882090   \n6  (0, 3, 6, 0)      22859.366698   \n7  (0, 0, 6, 0)      22990.650609   \n8  (0, 5, 4, 3)      23090.966623   \n9  (0, 3, 1, 0)      23095.254758   \n\n                                           pathCosts  \n0  [9003.383694558299, 6348.8926636941715, 9362.3...  \n1  [9003.383694558299, 6386.9209015184615, 9362.3...  \n2  [9003.383694558299, 6848.581630429191, 10717.1...  \n3  [9003.383694558299, 6386.9209015184615, 10755....  \n4  [9003.383694558299, 6348.8926636941715, 8079.6...  \n5  [9003.383694558299, 6386.9209015184615, 8079.6...  \n6  [9003.383694558299, 7013.465509453924, 11106.7...  \n7  [9003.383694558299, 6348.8926636941715, 11106....  \n8  [9003.383694558299, 7109.06543398196, 10888.76...  \n9  [9003.383694558299, 7013.465509453924, 9362.32...  ",
      "text/html": "<div>\n<style scoped>\n    .dataframe tbody tr th:only-of-type {\n        vertical-align: middle;\n    }\n\n    .dataframe tbody tr th {\n        vertical-align: top;\n    }\n\n    .dataframe thead th {\n        text-align: right;\n    }\n</style>\n<table border=\"1\" class=\"dataframe\">\n  <thead>\n    <tr style=\"text-align: right;\">\n      <th></th>\n      <th>solutionIndex</th>\n      <th>totalAverageTime</th>\n      <th>pathCosts</th>\n    </tr>\n  </thead>\n  <tbody>\n    <tr>\n      <th>0</th>\n      <td>(0, 0, 1, 0)</td>\n      <td>22628.281912</td>\n      <td>[9003.383694558299, 6348.8926636941715, 9362.3...</td>\n    </tr>\n    <tr>\n      <th>1</th>\n      <td>(0, 1, 1, 1)</td>\n      <td>22674.910150</td>\n      <td>[9003.383694558299, 6386.9209015184615, 9362.3...</td>\n    </tr>\n    <tr>\n      <th>2</th>\n      <td>(0, 2, 2, 2)</td>\n      <td>22716.125676</td>\n      <td>[9003.383694558299, 6848.581630429191, 10717.1...</td>\n    </tr>\n    <tr>\n      <th>3</th>\n      <td>(0, 1, 3, 1)</td>\n      <td>22760.522090</td>\n      <td>[9003.383694558299, 6386.9209015184615, 10755....</td>\n    </tr>\n    <tr>\n      <th>4</th>\n      <td>(0, 0, 0, 0)</td>\n      <td>22809.253852</td>\n      <td>[9003.383694558299, 6348.8926636941715, 8079.6...</td>\n    </tr>\n    <tr>\n      <th>5</th>\n      <td>(0, 1, 0, 1)</td>\n      <td>22855.882090</td>\n      <td>[9003.383694558299, 6386.9209015184615, 8079.6...</td>\n    </tr>\n    <tr>\n      <th>6</th>\n      <td>(0, 3, 6, 0)</td>\n      <td>22859.366698</td>\n      <td>[9003.383694558299, 7013.465509453924, 11106.7...</td>\n    </tr>\n    <tr>\n      <th>7</th>\n      <td>(0, 0, 6, 0)</td>\n      <td>22990.650609</td>\n      <td>[9003.383694558299, 6348.8926636941715, 11106....</td>\n    </tr>\n    <tr>\n      <th>8</th>\n      <td>(0, 5, 4, 3)</td>\n      <td>23090.966623</td>\n      <td>[9003.383694558299, 7109.06543398196, 10888.76...</td>\n    </tr>\n    <tr>\n      <th>9</th>\n      <td>(0, 3, 1, 0)</td>\n      <td>23095.254758</td>\n      <td>[9003.383694558299, 7013.465509453924, 9362.32...</td>\n    </tr>\n  </tbody>\n</table>\n</div>"
     },
     "execution_count": 20,
     "metadata": {},
     "output_type": "execute_result"
    }
   ],
   "source": [
    "g.drop()\n",
    "g, _ = gds.graph.project.cypher('proj', node_proj_query, relationship_proj_query\n",
    "    , parameters = {'delayAirportNames': ['Richardberg', 'Shanefort', 'Davisfort'], 'delayMultiplier': 3.0})\n",
    "\n",
    "top_k_df = ds_utils.top_k_solutions_from_names(gds, g, source_airport_names, target_airport_name, top_k=10)\\\n",
    "    .rename(columns={'totalCost':'totalAverageTime'})\n",
    "ds_utils.write_solution_to_db(gds, top_k_df.relationships[0], 'best-path-with-delays')\n",
    "top_k_df[['solutionIndex', 'totalAverageTime', 'pathCosts']]"
   ]
  },
  {
   "cell_type": "markdown",
   "metadata": {},
   "source": [
    "The best solution, visualized in Bloom below, has a total average cost of 22,628 minutes, a 61% increase from our previous best solution of 14,069 minutes."
   ]
  },
  {
   "cell_type": "markdown",
   "metadata": {
    "pycharm": {
     "name": "#%% md\n"
    }
   },
   "source": [
    "<img src=\"img/sandersshire-best-yens-delayed-2.png\" alt=\"summary\" width=\"1000\"/>"
   ]
  },
  {
   "cell_type": "markdown",
   "metadata": {},
   "source": [
    "As we covered in part II of this series, high centrality nodes, particularly those with high betweenness and/or eigenvector centrality, are more prone to causing bottlenecks and propagating delays and other issues.  As such, they can pose a higher risk to overall supply chain performance.  We see this reflected in the above example. In part II we found that Richardberg,  Davisfort, and Shanefort are some of the most high centrality airports in the network. Despite Davisfort and Shanefort being neither the source nor target airports in the above what-if scenario, simulating delays on those airports after Richardberg was already experiencing them resulted in a 44 percentage point increase in total average time, even after considering alternative routes in freight forwarding optimization. Ultimately, these highly central airports are strongly depended upon as transfer points and connections in freight forwarding.  If you experiment with other sets of source and target nodes in the network you should find strong dependence on the same small group of central airports."
   ]
  },
  {
   "cell_type": "markdown",
   "metadata": {},
   "source": [
    "## Cleanup"
   ]
  },
  {
   "cell_type": "code",
   "execution_count": 21,
   "metadata": {
    "pycharm": {
     "name": "#%%\n"
    }
   },
   "outputs": [],
   "source": [
    "# remove solution paths and graph projection\n",
    "ds_utils.remove_solution_type_from_db(gds)\n",
    "ds_utils.clear_all_graphs(gds)"
   ]
  },
  {
   "cell_type": "markdown",
   "metadata": {
    "pycharm": {
     "name": "#%% md\n"
    }
   },
   "source": [
    "## Wrapping things Up\n",
    "\n",
    "In this notebook we explored how [Neo4j Graph Data Science path finding](https://neo4j.com/docs/graph-data-science/current/algorithms/pathfinding/) can be applied to generate critical insights for supply chain and logistics networks. We were able to identify new and potentially faster shipment routes in our dataset.  We showed how path finding, and Yen’s algorithm specifically, can be used as inputs for downstream optimization problems, speeding up computation and providing information that would otherwise be difficult to capture without a graph data science approach. Finally, we covered the application of path finding in what-if scenarios that can be used to find alternative routes, help perform risk assessment, and understand the criticality of high centrality airports in the network.\n",
    "\n",
    "We are just scratching the surface here. While the example dataset we used consisted of freight forwarding for air cargo, these same techniques can be applied for a broad range of other supply chain problems.  These include other types of logistics, such as maritime shipping and trucking services, as well as other types of supply chain domains, including manufacturing, inventory management, and bill of materials."
   ]
  },
  {
   "cell_type": "markdown",
   "source": [
    "## Appendix\n",
    "\n",
    "### Note on Using Averages and Interpreting Results\n",
    "In this notebook we used average times in our graph projection to find shortest paths, specifically the arithmetic mean of effective minutes.  The arithmetic mean can serve as a good summary measure for overall recommendation and analytics, but one must be careful not to fall into “flaw of average” assumptions while using it.  In the context of our problem, what this means is that while we approximate what average times will be over many shipments in our path finding recommendations, it is possible for individual shipment times to be shorter or much longer than the approximation averages. As such, the predicted average times should not be relied upon with low/zero tolerance for delays or early arrivals on an individual shipment-by-shipment basis.\n",
    "Additionally, you may want to change the type of aggregate measure depending on your supply chain use case.  For example, if your performance is really sensitive to long delays but robust to otherwise smaller variances in times, you may consider using the 95th percentile, or similarly higher percentile of the distribution instead of the arithmetic mean.  On the other hand, if your data rarely has long delays and you would like to exclude them as outliers, using the median instead of the arithmetic mean can help with that."
   ],
   "metadata": {
    "collapsed": false,
    "pycharm": {
     "name": "#%% md\n"
    }
   }
  },
  {
   "cell_type": "code",
   "execution_count": 21,
   "outputs": [],
   "source": [],
   "metadata": {
    "collapsed": false,
    "pycharm": {
     "name": "#%%\n"
    }
   }
  }
 ],
 "metadata": {
  "kernelspec": {
   "display_name": "Python 3 (ipykernel)",
   "language": "python",
   "name": "python3"
  },
  "language_info": {
   "codemirror_mode": {
    "name": "ipython",
    "version": 3
   },
   "file_extension": ".py",
   "mimetype": "text/x-python",
   "name": "python",
   "nbconvert_exporter": "python",
   "pygments_lexer": "ipython3",
   "version": "3.8.2"
  }
 },
 "nbformat": 4,
 "nbformat_minor": 1
}