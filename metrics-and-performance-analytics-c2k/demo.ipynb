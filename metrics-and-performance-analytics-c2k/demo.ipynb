{
 "cells": [
  {
   "cell_type": "markdown",
   "metadata": {},
   "source": []
  },
  {
   "cell_type": "markdown",
   "metadata": {},
   "source": [
    "# Graph Data Science for Supply Chain\n",
    "## Creating Informative Metrics and Analyzing Supply Chain Performance\n",
    "![Neo4j version](https://img.shields.io/badge/Neo4j->=4.4.9-brightgreen)\n",
    "![GDS version](https://img.shields.io/badge/GDS->=2.2-brightgreen)\n",
    "\n",
    "This notebook compliments [part II of the Graph Data Science for Supply Chains Blog Series](https://neo4j.com/developer-blog/gds-supply-chains-metrics-performance-python/) . In this notebook we explore the application of graph data science to creating informative supply chain metrics and analyzing the performance of a logistics network. Specifically we will\n",
    "\n",
    "1. Provide meaningful interpretations for Centrality metrics and Louvain communities within the context of supply chain and their relationship to performance and risks.\n",
    "2. Show how to calculate Centrality metrics and Louvain communities using Neo4j Graph Data Science.\n",
    "3. Demonstrate how these metrics can be used for downstream inference to understand if/how they relate to delays at different airports, providing insights into how the logistics network structure may affect freight delivery performance.\n",
    "\n",
    "\n",
    "For a sample dataset we will use the “Cargo 2000” transport and logistics case study [[1]](#1). Cargo 2000 (re-branded as Cargo iQ in 2016) is an initiative of the International Air Transport Association (IATA) that aims to deliver a new quality management system for the air cargo industry.logistics-diagram.png\n",
    "\n",
    "The below figure shows a model of the business processes covered in the IATA case study. It represents the business processes of a freight forwarding company, in which up to three smaller shipments from suppliers are consolidated and then shipped together to customers. The business process is structured into incoming and outgoing transport legs, with the overall objective that freight is delivered to customers in a timely manner.  You can find out more about the business model in the [first blog of this series](https://neo4j.com/developer-blog/supply-chain-neo4j-gds-bloom/) where we explored the dataset in Neo4j Bloom or from the [original data source]( https://s-cube-network.eu/c2k/).\n",
    "\n",
    "<img src=\"img/logistics-diagram.png\" alt=\"summary\" width=\"1000\"/>\n",
    "\n",
    "\n",
    "## Prerequisites\n",
    "- The Cargo 2000 case study dataset must be loaded into Neo4j. You can do so by running [this notebook](https://github.com/neo4j-product-examples/ds-supply-chain-use-cases/blob/main/modeling-eda-visualization-c2k/transform-and-load.ipynb). It should take no more than a few minutes to complete.\n",
    "\n",
    "## References\n",
    "<a id=\"1\">[1]</a> A. Metzger, P. Leitner, D. Ivanovic, E. Schmieders, R. Franklin, M. Carro, S. Dustdar, and K. Pohl, “ Comparing and combining predictive business process monitoring techniques,” IEEE Trans. on Systems Man Cybernetics: Systems, 2015.\n"
   ]
  },
  {
   "cell_type": "code",
   "execution_count": 3,
   "metadata": {},
   "outputs": [],
   "source": [
    "import pandas as pd\n",
    "import numpy as np\n",
    "import statsmodels.api as sm"
   ]
  },
  {
   "cell_type": "markdown",
   "source": [
    "## Connect to Neo4j Graph Data Science"
   ],
   "metadata": {
    "collapsed": false
   }
  },
  {
   "cell_type": "code",
   "execution_count": 4,
   "metadata": {},
   "outputs": [],
   "source": [
    "from graphdatascience import GraphDataScience\n",
    "\n",
    "# Use Neo4j URI and credentials according to your setup\n",
    "gds = GraphDataScience('neo4j://localhost', auth=('neo4j', 'examplePassword'))"
   ]
  },
  {
   "cell_type": "markdown",
   "source": [
    "## Collapse Graph Data Model with `SENDS_TO` Relationships\n",
    "Relationships going directly to/from airport nodes will allow for more direct calculation of centrality and community metrics according to transport routes."
   ],
   "metadata": {
    "collapsed": false
   }
  },
  {
   "cell_type": "code",
   "execution_count": 5,
   "outputs": [
    {
     "data": {
      "text/plain": "   count(s)\n0      1205",
      "text/html": "<div>\n<style scoped>\n    .dataframe tbody tr th:only-of-type {\n        vertical-align: middle;\n    }\n\n    .dataframe tbody tr th {\n        vertical-align: top;\n    }\n\n    .dataframe thead th {\n        text-align: right;\n    }\n</style>\n<table border=\"1\" class=\"dataframe\">\n  <thead>\n    <tr style=\"text-align: right;\">\n      <th></th>\n      <th>count(s)</th>\n    </tr>\n  </thead>\n  <tbody>\n    <tr>\n      <th>0</th>\n      <td>1205</td>\n    </tr>\n  </tbody>\n</table>\n</div>"
     },
     "execution_count": 5,
     "metadata": {},
     "output_type": "execute_result"
    }
   ],
   "source": [
    "gds.run_cypher('''\n",
    "    MATCH(a1:Airport)<-[:LOCATED_AT]-(d1:DeparturePoint)-[r:TRANSPORT]->(d2:ArrivalWarehouse)-[:LOCATED_AT]->(a2:Airport)\n",
    "    WITH a1, a2, count(r) AS flightCount\n",
    "    MERGE (a1)-[s:SENDS_TO]->(a2)\n",
    "    SET s.flightCount = flightCount\n",
    "    RETURN count(s)\n",
    "''')"
   ],
   "metadata": {
    "collapsed": false
   }
  },
  {
   "cell_type": "markdown",
   "source": [
    "## Identifying and Interpreting Graph Based Metrics for Supply Chains\n",
    "\n",
    "In [part I](https://neo4j.com/developer-blog/supply-chain-neo4j-gds-bloom/), we learned about graph algorithms relevant to supply chain analytics.  Below is a summary for how to interpret the results of these algorithms.  I will also add an additional centrality algorithm that we didn’t cover in part I called Eigenvector centrality.\n",
    "\n",
    "\n",
    "- [Degree Centrality](https://neo4j.com/docs/graph-data-science/current/algorithms/degree-centrality) measures the __*operational load*__ for stages in your supply chain.  Stages with high operational load have to manage larger inflows and outflows and may be forced to reconcile conflicting schedules and priorities more often[[2]](#2). All else held constant, stages with higher operational load tend to __*require more resources*__ to run effectively.\n",
    "\n",
    "- [Betweenness Centrality](https://neo4j.com/docs/graph-data-science/current/algorithms/betweenness-centrality/) measures the __*flow control*__ for stages in distribution and logistics networks. Stages with high Betweenness Centrality have more control over the flow of material and/or product because they connect many other stages together that may otherwise be disconnected or connected through much longer less efficient paths[[2]](#2). All else held constant, stages with higher flow control present __*higher risk for causing bottlenecks*__ in supply chains if they encounter delays or other issues.\n",
    "\n",
    "- [Eigenvector Centrality](https://neo4j.com/docs/graph-data-science/current/algorithms/eigenvector-centrality/) measures the __*transitive influence*__ of stages in a supply chain[[2]](#2).  Stages with high Eigenvector Centrality are depended upon by other critical stages. These stages have high transitive influence because delays or other performance issues for these stages have a __*higher risk of carrying over or propagating to other critical stages*__ in the supply chain.\n",
    "\n",
    "- [Louvain Community Detection](https://neo4j.com/docs/graph-data-science/current/algorithms/louvain/) finds __*regional interdependence*__  within the supply chain network by identifying groups of stages which have highly interconnected flows between them.  All else held constant, Stages within the same group have a stronger interdependence on each other relative to stages outside the group.\n",
    "\n",
    "<a id=\"1\">[2]</a> Christian Wallmann, Markus Gerschberger, The association between network centrality measures and supply chain performance: The case of distribution networks, Procedia Computer Science, Volume 180, 2021, Pages 172-179, ISSN 1877-0509, https://doi.org/10.1016/j.procs.2021.01.153."
   ],
   "metadata": {
    "collapsed": false
   }
  },
  {
   "cell_type": "markdown",
   "source": [
    "## Calculating Centrality Metrics Using Neo4j Graph Data Science"
   ],
   "metadata": {
    "collapsed": false
   }
  },
  {
   "cell_type": "code",
   "execution_count": 6,
   "outputs": [
    {
     "data": {
      "text/plain": "Loading:   0%|          | 0/100 [00:00<?, ?%/s]",
      "application/vnd.jupyter.widget-view+json": {
       "version_major": 2,
       "version_minor": 0,
       "model_id": "6f4bd4e6a0f44a98bbc4454bd56c39b4"
      }
     },
     "metadata": {},
     "output_type": "display_data"
    }
   ],
   "source": [
    "# Create the in-memory graph projection\n",
    "g, _ = gds.graph.project('proj', 'Airport', {'SENDS_TO':{'properties':['flightCount']}})"
   ],
   "metadata": {
    "collapsed": false
   }
  },
  {
   "cell_type": "code",
   "execution_count": 7,
   "outputs": [
    {
     "data": {
      "text/plain": "graphName                                                         proj\ndatabase                                                         neo4j\nmemoryUsage                                                           \nsizeInBytes                                                         -1\nnodeCount                                                          237\nrelationshipCount                                                 1205\nconfiguration        {'relationshipProjection': {'SENDS_TO': {'orie...\ndensity                                                       0.021544\ncreationTime                       2023-01-21T17:11:14.229642000-05:00\nmodificationTime                   2023-01-21T17:11:14.513466000-05:00\nschema               {'graphProperties': {}, 'relationships': {'SEN...\nName: 0, dtype: object"
     },
     "execution_count": 7,
     "metadata": {},
     "output_type": "execute_result"
    }
   ],
   "source": [
    "# calculate and write out-degree centrality\n",
    "gds.degree.write(g,relationshipWeightProperty='flightCount', writeProperty='outDegreeCentrality')\n",
    "# calculate and write betweenness centrality\n",
    "gds.betweenness.write(g, writeProperty='betweennessCentrality')\n",
    "#calculate and write eigenvector centrality\n",
    "gds.eigenvector.write(g,relationshipWeightProperty='flightCount', writeProperty='eigenvectorCentrality')\n",
    "# drop the projected in-memory graph\n",
    "g.drop()"
   ],
   "metadata": {
    "collapsed": false
   }
  },
  {
   "cell_type": "markdown",
   "source": [
    "## Calculate In-Degree Centrality on REVERSED Orientation"
   ],
   "metadata": {
    "collapsed": false
   }
  },
  {
   "cell_type": "code",
   "execution_count": 8,
   "outputs": [
    {
     "data": {
      "text/plain": "graphName                                                         proj\ndatabase                                                         neo4j\nmemoryUsage                                                           \nsizeInBytes                                                         -1\nnodeCount                                                          237\nrelationshipCount                                                 1205\nconfiguration        {'relationshipProjection': {'SENDS_TO': {'orie...\ndensity                                                       0.021544\ncreationTime                       2023-01-21T17:11:18.323908000-05:00\nmodificationTime                   2023-01-21T17:11:18.395607000-05:00\nschema               {'graphProperties': {}, 'relationships': {'SEN...\nName: 0, dtype: object"
     },
     "execution_count": 8,
     "metadata": {},
     "output_type": "execute_result"
    }
   ],
   "source": [
    "g, _ = gds.graph.project('proj', 'Airport', {'SENDS_TO':{'orientation':'REVERSE', 'properties':['flightCount']}})\n",
    "gds.degree.write(g,relationshipWeightProperty='flightCount', writeProperty='inDegreeCentrality')\n",
    "g.drop()"
   ],
   "metadata": {
    "collapsed": false
   }
  },
  {
   "cell_type": "markdown",
   "source": [
    "## Top 5 Airports for Each Centrality Metric"
   ],
   "metadata": {
    "collapsed": false
   }
  },
  {
   "cell_type": "code",
   "execution_count": 9,
   "outputs": [
    {
     "name": "stdout",
     "output_type": "stream",
     "text": [
      "\n",
      "=======================================\n",
      "Top 5 Airports for betweennessCentrality\n",
      "   airportId         name  betweennessCentrality\n",
      "0        349  Richardberg           11579.601583\n",
      "1        128    Shanefort           10715.139355\n",
      "2        700    Davisfort            5178.707487\n",
      "3        815    Moodytown            4471.174851\n",
      "4        555  Masseyhaven            3722.941825\n",
      "\n",
      "=======================================\n",
      "Top 5 Airports for outDegreeCentrality\n",
      "   airportId         name  outDegreeCentrality\n",
      "0        815    Moodytown               2240.0\n",
      "1        128    Shanefort               2195.0\n",
      "2        700    Davisfort               2003.0\n",
      "3        349  Richardberg               1104.0\n",
      "4        485  Michaelstad                711.0\n",
      "\n",
      "=======================================\n",
      "Top 5 Airports for inDegreeCentrality\n",
      "   airportId         name  inDegreeCentrality\n",
      "0        700    Davisfort              2205.0\n",
      "1        128    Shanefort              1839.0\n",
      "2        349  Richardberg              1312.0\n",
      "3        815    Moodytown              1091.0\n",
      "4        485  Michaelstad               758.0\n",
      "\n",
      "=======================================\n",
      "Top 5 Airports for eigenvectorCentrality\n",
      "   airportId         name  eigenvectorCentrality\n",
      "0        700    Davisfort               0.643818\n",
      "1        349  Richardberg               0.455872\n",
      "2        128    Shanefort               0.439031\n",
      "3        815    Moodytown               0.255747\n",
      "4        671    Scotttown               0.132667\n"
     ]
    }
   ],
   "source": [
    "metrics = ['betweennessCentrality', 'outDegreeCentrality', 'inDegreeCentrality', 'eigenvectorCentrality']\n",
    "top_n = 5\n",
    "for metric in metrics:\n",
    "    print('\\n=======================================')\n",
    "    print(f'Top {top_n} Airports for {metric}')\n",
    "    print(gds.run_cypher(f'''\n",
    "        MATCH(a:Airport)\n",
    "        RETURN a.airportId AS airportId, a.name AS name, a.{metric} AS {metric}\n",
    "        ORDER BY {metric} DESC LIMIT {top_n}\n",
    "    '''))"
   ],
   "metadata": {
    "collapsed": false
   }
  },
  {
   "cell_type": "code",
   "execution_count": 10,
   "outputs": [
    {
     "data": {
      "text/plain": "   airportId         name  betweennessCentrality  outDegreeCentrality  \\\n0        349  Richardberg           11579.601583               1104.0   \n1        128    Shanefort           10715.139355               2195.0   \n2        700    Davisfort            5178.707487               2003.0   \n3        815    Moodytown            4471.174851               2240.0   \n4        555  Masseyhaven            3722.941825                275.0   \n\n   inDegreeCentrality  eigenvectorCentrality  \n0              1312.0               0.455872  \n1              1839.0               0.439031  \n2              2205.0               0.643818  \n3              1091.0               0.255747  \n4               204.0               0.046118  ",
      "text/html": "<div>\n<style scoped>\n    .dataframe tbody tr th:only-of-type {\n        vertical-align: middle;\n    }\n\n    .dataframe tbody tr th {\n        vertical-align: top;\n    }\n\n    .dataframe thead th {\n        text-align: right;\n    }\n</style>\n<table border=\"1\" class=\"dataframe\">\n  <thead>\n    <tr style=\"text-align: right;\">\n      <th></th>\n      <th>airportId</th>\n      <th>name</th>\n      <th>betweennessCentrality</th>\n      <th>outDegreeCentrality</th>\n      <th>inDegreeCentrality</th>\n      <th>eigenvectorCentrality</th>\n    </tr>\n  </thead>\n  <tbody>\n    <tr>\n      <th>0</th>\n      <td>349</td>\n      <td>Richardberg</td>\n      <td>11579.601583</td>\n      <td>1104.0</td>\n      <td>1312.0</td>\n      <td>0.455872</td>\n    </tr>\n    <tr>\n      <th>1</th>\n      <td>128</td>\n      <td>Shanefort</td>\n      <td>10715.139355</td>\n      <td>2195.0</td>\n      <td>1839.0</td>\n      <td>0.439031</td>\n    </tr>\n    <tr>\n      <th>2</th>\n      <td>700</td>\n      <td>Davisfort</td>\n      <td>5178.707487</td>\n      <td>2003.0</td>\n      <td>2205.0</td>\n      <td>0.643818</td>\n    </tr>\n    <tr>\n      <th>3</th>\n      <td>815</td>\n      <td>Moodytown</td>\n      <td>4471.174851</td>\n      <td>2240.0</td>\n      <td>1091.0</td>\n      <td>0.255747</td>\n    </tr>\n    <tr>\n      <th>4</th>\n      <td>555</td>\n      <td>Masseyhaven</td>\n      <td>3722.941825</td>\n      <td>275.0</td>\n      <td>204.0</td>\n      <td>0.046118</td>\n    </tr>\n  </tbody>\n</table>\n</div>"
     },
     "execution_count": 10,
     "metadata": {},
     "output_type": "execute_result"
    }
   ],
   "source": [
    "#combined into a single table for top 5 betweenness centrality\n",
    "gds.run_cypher(f'''\n",
    "        MATCH(a:Airport)\n",
    "        RETURN a.airportId AS airportId, a.name AS name,\n",
    "            a.betweennessCentrality AS betweennessCentrality,\n",
    "            a.outDegreeCentrality AS outDegreeCentrality,\n",
    "            a.inDegreeCentrality AS inDegreeCentrality,\n",
    "            a.eigenvectorCentrality AS eigenvectorCentrality\n",
    "        ORDER BY betweennessCentrality DESC LIMIT {top_n}\n",
    "''')"
   ],
   "metadata": {
    "collapsed": false
   }
  },
  {
   "cell_type": "markdown",
   "source": [
    "## Louvain Communities (\"Regions\") on UNDIRECTED Orientation"
   ],
   "metadata": {
    "collapsed": false
   }
  },
  {
   "cell_type": "code",
   "execution_count": 11,
   "outputs": [
    {
     "data": {
      "text/plain": "Louvain:   0%|          | 0/100 [00:00<?, ?%/s]",
      "application/vnd.jupyter.widget-view+json": {
       "version_major": 2,
       "version_minor": 0,
       "model_id": "1835eac227dc410d90dbf5d8f48bde6e"
      }
     },
     "metadata": {},
     "output_type": "display_data"
    },
    {
     "data": {
      "text/plain": "graphName                                                         proj\ndatabase                                                         neo4j\nmemoryUsage                                                           \nsizeInBytes                                                         -1\nnodeCount                                                          237\nrelationshipCount                                                 2410\nconfiguration        {'relationshipProjection': {'SENDS_TO': {'orie...\ndensity                                                       0.043088\ncreationTime                       2023-01-21T17:11:20.105032000-05:00\nmodificationTime                   2023-01-21T17:11:20.160343000-05:00\nschema               {'graphProperties': {}, 'relationships': {'SEN...\nName: 0, dtype: object"
     },
     "execution_count": 11,
     "metadata": {},
     "output_type": "execute_result"
    }
   ],
   "source": [
    "g, _ = gds.graph.project('proj', 'Airport', {'SENDS_TO':{'orientation':'UNDIRECTED', 'properties':['flightCount']}})\n",
    "gds.louvain.write(g, relationshipWeightProperty='flightCount', writeProperty='louvainId')\n",
    "g.drop()"
   ],
   "metadata": {
    "collapsed": false
   }
  },
  {
   "cell_type": "code",
   "execution_count": 12,
   "outputs": [
    {
     "data": {
      "text/plain": "   count(a)\n0       237",
      "text/html": "<div>\n<style scoped>\n    .dataframe tbody tr th:only-of-type {\n        vertical-align: middle;\n    }\n\n    .dataframe tbody tr th {\n        vertical-align: top;\n    }\n\n    .dataframe thead th {\n        text-align: right;\n    }\n</style>\n<table border=\"1\" class=\"dataframe\">\n  <thead>\n    <tr style=\"text-align: right;\">\n      <th></th>\n      <th>count(a)</th>\n    </tr>\n  </thead>\n  <tbody>\n    <tr>\n      <th>0</th>\n      <td>237</td>\n    </tr>\n  </tbody>\n</table>\n</div>"
     },
     "execution_count": 12,
     "metadata": {},
     "output_type": "execute_result"
    }
   ],
   "source": [
    "# Relabel Louvain Communities (a.k.a. Regions) by the highest betweenness centrality airport name\n",
    "gds.run_cypher('''\n",
    "    MATCH (a:Airport)\n",
    "    WITH a.louvainId AS louvainId, max(a.betweennessCentrality) as maxBC\n",
    "    MATCH(a:Airport) WHERE a.betweennessCentrality = maxBC\n",
    "    WITH a.name as regionLabel, louvainId\n",
    "    MATCH(a:Airport) WHERE a.louvainId=louvainId\n",
    "    SET a.regionLabel = regionLabel\n",
    "    RETURN count(a)\n",
    "''')"
   ],
   "metadata": {
    "collapsed": false
   }
  },
  {
   "cell_type": "code",
   "execution_count": 13,
   "outputs": [
    {
     "data": {
      "text/plain": "        region  numberOfAirports\n0    Davisfort                32\n1  Masseyhaven                50\n2    Moodytown                51\n3  Richardberg                48\n4    Shanefort                56",
      "text/html": "<div>\n<style scoped>\n    .dataframe tbody tr th:only-of-type {\n        vertical-align: middle;\n    }\n\n    .dataframe tbody tr th {\n        vertical-align: top;\n    }\n\n    .dataframe thead th {\n        text-align: right;\n    }\n</style>\n<table border=\"1\" class=\"dataframe\">\n  <thead>\n    <tr style=\"text-align: right;\">\n      <th></th>\n      <th>region</th>\n      <th>numberOfAirports</th>\n    </tr>\n  </thead>\n  <tbody>\n    <tr>\n      <th>0</th>\n      <td>Davisfort</td>\n      <td>32</td>\n    </tr>\n    <tr>\n      <th>1</th>\n      <td>Masseyhaven</td>\n      <td>50</td>\n    </tr>\n    <tr>\n      <th>2</th>\n      <td>Moodytown</td>\n      <td>51</td>\n    </tr>\n    <tr>\n      <th>3</th>\n      <td>Richardberg</td>\n      <td>48</td>\n    </tr>\n    <tr>\n      <th>4</th>\n      <td>Shanefort</td>\n      <td>56</td>\n    </tr>\n  </tbody>\n</table>\n</div>"
     },
     "execution_count": 13,
     "metadata": {},
     "output_type": "execute_result"
    }
   ],
   "source": [
    "# Count the number of airports in each region\n",
    "gds.run_cypher('''\n",
    "    MATCH (a:Airport)\n",
    "    RETURN a.regionLabel as region, count(a) AS numberOfAirports\n",
    "    ORDER BY region\n",
    "''')"
   ],
   "metadata": {
    "collapsed": false
   }
  },
  {
   "cell_type": "markdown",
   "source": [
    "## Using Graph Algorithms for Downstream Inference"
   ],
   "metadata": {
    "collapsed": false
   }
  },
  {
   "cell_type": "code",
   "execution_count": 14,
   "outputs": [],
   "source": [
    "# get the data\n",
    "DELAY_CUTOFF = 30.0\n",
    "df_raw = gds.run_cypher('''\n",
    "    MATCH(a:Airport)<-[:LOCATED_AT]-()<-[r:TRANSPORT]-()-[:LOCATED_AT]->(b)\n",
    "    WITH a, toInteger((r.effectiveMinutes-r.plannedMinutes) > $delayCutoff) AS wasDelayed,\n",
    "        r.effectiveMinutes-r.plannedMinutes as delay,\n",
    "        toInteger(a.regionLabel <> b.regionLabel) AS interRegion,\n",
    "        b.outDegreeCentrality AS sourceOutDegree,\n",
    "        b.name AS sourceName,\n",
    "        b.airportId as sourceAirportId\n",
    "    RETURN a.airportId as airportId,\n",
    "        a.name AS name,\n",
    "        sourceAirportId,\n",
    "        sourceName,\n",
    "        wasDelayed,\n",
    "        delay,\n",
    "        interRegion,\n",
    "        sourceOutDegree,\n",
    "        a.inDegreeCentrality AS inDegreeCentrality,\n",
    "        a.outDegreeCentrality AS outDegreeCentrality,\n",
    "        a.betweennessCentrality AS betweennessCentrality,\n",
    "        a.eigenvectorCentrality AS eigenvectorCentrality,\n",
    "        a.regionLabel AS regionLabel\n",
    "''', params = {'delayCutoff': DELAY_CUTOFF})"
   ],
   "metadata": {
    "collapsed": false
   }
  },
  {
   "cell_type": "code",
   "execution_count": 15,
   "outputs": [
    {
     "data": {
      "text/plain": "0    13984\n1     2183\nName: wasDelayed, dtype: int64"
     },
     "execution_count": 15,
     "metadata": {},
     "output_type": "execute_result"
    }
   ],
   "source": [
    "df_raw.wasDelayed.value_counts()"
   ],
   "metadata": {
    "collapsed": false
   }
  },
  {
   "cell_type": "code",
   "execution_count": 16,
   "outputs": [],
   "source": [
    "# subsample to airports with 100 or more arrivals\n",
    "airports = df_raw.airportId.value_counts()\n",
    "df = df_raw[df_raw.airportId.isin(airports[airports >= 100].index.to_list())]"
   ],
   "metadata": {
    "collapsed": false
   }
  },
  {
   "cell_type": "code",
   "execution_count": 17,
   "outputs": [],
   "source": [
    "# create airport fixed effects and intercept\n",
    "df = pd.concat([df, pd.get_dummies(df.airportId, drop_first=True, prefix='airport')], axis=1)\n",
    "df['intercept'] = 1"
   ],
   "metadata": {
    "collapsed": false
   }
  },
  {
   "cell_type": "code",
   "execution_count": 18,
   "outputs": [],
   "source": [
    "#log centrality variables\n",
    "df['logBetweenness'] = np.log(df.betweennessCentrality + 1.0)\n",
    "df['logEigenvector'] = np.log(df.eigenvectorCentrality + 1.0)\n",
    "df['logInDegree'] = np.log(df.inDegreeCentrality + 1.0)\n",
    "df['logOutDegree'] = np.log(df.outDegreeCentrality + 1.0)\n",
    "df['logSourceOutDegree'] = np.log(df.sourceOutDegree + 1.0)"
   ],
   "metadata": {
    "collapsed": false
   }
  },
  {
   "cell_type": "code",
   "execution_count": 19,
   "outputs": [
    {
     "data": {
      "text/plain": "0    11084\n1     1678\nName: wasDelayed, dtype: int64"
     },
     "execution_count": 19,
     "metadata": {},
     "output_type": "execute_result"
    }
   ],
   "source": [
    "# check final class balance\n",
    "df.wasDelayed.value_counts()"
   ],
   "metadata": {
    "collapsed": false
   }
  },
  {
   "cell_type": "code",
   "execution_count": 20,
   "outputs": [
    {
     "data": {
      "text/plain": "       airportId         name  sourceAirportId  sourceName  wasDelayed  delay  \\\n105          527    Bryanside              700   Davisfort           0   -249   \n106          527    Bryanside              700   Davisfort           0   -344   \n107          527    Bryanside              128   Shanefort           0     10   \n108          527    Bryanside              815   Moodytown           0   -117   \n109          527    Bryanside              815   Moodytown           0    -94   \n...          ...          ...              ...         ...         ...    ...   \n16099        485  Michaelstad              377  Rogersfurt           0   -101   \n16100        485  Michaelstad              308  Fieldsbury           0   -100   \n16101        485  Michaelstad              815   Moodytown           1     63   \n16102        485  Michaelstad              216  Davidburgh           0   -203   \n16103        485  Michaelstad              815   Moodytown           0   -151   \n\n       interRegion  sourceOutDegree  inDegreeCentrality  outDegreeCentrality  \\\n105              1           2003.0               178.0                101.0   \n106              1           2003.0               178.0                101.0   \n107              1           2195.0               178.0                101.0   \n108              0           2240.0               178.0                101.0   \n109              0           2240.0               178.0                101.0   \n...            ...              ...                 ...                  ...   \n16099            0             45.0               758.0                711.0   \n16100            1            274.0               758.0                711.0   \n16101            0           2240.0               758.0                711.0   \n16102            0             70.0               758.0                711.0   \n16103            0           2240.0               758.0                711.0   \n\n       ...  airport_742  airport_770 airport_809  airport_815  intercept  \\\n105    ...            0            0           0            0          1   \n106    ...            0            0           0            0          1   \n107    ...            0            0           0            0          1   \n108    ...            0            0           0            0          1   \n109    ...            0            0           0            0          1   \n...    ...          ...          ...         ...          ...        ...   \n16099  ...            0            0           0            0          1   \n16100  ...            0            0           0            0          1   \n16101  ...            0            0           0            0          1   \n16102  ...            0            0           0            0          1   \n16103  ...            0            0           0            0          1   \n\n       logBetweenness  logEigenvector  logInDegree  logOutDegree  \\\n105          4.904083        0.030287     5.187386      4.624973   \n106          4.904083        0.030287     5.187386      4.624973   \n107          4.904083        0.030287     5.187386      4.624973   \n108          4.904083        0.030287     5.187386      4.624973   \n109          4.904083        0.030287     5.187386      4.624973   \n...               ...             ...          ...           ...   \n16099        7.482514        0.124103     6.632002      6.568078   \n16100        7.482514        0.124103     6.632002      6.568078   \n16101        7.482514        0.124103     6.632002      6.568078   \n16102        7.482514        0.124103     6.632002      6.568078   \n16103        7.482514        0.124103     6.632002      6.568078   \n\n       logSourceOutDegree  \n105              7.602900  \n106              7.602900  \n107              7.694393  \n108              7.714677  \n109              7.714677  \n...                   ...  \n16099            3.828641  \n16100            5.616771  \n16101            7.714677  \n16102            4.262680  \n16103            7.714677  \n\n[12762 rows x 53 columns]",
      "text/html": "<div>\n<style scoped>\n    .dataframe tbody tr th:only-of-type {\n        vertical-align: middle;\n    }\n\n    .dataframe tbody tr th {\n        vertical-align: top;\n    }\n\n    .dataframe thead th {\n        text-align: right;\n    }\n</style>\n<table border=\"1\" class=\"dataframe\">\n  <thead>\n    <tr style=\"text-align: right;\">\n      <th></th>\n      <th>airportId</th>\n      <th>name</th>\n      <th>sourceAirportId</th>\n      <th>sourceName</th>\n      <th>wasDelayed</th>\n      <th>delay</th>\n      <th>interRegion</th>\n      <th>sourceOutDegree</th>\n      <th>inDegreeCentrality</th>\n      <th>outDegreeCentrality</th>\n      <th>...</th>\n      <th>airport_742</th>\n      <th>airport_770</th>\n      <th>airport_809</th>\n      <th>airport_815</th>\n      <th>intercept</th>\n      <th>logBetweenness</th>\n      <th>logEigenvector</th>\n      <th>logInDegree</th>\n      <th>logOutDegree</th>\n      <th>logSourceOutDegree</th>\n    </tr>\n  </thead>\n  <tbody>\n    <tr>\n      <th>105</th>\n      <td>527</td>\n      <td>Bryanside</td>\n      <td>700</td>\n      <td>Davisfort</td>\n      <td>0</td>\n      <td>-249</td>\n      <td>1</td>\n      <td>2003.0</td>\n      <td>178.0</td>\n      <td>101.0</td>\n      <td>...</td>\n      <td>0</td>\n      <td>0</td>\n      <td>0</td>\n      <td>0</td>\n      <td>1</td>\n      <td>4.904083</td>\n      <td>0.030287</td>\n      <td>5.187386</td>\n      <td>4.624973</td>\n      <td>7.602900</td>\n    </tr>\n    <tr>\n      <th>106</th>\n      <td>527</td>\n      <td>Bryanside</td>\n      <td>700</td>\n      <td>Davisfort</td>\n      <td>0</td>\n      <td>-344</td>\n      <td>1</td>\n      <td>2003.0</td>\n      <td>178.0</td>\n      <td>101.0</td>\n      <td>...</td>\n      <td>0</td>\n      <td>0</td>\n      <td>0</td>\n      <td>0</td>\n      <td>1</td>\n      <td>4.904083</td>\n      <td>0.030287</td>\n      <td>5.187386</td>\n      <td>4.624973</td>\n      <td>7.602900</td>\n    </tr>\n    <tr>\n      <th>107</th>\n      <td>527</td>\n      <td>Bryanside</td>\n      <td>128</td>\n      <td>Shanefort</td>\n      <td>0</td>\n      <td>10</td>\n      <td>1</td>\n      <td>2195.0</td>\n      <td>178.0</td>\n      <td>101.0</td>\n      <td>...</td>\n      <td>0</td>\n      <td>0</td>\n      <td>0</td>\n      <td>0</td>\n      <td>1</td>\n      <td>4.904083</td>\n      <td>0.030287</td>\n      <td>5.187386</td>\n      <td>4.624973</td>\n      <td>7.694393</td>\n    </tr>\n    <tr>\n      <th>108</th>\n      <td>527</td>\n      <td>Bryanside</td>\n      <td>815</td>\n      <td>Moodytown</td>\n      <td>0</td>\n      <td>-117</td>\n      <td>0</td>\n      <td>2240.0</td>\n      <td>178.0</td>\n      <td>101.0</td>\n      <td>...</td>\n      <td>0</td>\n      <td>0</td>\n      <td>0</td>\n      <td>0</td>\n      <td>1</td>\n      <td>4.904083</td>\n      <td>0.030287</td>\n      <td>5.187386</td>\n      <td>4.624973</td>\n      <td>7.714677</td>\n    </tr>\n    <tr>\n      <th>109</th>\n      <td>527</td>\n      <td>Bryanside</td>\n      <td>815</td>\n      <td>Moodytown</td>\n      <td>0</td>\n      <td>-94</td>\n      <td>0</td>\n      <td>2240.0</td>\n      <td>178.0</td>\n      <td>101.0</td>\n      <td>...</td>\n      <td>0</td>\n      <td>0</td>\n      <td>0</td>\n      <td>0</td>\n      <td>1</td>\n      <td>4.904083</td>\n      <td>0.030287</td>\n      <td>5.187386</td>\n      <td>4.624973</td>\n      <td>7.714677</td>\n    </tr>\n    <tr>\n      <th>...</th>\n      <td>...</td>\n      <td>...</td>\n      <td>...</td>\n      <td>...</td>\n      <td>...</td>\n      <td>...</td>\n      <td>...</td>\n      <td>...</td>\n      <td>...</td>\n      <td>...</td>\n      <td>...</td>\n      <td>...</td>\n      <td>...</td>\n      <td>...</td>\n      <td>...</td>\n      <td>...</td>\n      <td>...</td>\n      <td>...</td>\n      <td>...</td>\n      <td>...</td>\n      <td>...</td>\n    </tr>\n    <tr>\n      <th>16099</th>\n      <td>485</td>\n      <td>Michaelstad</td>\n      <td>377</td>\n      <td>Rogersfurt</td>\n      <td>0</td>\n      <td>-101</td>\n      <td>0</td>\n      <td>45.0</td>\n      <td>758.0</td>\n      <td>711.0</td>\n      <td>...</td>\n      <td>0</td>\n      <td>0</td>\n      <td>0</td>\n      <td>0</td>\n      <td>1</td>\n      <td>7.482514</td>\n      <td>0.124103</td>\n      <td>6.632002</td>\n      <td>6.568078</td>\n      <td>3.828641</td>\n    </tr>\n    <tr>\n      <th>16100</th>\n      <td>485</td>\n      <td>Michaelstad</td>\n      <td>308</td>\n      <td>Fieldsbury</td>\n      <td>0</td>\n      <td>-100</td>\n      <td>1</td>\n      <td>274.0</td>\n      <td>758.0</td>\n      <td>711.0</td>\n      <td>...</td>\n      <td>0</td>\n      <td>0</td>\n      <td>0</td>\n      <td>0</td>\n      <td>1</td>\n      <td>7.482514</td>\n      <td>0.124103</td>\n      <td>6.632002</td>\n      <td>6.568078</td>\n      <td>5.616771</td>\n    </tr>\n    <tr>\n      <th>16101</th>\n      <td>485</td>\n      <td>Michaelstad</td>\n      <td>815</td>\n      <td>Moodytown</td>\n      <td>1</td>\n      <td>63</td>\n      <td>0</td>\n      <td>2240.0</td>\n      <td>758.0</td>\n      <td>711.0</td>\n      <td>...</td>\n      <td>0</td>\n      <td>0</td>\n      <td>0</td>\n      <td>0</td>\n      <td>1</td>\n      <td>7.482514</td>\n      <td>0.124103</td>\n      <td>6.632002</td>\n      <td>6.568078</td>\n      <td>7.714677</td>\n    </tr>\n    <tr>\n      <th>16102</th>\n      <td>485</td>\n      <td>Michaelstad</td>\n      <td>216</td>\n      <td>Davidburgh</td>\n      <td>0</td>\n      <td>-203</td>\n      <td>0</td>\n      <td>70.0</td>\n      <td>758.0</td>\n      <td>711.0</td>\n      <td>...</td>\n      <td>0</td>\n      <td>0</td>\n      <td>0</td>\n      <td>0</td>\n      <td>1</td>\n      <td>7.482514</td>\n      <td>0.124103</td>\n      <td>6.632002</td>\n      <td>6.568078</td>\n      <td>4.262680</td>\n    </tr>\n    <tr>\n      <th>16103</th>\n      <td>485</td>\n      <td>Michaelstad</td>\n      <td>815</td>\n      <td>Moodytown</td>\n      <td>0</td>\n      <td>-151</td>\n      <td>0</td>\n      <td>2240.0</td>\n      <td>758.0</td>\n      <td>711.0</td>\n      <td>...</td>\n      <td>0</td>\n      <td>0</td>\n      <td>0</td>\n      <td>0</td>\n      <td>1</td>\n      <td>7.482514</td>\n      <td>0.124103</td>\n      <td>6.632002</td>\n      <td>6.568078</td>\n      <td>7.714677</td>\n    </tr>\n  </tbody>\n</table>\n<p>12762 rows × 53 columns</p>\n</div>"
     },
     "execution_count": 20,
     "metadata": {},
     "output_type": "execute_result"
    }
   ],
   "source": [
    "df"
   ],
   "metadata": {
    "collapsed": false
   }
  },
  {
   "cell_type": "code",
   "execution_count": 21,
   "outputs": [
    {
     "name": "stdout",
     "output_type": "stream",
     "text": [
      "Warning: Maximum number of iterations has been exceeded.\n",
      "         Current function value: 0.339952\n",
      "         Iterations: 10000\n"
     ]
    },
    {
     "name": "stderr",
     "output_type": "stream",
     "text": [
      "/Users/zachblumenfeld/opt/anaconda3/lib/python3.9/site-packages/statsmodels/base/model.py:604: ConvergenceWarning: Maximum Likelihood optimization failed to converge. Check mle_retvals\n",
      "  warnings.warn(\"Maximum Likelihood optimization failed to \"\n"
     ]
    },
    {
     "name": "stdout",
     "output_type": "stream",
     "text": [
      "                           Logit Regression Results                           \n",
      "==============================================================================\n",
      "Dep. Variable:             wasDelayed   No. Observations:                12762\n",
      "Model:                          Logit   Df Residuals:                    12723\n",
      "Method:                           MLE   Df Model:                           38\n",
      "Date:                Sat, 21 Jan 2023   Pseudo R-squ.:                  0.1265\n",
      "Time:                        17:12:37   Log-Likelihood:                -4338.5\n",
      "converged:                      False   LL-Null:                       -4966.9\n",
      "Covariance Type:              cluster   LLR p-value:                4.286e-239\n",
      "======================================================================================\n",
      "                         coef    std err          z      P>|z|      [0.025      0.975]\n",
      "--------------------------------------------------------------------------------------\n",
      "logBetweenness         0.1269      0.039      3.231      0.001       0.050       0.204\n",
      "logInDegree           -0.7110      0.039    -18.404      0.000      -0.787      -0.635\n",
      "logOutDegree           0.4299      0.024     17.920      0.000       0.383       0.477\n",
      "logEigenvector         0.1972      0.842      0.234      0.815      -1.453       1.848\n",
      "interRegion            0.2067      0.153      1.353      0.176      -0.093       0.506\n",
      "logSourceOutDegree    -0.1396      0.050     -2.791      0.005      -0.238      -0.042\n",
      "intercept             -0.7200      0.235     -3.064      0.002      -1.181      -0.260\n",
      "airport_128            1.0381      0.526      1.974      0.048       0.007       2.069\n",
      "airport_134            1.0764      0.259      4.156      0.000       0.569       1.584\n",
      "airport_144           -0.0207      0.312     -0.066      0.947      -0.631       0.590\n",
      "airport_149            1.1572      0.384      3.011      0.003       0.404       1.910\n",
      "airport_174           -1.1916      0.204     -5.837      0.000      -1.592      -0.792\n",
      "airport_187           -0.7009      0.037    -19.177      0.000      -0.773      -0.629\n",
      "airport_206           -0.0798      0.110     -0.724      0.469      -0.296       0.136\n",
      "airport_233            0.3527      0.234      1.505      0.132      -0.107       0.812\n",
      "airport_256            0.2511      0.396      0.634      0.526      -0.525       1.027\n",
      "airport_257            0.4144      0.051      8.148      0.000       0.315       0.514\n",
      "airport_281            0.8802      0.328      2.684      0.007       0.237       1.523\n",
      "airport_308           -0.9097      0.383     -2.374      0.018      -1.661      -0.159\n",
      "airport_349            1.2682      0.525      2.417      0.016       0.240       2.297\n",
      "airport_371           -1.4615      0.244     -5.983      0.000      -1.940      -0.983\n",
      "airport_403           -1.0212      0.286     -3.575      0.000      -1.581      -0.461\n",
      "airport_411           -0.0623      0.207     -0.301      0.763      -0.468       0.343\n",
      "airport_413           -1.4090      0.222     -6.337      0.000      -1.845      -0.973\n",
      "airport_431            0.2581      0.326      0.792      0.428      -0.380       0.896\n",
      "airport_441           -1.3058      0.197     -6.642      0.000      -1.691      -0.920\n",
      "airport_468           -0.2524      0.112     -2.249      0.025      -0.472      -0.032\n",
      "airport_476           -1.8699      0.236     -7.929      0.000      -2.332      -1.408\n",
      "airport_485           -0.1420      0.334     -0.425      0.671      -0.797       0.513\n",
      "airport_527           -0.0790      0.202     -0.392      0.695      -0.474       0.316\n",
      "airport_555           -0.5033      0.448     -1.123      0.262      -1.382       0.375\n",
      "airport_597            0.8363      0.240      3.492      0.000       0.367       1.306\n",
      "airport_609            0.4086      0.320      1.279      0.201      -0.218       1.035\n",
      "airport_610            1.5304      0.255      6.011      0.000       1.031       2.029\n",
      "airport_628            0.9786      0.129      7.612      0.000       0.727       1.231\n",
      "airport_671            0.4609      0.255      1.804      0.071      -0.040       0.962\n",
      "airport_700           -1.2410      0.510     -2.431      0.015      -2.241      -0.241\n",
      "airport_742           -0.7279      0.116     -6.251      0.000      -0.956      -0.500\n",
      "airport_770            1.2860      0.114     11.248      0.000       1.062       1.510\n",
      "airport_809           -0.0203      0.296     -0.069      0.945      -0.600       0.559\n",
      "airport_815           -0.6902      0.455     -1.518      0.129      -1.582       0.201\n",
      "======================================================================================\n"
     ]
    }
   ],
   "source": [
    "# fit tme model\n",
    "x_cols = ['logBetweenness',  'logInDegree', 'logOutDegree',\n",
    "          'logEigenvector', 'interRegion','logSourceOutDegree', 'intercept']\\\n",
    "         + [i for i in df.columns if 'airport_' in i]\n",
    "mod = sm.Logit(df.wasDelayed, df[x_cols])\n",
    "res = mod.fit(cov_type='cluster', maxiter=10000, cov_kwds={'groups': df.airportId})\n",
    "print(res.summary())"
   ],
   "metadata": {
    "collapsed": false
   }
  },
  {
   "cell_type": "code",
   "execution_count": 22,
   "outputs": [
    {
     "data": {
      "text/plain": "              name      prob\n5974     Davisfort  0.028762\n12189  Richardberg  0.263881",
      "text/html": "<div>\n<style scoped>\n    .dataframe tbody tr th:only-of-type {\n        vertical-align: middle;\n    }\n\n    .dataframe tbody tr th {\n        vertical-align: top;\n    }\n\n    .dataframe thead th {\n        text-align: right;\n    }\n</style>\n<table border=\"1\" class=\"dataframe\">\n  <thead>\n    <tr style=\"text-align: right;\">\n      <th></th>\n      <th>name</th>\n      <th>prob</th>\n    </tr>\n  </thead>\n  <tbody>\n    <tr>\n      <th>5974</th>\n      <td>Davisfort</td>\n      <td>0.028762</td>\n    </tr>\n    <tr>\n      <th>12189</th>\n      <td>Richardberg</td>\n      <td>0.263881</td>\n    </tr>\n  </tbody>\n</table>\n</div>"
     },
     "execution_count": 22,
     "metadata": {},
     "output_type": "execute_result"
    }
   ],
   "source": [
    "# Calculate predict probabilities and compare an example between Davisfort and Richardberg\n",
    "df['prob'] = res.predict(df[x_cols])\n",
    "df.loc[df.name.isin([\"Davisfort\", \"Richardberg\"]) & (df.sourceName == \"Erictown\"),[\"name\", \"prob\"]].drop_duplicates()"
   ],
   "metadata": {
    "collapsed": false
   }
  },
  {
   "cell_type": "code",
   "execution_count": 22,
   "outputs": [],
   "source": [],
   "metadata": {
    "collapsed": false
   }
  }
 ],
 "metadata": {
  "kernelspec": {
   "display_name": "Python 3 (ipykernel)",
   "language": "python",
   "name": "python3"
  },
  "language_info": {
   "codemirror_mode": {
    "name": "ipython",
    "version": 3
   },
   "file_extension": ".py",
   "mimetype": "text/x-python",
   "name": "python",
   "nbconvert_exporter": "python",
   "pygments_lexer": "ipython3",
   "version": "3.8.2"
  }
 },
 "nbformat": 4,
 "nbformat_minor": 1
}
