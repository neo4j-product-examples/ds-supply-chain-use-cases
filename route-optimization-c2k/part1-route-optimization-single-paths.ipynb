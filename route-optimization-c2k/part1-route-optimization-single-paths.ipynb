{
 "cells": [
  {
   "cell_type": "markdown",
   "metadata": {},
   "source": [
    "# Graph Data Science for Supply Chain\n",
    "## Using Shortest Path for Route Optimization\n",
    "![Neo4j version](https://img.shields.io/badge/Neo4j->=4.4.9-brightgreen)\n",
    "![GDS version](https://img.shields.io/badge/GDS->=2.2-brightgreen)\n",
    "\n",
    "This notebook demonstrates how [Neo4j Graph Data Science](https://neo4j.com/docs/graph-data-science/current/algorithms/) can be applied to supply chain data to: find new, faster, paths through supply chain processes.\n",
    "\n",
    "We will start with a brief overview of the dataset we'll be using.  After that we will explore how path finding can identify new and faster shipment routes, walking through a specific example that reveals potential to improve performance by up to 40%.\n",
    "\n",
    "It is worth noting that while we are using an air cargo freight forwarding dataset in this example, the same techniques can be applied to other types of logistics, including maritime and trucking services as well as other types of supply chain domains including manufacturing, inventory management, and bill of materials.\n",
    "\n",
    "## Prerequisites\n",
    "- The Cargo 2000 case study dataset must be loaded into Neo4j. You can do so by running [this notebook](https://github.com/neo4j-product-examples/ds-supply-chain-use-cases/blob/main/modeling-eda-visualization-c2k/transform-and-load.ipynb). It should take no more than a few minutes to complete.\n"
   ]
  },
  {
   "cell_type": "code",
   "execution_count": 1,
   "outputs": [],
   "source": [
    "import pandas as pd\n",
    "import numpy as np\n",
    "import matplotlib.pyplot as plt\n",
    "import ds_utils\n",
    "from graphdatascience import GraphDataScience"
   ],
   "metadata": {
    "collapsed": false
   }
  },
  {
   "cell_type": "code",
   "execution_count": 2,
   "outputs": [],
   "source": [
    "# Use Neo4j URI and credentials according to your setup\n",
    "gds = GraphDataScience('neo4j://localhost', auth=('neo4j', 'examplePassword'))"
   ],
   "metadata": {
    "collapsed": false
   }
  },
  {
   "cell_type": "markdown",
   "source": [
    "## Dataset\n",
    "\n",
    "For a sample dataset we will use the “Cargo 2000” transport and logistics case study [[1]](#1). Cargo 2000 (re-branded as Cargo iQ in 2016) is an initiative of the International Air Transport Association (IATA) that aims to deliver a new quality management system for the air cargo industry.\n",
    "\n",
    "The below figure shows a model of the business processes covered in the IATA case study. It represents the business processes of a freight forwarding company, in which up to three smaller shipments from suppliers are consolidated and then shipped together to customers. The business process is structured into incoming and outgoing transport legs, with the overall objective that freight is delivered to customers in a timely manner.  You can find out more about the business model in [this blog](https://neo4j.com/developer-blog/supply-chain-neo4j-gds-bloom/) where we explored the dataset in Neo4j Bloom or from the [original data source]( https://s-cube-network.eu/c2k/).\n",
    "\n",
    "<img src=\"img/logistics-diagram.png\" alt=\"summary\" width=\"1000\"/>\n",
    "\n",
    "## References\n",
    "<a id=\"1\">[1]</a> A. Metzger, P. Leitner, D. Ivanovic, E. Schmieders, R. Franklin, M. Carro, S. Dustdar, and K. Pohl, “ Comparing and combining predictive business process monitoring techniques,” IEEE Trans. on Systems Man Cybernetics: Systems, 2015."
   ],
   "metadata": {
    "collapsed": false
   }
  },
  {
   "cell_type": "markdown",
   "source": [
    "## Understanding Historic Shipment Routes\n",
    "We transform the above data into the graph data model depicted below.\n",
    "\n",
    "<img src=\"img/c2k-schema.png\" alt=\"summary\" width=\"1000\"/>\n"
   ],
   "metadata": {
    "collapsed": false
   }
  },
  {
   "cell_type": "markdown",
   "source": [
    "Individual shipments consist of one or multiple incoming legs that merge into a single outgoing leg for delivery.  Each leg, incoming and outgoing, has the potential for multiple connecting flights.  For reference, below is an example of what a single shipment looks like in the graph with three incoming legs originating from Davidburgh, Paulchester, and Moodytown, and outgoing leg going to Davisfort.\n",
    "\n",
    "\n",
    "<img src=\"img/paths-of-single-shipments.png\" alt=\"summary\" width=\"1000\"/>"
   ],
   "metadata": {
    "collapsed": false
   }
  },
  {
   "cell_type": "markdown",
   "source": [
    "With this data model we can pull the total effective minutes for historic shipments paths with Cypher. A path being the set of nodes and relationships that track a single incoming leg end-to-end, going from the source airport EntryPoint all the way to the target airport Destination in a shipment. Below is a table and distribution of total time for paths going from Moodytown to Davisfort, one of the most frequent paths in the logistic network."
   ],
   "metadata": {
    "collapsed": false
   }
  },
  {
   "cell_type": "code",
   "execution_count": 3,
   "metadata": {},
   "outputs": [
    {
     "data": {
      "text/plain": "    incomingLegId  outgoingLegId  shipmentId         incomingDuration  \\\n0             123           8502        1490  00 days, 21 hrs, 32 min   \n1            1430           8403        1067  04 days, 07 hrs, 55 min   \n2            2601            657        1145  05 days, 06 hrs, 32 min   \n3            2617          14366         605  00 days, 18 hrs, 37 min   \n4            2941           7910        1323  01 days, 07 hrs, 42 min   \n..            ...            ...         ...                      ...   \n79          10934           6792        2633  00 days, 09 hrs, 13 min   \n80          10942           7971        1267  01 days, 19 hrs, 50 min   \n81          11019          14532         160  00 days, 12 hrs, 02 min   \n82          11127           6299        3167  02 days, 10 hrs, 06 min   \n83          13331           2405         775  01 days, 22 hrs, 54 min   \n\n           outgoingDuration            totalDuration  totalDurationDays  \n0   02 days, 13 hrs, 38 min  03 days, 11 hrs, 10 min           3.465278  \n1   06 days, 21 hrs, 26 min  11 days, 05 hrs, 21 min          11.222917  \n2   03 days, 17 hrs, 19 min  08 days, 23 hrs, 51 min           8.993750  \n3   01 days, 12 hrs, 01 min  02 days, 06 hrs, 38 min           2.276389  \n4   01 days, 02 hrs, 52 min  02 days, 10 hrs, 34 min           2.440278  \n..                      ...                      ...                ...  \n79  04 days, 12 hrs, 34 min  04 days, 21 hrs, 47 min           4.907639  \n80  01 days, 15 hrs, 37 min  03 days, 11 hrs, 27 min           3.477083  \n81  02 days, 23 hrs, 45 min  03 days, 11 hrs, 47 min           3.490972  \n82  01 days, 04 hrs, 54 min  03 days, 15 hrs, 00 min           3.625000  \n83  01 days, 11 hrs, 19 min  03 days, 10 hrs, 13 min           3.425694  \n\n[84 rows x 7 columns]",
      "text/html": "<div>\n<style scoped>\n    .dataframe tbody tr th:only-of-type {\n        vertical-align: middle;\n    }\n\n    .dataframe tbody tr th {\n        vertical-align: top;\n    }\n\n    .dataframe thead th {\n        text-align: right;\n    }\n</style>\n<table border=\"1\" class=\"dataframe\">\n  <thead>\n    <tr style=\"text-align: right;\">\n      <th></th>\n      <th>incomingLegId</th>\n      <th>outgoingLegId</th>\n      <th>shipmentId</th>\n      <th>incomingDuration</th>\n      <th>outgoingDuration</th>\n      <th>totalDuration</th>\n      <th>totalDurationDays</th>\n    </tr>\n  </thead>\n  <tbody>\n    <tr>\n      <th>0</th>\n      <td>123</td>\n      <td>8502</td>\n      <td>1490</td>\n      <td>00 days, 21 hrs, 32 min</td>\n      <td>02 days, 13 hrs, 38 min</td>\n      <td>03 days, 11 hrs, 10 min</td>\n      <td>3.465278</td>\n    </tr>\n    <tr>\n      <th>1</th>\n      <td>1430</td>\n      <td>8403</td>\n      <td>1067</td>\n      <td>04 days, 07 hrs, 55 min</td>\n      <td>06 days, 21 hrs, 26 min</td>\n      <td>11 days, 05 hrs, 21 min</td>\n      <td>11.222917</td>\n    </tr>\n    <tr>\n      <th>2</th>\n      <td>2601</td>\n      <td>657</td>\n      <td>1145</td>\n      <td>05 days, 06 hrs, 32 min</td>\n      <td>03 days, 17 hrs, 19 min</td>\n      <td>08 days, 23 hrs, 51 min</td>\n      <td>8.993750</td>\n    </tr>\n    <tr>\n      <th>3</th>\n      <td>2617</td>\n      <td>14366</td>\n      <td>605</td>\n      <td>00 days, 18 hrs, 37 min</td>\n      <td>01 days, 12 hrs, 01 min</td>\n      <td>02 days, 06 hrs, 38 min</td>\n      <td>2.276389</td>\n    </tr>\n    <tr>\n      <th>4</th>\n      <td>2941</td>\n      <td>7910</td>\n      <td>1323</td>\n      <td>01 days, 07 hrs, 42 min</td>\n      <td>01 days, 02 hrs, 52 min</td>\n      <td>02 days, 10 hrs, 34 min</td>\n      <td>2.440278</td>\n    </tr>\n    <tr>\n      <th>...</th>\n      <td>...</td>\n      <td>...</td>\n      <td>...</td>\n      <td>...</td>\n      <td>...</td>\n      <td>...</td>\n      <td>...</td>\n    </tr>\n    <tr>\n      <th>79</th>\n      <td>10934</td>\n      <td>6792</td>\n      <td>2633</td>\n      <td>00 days, 09 hrs, 13 min</td>\n      <td>04 days, 12 hrs, 34 min</td>\n      <td>04 days, 21 hrs, 47 min</td>\n      <td>4.907639</td>\n    </tr>\n    <tr>\n      <th>80</th>\n      <td>10942</td>\n      <td>7971</td>\n      <td>1267</td>\n      <td>01 days, 19 hrs, 50 min</td>\n      <td>01 days, 15 hrs, 37 min</td>\n      <td>03 days, 11 hrs, 27 min</td>\n      <td>3.477083</td>\n    </tr>\n    <tr>\n      <th>81</th>\n      <td>11019</td>\n      <td>14532</td>\n      <td>160</td>\n      <td>00 days, 12 hrs, 02 min</td>\n      <td>02 days, 23 hrs, 45 min</td>\n      <td>03 days, 11 hrs, 47 min</td>\n      <td>3.490972</td>\n    </tr>\n    <tr>\n      <th>82</th>\n      <td>11127</td>\n      <td>6299</td>\n      <td>3167</td>\n      <td>02 days, 10 hrs, 06 min</td>\n      <td>01 days, 04 hrs, 54 min</td>\n      <td>03 days, 15 hrs, 00 min</td>\n      <td>3.625000</td>\n    </tr>\n    <tr>\n      <th>83</th>\n      <td>13331</td>\n      <td>2405</td>\n      <td>775</td>\n      <td>01 days, 22 hrs, 54 min</td>\n      <td>01 days, 11 hrs, 19 min</td>\n      <td>03 days, 10 hrs, 13 min</td>\n      <td>3.425694</td>\n    </tr>\n  </tbody>\n</table>\n<p>84 rows × 7 columns</p>\n</div>"
     },
     "execution_count": 3,
     "metadata": {},
     "output_type": "execute_result"
    }
   ],
   "source": [
    "# Calculate distribution for a single path\n",
    "source_airport_id = 815 #'Moodytown'\n",
    "target_airport_id = 700 #'Davisfort'\n",
    "moodytown_davisfort_df = gds.run_cypher('''\n",
    "    //match incoming legIds (leg numbers are > 0)\n",
    "    MATCH(:EntryPoint {airportId: $sourceAirportId})-[r:RECEPTION]->() WHERE r.legNumber > 0\n",
    "    WITH r.legId AS incomingLegId, r.shipmentId AS shipmentId\n",
    "    //filter to only shipmentIds that go to target airport\n",
    "    MATCH()-[:DELIVERY {shipmentId:shipmentId}]->(:Destination {airportId: $targetAirportId})\n",
    "    WITH incomingLegId, shipmentId\n",
    "    //incoming relationships\n",
    "    MATCH()-[r {legId: incomingLegId}]->()\n",
    "    WITH incomingLegId, shipmentId, sum(r.effectiveMinutes) AS incomingMinutes\n",
    "    //outgoing relationships (leg numbers are < 0)\n",
    "    MATCH()-[r {shipmentId: shipmentId}]->() WHERE r.legNumber < 0\n",
    "    WITH incomingLegId, r.legId AS outgoingLegId, shipmentId, incomingMinutes, sum(r.effectiveMinutes) AS outgoingMinutes\n",
    "    //sum all results on return\n",
    "    RETURN incomingLegId, outgoingLegId, shipmentId, incomingMinutes, outgoingMinutes, (incomingMinutes + outgoingMinutes) AS totalMinutes\n",
    "    ORDER BY incomingLegId\n",
    "''', params = {'sourceAirportId': source_airport_id, 'targetAirportId': target_airport_id})\n",
    "\n",
    "moodytown_davisfort_df['incomingDuration'] = ds_utils.minutes_to_duration(moodytown_davisfort_df.incomingMinutes)\n",
    "moodytown_davisfort_df['outgoingDuration'] = ds_utils.minutes_to_duration(moodytown_davisfort_df.outgoingMinutes)\n",
    "moodytown_davisfort_df['totalDuration'] = ds_utils.minutes_to_duration(moodytown_davisfort_df.totalMinutes)\n",
    "moodytown_davisfort_df['totalDurationDays'] = moodytown_davisfort_df.totalMinutes/1440.0\n",
    "moodytown_davisfort_df.drop(columns=['incomingMinutes', 'outgoingMinutes', 'totalMinutes'], inplace=True)\n",
    "moodytown_davisfort_df"
   ]
  },
  {
   "cell_type": "code",
   "execution_count": 4,
   "metadata": {},
   "outputs": [
    {
     "data": {
      "text/plain": "<Figure size 432x288 with 1 Axes>",
      "image/png": "[encoded data removed]"
     },
     "metadata": {
      "needs_background": "light"
     },
     "output_type": "display_data"
    },
    {
     "name": "stdout",
     "output_type": "stream",
     "text": [
      "Mean Duration: 5.4 days\n"
     ]
    }
   ],
   "source": [
    "def get_percentiles(s, q=None):\n",
    "    if q is None:\n",
    "        q = [0.1, 0.25, 0.5, 0.75, 0.9, 0.95, 0.99]\n",
    "    q_name = ['min'] + [f'p{int(100*i)}' for i in q] + ['max']\n",
    "    p = [round(s.min(),2)] + [round(s.quantile(i), 2) for i in q] + [round(s.max(),2)]\n",
    "    p_df = pd.DataFrame(np.column_stack((q_name, p)), columns=['q', 'percentile'])\n",
    "    return p_df.set_index('q')\n",
    "\n",
    "plt.hist(moodytown_davisfort_df.totalDurationDays, bins=max(round(moodytown_davisfort_df.shape[0]/3),5))\n",
    "plt.title('Route Duration Distribution')\n",
    "plt.ylabel('Frequency')\n",
    "plt.xlabel('Duration (in Days)')\n",
    "plt.figtext(0.7, 0.4, get_percentiles(moodytown_davisfort_df.totalDurationDays).to_string())\n",
    "plt.show()\n",
    "print(f'Mean Duration: {round(moodytown_davisfort_df.totalDurationDays.mean(),1)} days')"
   ]
  },
  {
   "cell_type": "markdown",
   "metadata": {},
   "source": [
    "Notice the distribution has a long right tail. This is characteristic for many of the other shipment routes where most shipments fall into a tight range of duration times, with a few extreme cases that have much longer times, sometimes ten or more times greater than the median."
   ]
  },
  {
   "cell_type": "markdown",
   "metadata": {},
   "source": [
    "## Identify Faster Routes and Improve Performance with Path Finding\n",
    "\n",
    "Neo4j has a robust family of [10+ algorithms for path finding](https://neo4j.com/docs/graph-data-science/current/algorithms/pathfinding/).  These algorithms can be used to explore, recommend, and optimize paths in supply chains.  To highlight just a few of these algorithms:\n",
    "\n",
    "- [Dikstra’s Source-Target Shortest Path](https://neo4j.com/docs/graph-data-science/current/algorithms/dijkstra-source-target/) is a classic graph algorithm for finding the shortest path between two nodes\n",
    "\n",
    "- [Yen's K-Shortest Path](https://neo4j.com/docs/graph-data-science/current/algorithms/yens/) finds a ranked list of top `k` shortest paths between two nodes\n",
    "\n",
    "- [Delta-Stepping Single-Source Shortest Path](https://neo4j.com/docs/graph-data-science/current/algorithms/delta-single-source/) uses parallelized computation to find the shortest paths between a single source node and multiple target nodes\n",
    "\n",
    "- [A* Shortest Path](https://neo4j.com/docs/graph-data-science/current/algorithms/astar/) is an extension of Dijkstra that uses heuristics to speed up computation and is particularly well-suited for paths between geospatial points\n",
    "\n",
    "\n",
    "In this notebook we will focus on [Yen's K-Shortest Path](https://neo4j.com/docs/graph-data-science/current/algorithms/yens/) to provide multiple route recommendations.\n",
    "\n",
    "Yen’s algorithm, along with most other neo4j Graph Data Science path finding algorithms, can be weighted with relationship properties to take variable costs associated with time, distance, and other operations into consideration.  In this case we will use the average effective minutes of the business processes.  This will allow us to find paths that minimize the approximate average duration, which we will refer to as the “fastest” paths. There are some statistical considerations to keep in mind when using averages this way. Depending on your use case you may also want to choose a different type of aggregate measure. I cover this in more detail in the appendix.  If you are considering using this type of solution in a production capacity I recommend reading it. For now though, the following steps provide a good starting point for path finding based on historical data."
   ]
  },
  {
   "cell_type": "markdown",
   "source": [
    "### Create Graph Projection\n",
    "The below Cypher projection aggregates parallel relationships and creates the average effective time relationship property. We will recreate the graph projection if it already exists."
   ],
   "metadata": {
    "collapsed": false
   }
  },
  {
   "cell_type": "code",
   "execution_count": 5,
   "outputs": [],
   "source": [
    "def drop_graph_by_name(graph_name: str):\n",
    "    if gds.graph.exists(graph_name).loc['exists']:\n",
    "        gds.graph.get(graph_name).drop()"
   ],
   "metadata": {
    "collapsed": false
   }
  },
  {
   "cell_type": "code",
   "execution_count": 6,
   "metadata": {},
   "outputs": [
    {
     "data": {
      "text/plain": "nodeQuery            MATCH(n)\\n   WHERE n:EntryPoint \\n       OR n:...\nrelationshipQuery    MATCH(n0)-[r:RECEPTION|DEPARTURE|TRANSPORT|DEL...\ngraphName                                                         proj\nnodeCount                                                         1422\nrelationshipCount                                                 2024\nprojectMillis                                                      110\nName: 0, dtype: object"
     },
     "execution_count": 6,
     "metadata": {},
     "output_type": "execute_result"
    }
   ],
   "source": [
    "drop_graph_by_name('proj')\n",
    "g, _ = gds.graph.project.cypher('proj',\n",
    "    '''\n",
    "   MATCH(n)\n",
    "   WHERE n:EntryPoint \n",
    "       OR n:DepartureWarehouse OR n:DeparturePoint OR n:ArrivalWarehouse OR n:TransferPoint OR n:Destination\n",
    "   RETURN id(n) as id, labels(n) as labels\n",
    "   '''\n",
    "    ,\n",
    "    '''\n",
    "    MATCH(n0)-[r:RECEPTION|DEPARTURE|TRANSPORT|DELIVERY]->(n1)\n",
    "    RETURN id(n0) AS source, id(n1) AS target, type(r) AS type, avg(r.effectiveMinutes) AS averageEffectiveMinutes\n",
    "    '''\n",
    ")\n",
    "_"
   ]
  },
  {
   "cell_type": "markdown",
   "metadata": {},
   "source": [
    "### Path Finding\n",
    "After you create the graph projection you can begin with path finding.  For our first example, let’s get the top 10 shortest paths going from Moodytown to Davisport."
   ]
  },
  {
   "cell_type": "code",
   "execution_count": 7,
   "metadata": {},
   "outputs": [],
   "source": [
    "source_airport_name = 'Moodytown'\n",
    "target_airport_name = 'Davisfort'\n",
    "source_node_id = gds.find_node_id(['EntryPoint'], {'name': source_airport_name})\n",
    "target_node_id = gds.find_node_id(['Destination'], {'name': target_airport_name})\n",
    "yen_df = gds.shortestPath.yens.stream(g, sourceNode=source_node_id, targetNode=target_node_id, k=10,\n",
    "                                      relationshipWeightProperty='averageEffectiveMinutes')"
   ]
  },
  {
   "cell_type": "code",
   "execution_count": 8,
   "metadata": {},
   "outputs": [
    {
     "data": {
      "text/plain": "                                         airportPath       approximateAvgTime\n0                             Moodytown -> Davisfort  02 days, 14 hrs, 23 min\n1              Moodytown -> Michaelstad -> Davisfort  03 days, 01 hrs, 29 min\n2             Moodytown -> Wandaborough -> Davisfort  03 days, 04 hrs, 28 min\n3              Moodytown -> Matthewport -> Davisfort  03 days, 04 hrs, 57 min\n4                Moodytown -> Bryanside -> Davisfort  03 days, 06 hrs, 16 min\n5                Moodytown -> Shanefort -> Davisfort  03 days, 07 hrs, 58 min\n6              Moodytown -> Langborough -> Davisfort  03 days, 09 hrs, 01 min\n7  Moodytown -> Ramoshaven -> Wandaborough -> Dav...  03 days, 12 hrs, 24 min\n8  Moodytown -> Wandaborough -> Michaelstad -> Da...  03 days, 14 hrs, 07 min\n9   Moodytown -> Lisaton -> Michaelstad -> Davisfort  03 days, 15 hrs, 54 min",
      "text/html": "<div>\n<style scoped>\n    .dataframe tbody tr th:only-of-type {\n        vertical-align: middle;\n    }\n\n    .dataframe tbody tr th {\n        vertical-align: top;\n    }\n\n    .dataframe thead th {\n        text-align: right;\n    }\n</style>\n<table border=\"1\" class=\"dataframe\">\n  <thead>\n    <tr style=\"text-align: right;\">\n      <th></th>\n      <th>airportPath</th>\n      <th>approximateAvgTime</th>\n    </tr>\n  </thead>\n  <tbody>\n    <tr>\n      <th>0</th>\n      <td>Moodytown -&gt; Davisfort</td>\n      <td>02 days, 14 hrs, 23 min</td>\n    </tr>\n    <tr>\n      <th>1</th>\n      <td>Moodytown -&gt; Michaelstad -&gt; Davisfort</td>\n      <td>03 days, 01 hrs, 29 min</td>\n    </tr>\n    <tr>\n      <th>2</th>\n      <td>Moodytown -&gt; Wandaborough -&gt; Davisfort</td>\n      <td>03 days, 04 hrs, 28 min</td>\n    </tr>\n    <tr>\n      <th>3</th>\n      <td>Moodytown -&gt; Matthewport -&gt; Davisfort</td>\n      <td>03 days, 04 hrs, 57 min</td>\n    </tr>\n    <tr>\n      <th>4</th>\n      <td>Moodytown -&gt; Bryanside -&gt; Davisfort</td>\n      <td>03 days, 06 hrs, 16 min</td>\n    </tr>\n    <tr>\n      <th>5</th>\n      <td>Moodytown -&gt; Shanefort -&gt; Davisfort</td>\n      <td>03 days, 07 hrs, 58 min</td>\n    </tr>\n    <tr>\n      <th>6</th>\n      <td>Moodytown -&gt; Langborough -&gt; Davisfort</td>\n      <td>03 days, 09 hrs, 01 min</td>\n    </tr>\n    <tr>\n      <th>7</th>\n      <td>Moodytown -&gt; Ramoshaven -&gt; Wandaborough -&gt; Dav...</td>\n      <td>03 days, 12 hrs, 24 min</td>\n    </tr>\n    <tr>\n      <th>8</th>\n      <td>Moodytown -&gt; Wandaborough -&gt; Michaelstad -&gt; Da...</td>\n      <td>03 days, 14 hrs, 07 min</td>\n    </tr>\n    <tr>\n      <th>9</th>\n      <td>Moodytown -&gt; Lisaton -&gt; Michaelstad -&gt; Davisfort</td>\n      <td>03 days, 15 hrs, 54 min</td>\n    </tr>\n  </tbody>\n</table>\n</div>"
     },
     "execution_count": 8,
     "metadata": {},
     "output_type": "execute_result"
    }
   ],
   "source": [
    "def get_airport_names(p):\n",
    "    return ' -> '.join(list(dict.fromkeys([node.get('name') for node in p.nodes])))\n",
    "yen_df['airportPath'] = yen_df.path.apply(get_airport_names)\n",
    "yen_df['totalCostFormatted'] = ds_utils.minutes_to_duration(yen_df.totalCost)\n",
    "top_path_df = yen_df[['airportPath', 'totalCostFormatted']].rename(columns={'totalCostFormatted':'approximateAvgTime'})\n",
    "top_path_df"
   ]
  },
  {
   "cell_type": "markdown",
   "metadata": {},
   "source": [
    "Notice that the best path is a direct flight from Moodytown to Davisport. By nature of the freight forwarding model, we don’t have direct deliveries in the dataset.  We will see in part 2 of this analysis, which gets into freight forwarding combinations, that there are opportunities for reducing total costs by taking longer routes through connecting airports which motivates the use of multi-step paths despite them taking longer on average.\n",
    "\n",
    "Let's compare the above paths to those historically taken in the dataset.  We will do this by merging the above results to actual historic paths which we can pull with Cypher.  Below is the resulting dataframe."
   ]
  },
  {
   "cell_type": "code",
   "execution_count": 9,
   "metadata": {},
   "outputs": [
    {
     "data": {
      "text/plain": "                                          airportPath  \\\n0                              Moodytown -> Davisfort   \n1               Moodytown -> Michaelstad -> Davisfort   \n2              Moodytown -> Wandaborough -> Davisfort   \n3               Moodytown -> Matthewport -> Davisfort   \n4                 Moodytown -> Bryanside -> Davisfort   \n5                 Moodytown -> Shanefort -> Davisfort   \n6               Moodytown -> Langborough -> Davisfort   \n7   Moodytown -> Ramoshaven -> Wandaborough -> Dav...   \n8   Moodytown -> Wandaborough -> Michaelstad -> Da...   \n9    Moodytown -> Lisaton -> Michaelstad -> Davisfort   \n10                Moodytown -> Scotttown -> Davisfort   \n11            Moodytown -> Amandachester -> Davisfort   \n12                Moodytown -> Simonfurt -> Davisfort   \n13              Moodytown -> Amandamouth -> Davisfort   \n14               Moodytown -> Alvarezton -> Davisfort   \n15                Moodytown -> Sonyafort -> Davisfort   \n16  Moodytown -> Davisfort -> Staceyshire -> Davis...   \n17                Moodytown -> Evansfort -> Davisfort   \n18                 Moodytown -> Erictown -> Davisfort   \n\n         approximateAvgTime  historicPathCount          historicAvgCost  \\\n0   02 days, 14 hrs, 23 min                NaN                      NaN   \n1   03 days, 01 hrs, 29 min               48.0  02 days, 21 hrs, 57 min   \n2   03 days, 04 hrs, 28 min                1.0  03 days, 11 hrs, 27 min   \n3   03 days, 04 hrs, 57 min                NaN                      NaN   \n4   03 days, 06 hrs, 16 min                NaN                      NaN   \n5   03 days, 07 hrs, 58 min                5.0  04 days, 00 hrs, 08 min   \n6   03 days, 09 hrs, 01 min                1.0  02 days, 10 hrs, 34 min   \n7   03 days, 12 hrs, 24 min                NaN                      NaN   \n8   03 days, 14 hrs, 07 min                NaN                      NaN   \n9   03 days, 15 hrs, 54 min                NaN                      NaN   \n10                      NaN               11.0  05 days, 00 hrs, 39 min   \n11                      NaN                5.0  06 days, 16 hrs, 42 min   \n12                      NaN                4.0  21 days, 14 hrs, 56 min   \n13                      NaN                3.0  22 days, 11 hrs, 34 min   \n14                      NaN                2.0  02 days, 22 hrs, 55 min   \n15                      NaN                1.0  03 days, 10 hrs, 13 min   \n16                      NaN                1.0  11 days, 05 hrs, 21 min   \n17                      NaN                1.0  13 days, 22 hrs, 14 min   \n18                      NaN                1.0  08 days, 12 hrs, 46 min   \n\n            historicCostStd                                      historicCosts  \n0                       NaN                                                NaN  \n1   01 days, 04 hrs, 49 min  [02days-04hrs-15min, 02days-01hrs-13min, 02day...  \n2   00 days, 00 hrs, 00 min                               [03days-11hrs-27min]  \n3                       NaN                                                NaN  \n4                       NaN                                                NaN  \n5   01 days, 10 hrs, 17 min  [05days-05hrs-22min, 02days-08hrs-19min, 04day...  \n6   00 days, 00 hrs, 00 min                               [02days-10hrs-34min]  \n7                       NaN                                                NaN  \n8                       NaN                                                NaN  \n9                       NaN                                                NaN  \n10  01 days, 14 hrs, 54 min  [08days-11hrs-25min, 03days-16hrs-01min, 05day...  \n11  02 days, 03 hrs, 31 min  [06days-17hrs-58min, 04days-15hrs-44min, 08day...  \n12  10 days, 13 hrs, 01 min  [33days-18hrs-01min, 11days-21hrs-22min, 13day...  \n13  16 days, 06 hrs, 54 min  [03days-23hrs-39min, 28days-18hrs-50min, 34day...  \n14  00 days, 17 hrs, 19 min           [02days-10hrs-40min, 03days-11hrs-10min]  \n15  00 days, 00 hrs, 00 min                               [03days-10hrs-13min]  \n16  00 days, 00 hrs, 00 min                               [11days-05hrs-21min]  \n17  00 days, 00 hrs, 00 min                               [13days-22hrs-14min]  \n18  00 days, 00 hrs, 00 min                               [08days-12hrs-46min]  ",
      "text/html": "<div>\n<style scoped>\n    .dataframe tbody tr th:only-of-type {\n        vertical-align: middle;\n    }\n\n    .dataframe tbody tr th {\n        vertical-align: top;\n    }\n\n    .dataframe thead th {\n        text-align: right;\n    }\n</style>\n<table border=\"1\" class=\"dataframe\">\n  <thead>\n    <tr style=\"text-align: right;\">\n      <th></th>\n      <th>airportPath</th>\n      <th>approximateAvgTime</th>\n      <th>historicPathCount</th>\n      <th>historicAvgCost</th>\n      <th>historicCostStd</th>\n      <th>historicCosts</th>\n    </tr>\n  </thead>\n  <tbody>\n    <tr>\n      <th>0</th>\n      <td>Moodytown -&gt; Davisfort</td>\n      <td>02 days, 14 hrs, 23 min</td>\n      <td>NaN</td>\n      <td>NaN</td>\n      <td>NaN</td>\n      <td>NaN</td>\n    </tr>\n    <tr>\n      <th>1</th>\n      <td>Moodytown -&gt; Michaelstad -&gt; Davisfort</td>\n      <td>03 days, 01 hrs, 29 min</td>\n      <td>48.0</td>\n      <td>02 days, 21 hrs, 57 min</td>\n      <td>01 days, 04 hrs, 49 min</td>\n      <td>[02days-04hrs-15min, 02days-01hrs-13min, 02day...</td>\n    </tr>\n    <tr>\n      <th>2</th>\n      <td>Moodytown -&gt; Wandaborough -&gt; Davisfort</td>\n      <td>03 days, 04 hrs, 28 min</td>\n      <td>1.0</td>\n      <td>03 days, 11 hrs, 27 min</td>\n      <td>00 days, 00 hrs, 00 min</td>\n      <td>[03days-11hrs-27min]</td>\n    </tr>\n    <tr>\n      <th>3</th>\n      <td>Moodytown -&gt; Matthewport -&gt; Davisfort</td>\n      <td>03 days, 04 hrs, 57 min</td>\n      <td>NaN</td>\n      <td>NaN</td>\n      <td>NaN</td>\n      <td>NaN</td>\n    </tr>\n    <tr>\n      <th>4</th>\n      <td>Moodytown -&gt; Bryanside -&gt; Davisfort</td>\n      <td>03 days, 06 hrs, 16 min</td>\n      <td>NaN</td>\n      <td>NaN</td>\n      <td>NaN</td>\n      <td>NaN</td>\n    </tr>\n    <tr>\n      <th>5</th>\n      <td>Moodytown -&gt; Shanefort -&gt; Davisfort</td>\n      <td>03 days, 07 hrs, 58 min</td>\n      <td>5.0</td>\n      <td>04 days, 00 hrs, 08 min</td>\n      <td>01 days, 10 hrs, 17 min</td>\n      <td>[05days-05hrs-22min, 02days-08hrs-19min, 04day...</td>\n    </tr>\n    <tr>\n      <th>6</th>\n      <td>Moodytown -&gt; Langborough -&gt; Davisfort</td>\n      <td>03 days, 09 hrs, 01 min</td>\n      <td>1.0</td>\n      <td>02 days, 10 hrs, 34 min</td>\n      <td>00 days, 00 hrs, 00 min</td>\n      <td>[02days-10hrs-34min]</td>\n    </tr>\n    <tr>\n      <th>7</th>\n      <td>Moodytown -&gt; Ramoshaven -&gt; Wandaborough -&gt; Dav...</td>\n      <td>03 days, 12 hrs, 24 min</td>\n      <td>NaN</td>\n      <td>NaN</td>\n      <td>NaN</td>\n      <td>NaN</td>\n    </tr>\n    <tr>\n      <th>8</th>\n      <td>Moodytown -&gt; Wandaborough -&gt; Michaelstad -&gt; Da...</td>\n      <td>03 days, 14 hrs, 07 min</td>\n      <td>NaN</td>\n      <td>NaN</td>\n      <td>NaN</td>\n      <td>NaN</td>\n    </tr>\n    <tr>\n      <th>9</th>\n      <td>Moodytown -&gt; Lisaton -&gt; Michaelstad -&gt; Davisfort</td>\n      <td>03 days, 15 hrs, 54 min</td>\n      <td>NaN</td>\n      <td>NaN</td>\n      <td>NaN</td>\n      <td>NaN</td>\n    </tr>\n    <tr>\n      <th>10</th>\n      <td>Moodytown -&gt; Scotttown -&gt; Davisfort</td>\n      <td>NaN</td>\n      <td>11.0</td>\n      <td>05 days, 00 hrs, 39 min</td>\n      <td>01 days, 14 hrs, 54 min</td>\n      <td>[08days-11hrs-25min, 03days-16hrs-01min, 05day...</td>\n    </tr>\n    <tr>\n      <th>11</th>\n      <td>Moodytown -&gt; Amandachester -&gt; Davisfort</td>\n      <td>NaN</td>\n      <td>5.0</td>\n      <td>06 days, 16 hrs, 42 min</td>\n      <td>02 days, 03 hrs, 31 min</td>\n      <td>[06days-17hrs-58min, 04days-15hrs-44min, 08day...</td>\n    </tr>\n    <tr>\n      <th>12</th>\n      <td>Moodytown -&gt; Simonfurt -&gt; Davisfort</td>\n      <td>NaN</td>\n      <td>4.0</td>\n      <td>21 days, 14 hrs, 56 min</td>\n      <td>10 days, 13 hrs, 01 min</td>\n      <td>[33days-18hrs-01min, 11days-21hrs-22min, 13day...</td>\n    </tr>\n    <tr>\n      <th>13</th>\n      <td>Moodytown -&gt; Amandamouth -&gt; Davisfort</td>\n      <td>NaN</td>\n      <td>3.0</td>\n      <td>22 days, 11 hrs, 34 min</td>\n      <td>16 days, 06 hrs, 54 min</td>\n      <td>[03days-23hrs-39min, 28days-18hrs-50min, 34day...</td>\n    </tr>\n    <tr>\n      <th>14</th>\n      <td>Moodytown -&gt; Alvarezton -&gt; Davisfort</td>\n      <td>NaN</td>\n      <td>2.0</td>\n      <td>02 days, 22 hrs, 55 min</td>\n      <td>00 days, 17 hrs, 19 min</td>\n      <td>[02days-10hrs-40min, 03days-11hrs-10min]</td>\n    </tr>\n    <tr>\n      <th>15</th>\n      <td>Moodytown -&gt; Sonyafort -&gt; Davisfort</td>\n      <td>NaN</td>\n      <td>1.0</td>\n      <td>03 days, 10 hrs, 13 min</td>\n      <td>00 days, 00 hrs, 00 min</td>\n      <td>[03days-10hrs-13min]</td>\n    </tr>\n    <tr>\n      <th>16</th>\n      <td>Moodytown -&gt; Davisfort -&gt; Staceyshire -&gt; Davis...</td>\n      <td>NaN</td>\n      <td>1.0</td>\n      <td>11 days, 05 hrs, 21 min</td>\n      <td>00 days, 00 hrs, 00 min</td>\n      <td>[11days-05hrs-21min]</td>\n    </tr>\n    <tr>\n      <th>17</th>\n      <td>Moodytown -&gt; Evansfort -&gt; Davisfort</td>\n      <td>NaN</td>\n      <td>1.0</td>\n      <td>13 days, 22 hrs, 14 min</td>\n      <td>00 days, 00 hrs, 00 min</td>\n      <td>[13days-22hrs-14min]</td>\n    </tr>\n    <tr>\n      <th>18</th>\n      <td>Moodytown -&gt; Erictown -&gt; Davisfort</td>\n      <td>NaN</td>\n      <td>1.0</td>\n      <td>08 days, 12 hrs, 46 min</td>\n      <td>00 days, 00 hrs, 00 min</td>\n      <td>[08days-12hrs-46min]</td>\n    </tr>\n  </tbody>\n</table>\n</div>"
     },
     "execution_count": 9,
     "metadata": {},
     "output_type": "execute_result"
    }
   ],
   "source": [
    "top_path_df.merge(ds_utils.historic_path_counts(gds, source_airport_id, target_airport_id), on='airportPath', \n",
    "                  how='outer')"
   ]
  },
  {
   "cell_type": "markdown",
   "metadata": {},
   "source": [
    "Notice that the second best path through Michaelstad is by far the most frequently used route historically.  However, there still seem to be many routes that aren’t reflected in our shortest path recommendations.  For example, there are 11 instances going through Scottstown which isn’t even in the top 15 recommended paths, as well as 5 through Amandachester and 4 through Simonfurt."
   ]
  },
  {
   "cell_type": "markdown",
   "source": [
    "### Improving Performance by Selecting New Routes\n",
    "While Scotttown was heavily utilized historically, our application of path finding revealed multiple other faster options. We are already routing many flights through Michaelstad, so what if we routed the Scotttown flights through Wandaborough instead which has a very similar approximate average time to the Michaelstad path?\n",
    "\n",
    "With a bit of arithmetic, we can estimate that by switching the Scottstown flights to go through Wondaburough instead, __*we could see an approx 40% decrease in average time which is rather significant*__.\n",
    "\n",
    "To calculate this, it is important to note that the approximate average times from our Yen’s shortest paths and the actual historic average times won’t be exactly the same for a variety of reasons.  These include large variance in flight times and the fact that shortest paths tend to go through flight segment connections rather than proper TransferPoints (points where incoming and outgoing legs connect in the graph schema triggering another freight reception process).  Nevertheless, the shortest path approximate average times and historic average times should be well correlated, and if we assume they are relatively proportional we can estimate differences in performance between different paths. For the above example, we can note that the Wondaburough connected path (#2) is only slightly longer than the Michaelstad connected path (#1) and that the average historic time of the Michaelstad connected path is under 60% that of the Scottstown connected path (#10). A bit of percentage calculations will allow you to reach the solution I came to above."
   ],
   "metadata": {
    "collapsed": false
   }
  },
  {
   "cell_type": "markdown",
   "source": [
    "## Cleanup"
   ],
   "metadata": {
    "collapsed": false
   }
  },
  {
   "cell_type": "code",
   "execution_count": 10,
   "metadata": {},
   "outputs": [],
   "source": [
    "# remove graph projection\n",
    "drop_graph_by_name('proj')"
   ]
  },
  {
   "cell_type": "markdown",
   "source": [
    "## Appendix\n",
    "\n",
    "### Note on Using Averages and Interpreting Results\n",
    "In this notebook we used average times in our graph projection to find shortest paths, specifically the arithmetic mean of effective minutes.  The arithmetic mean can serve as a good summary measure for overall recommendation and analytics, but one must be careful not to fall into “flaw of average” assumptions while using it.  In the context of our problem, what this means is that while we approximate what average times will be over many shipments in our path finding recommendations, it is possible for individual shipment times to be shorter or much longer than the approximation averages. As such, the predicted average times should not be relied upon with low/zero tolerance for delays or early arrivals on an individual shipment-by-shipment basis.\n",
    "Additionally, you may want to change the type of aggregate measure depending on your supply chain use case.  For example, if your performance is really sensitive to long delays but robust to otherwise smaller variances in times, you may consider using the 95th percentile, or similarly higher percentile of the distribution instead of the arithmetic mean.  On the other hand, if your data rarely has long delays and you would like to exclude them as outliers, using the median instead of the arithmetic mean can help with that."
   ],
   "metadata": {
    "collapsed": false
   }
  }
 ],
 "metadata": {
  "kernelspec": {
   "display_name": "Python 3 (ipykernel)",
   "language": "python",
   "name": "python3"
  },
  "language_info": {
   "codemirror_mode": {
    "name": "ipython",
    "version": 3
   },
   "file_extension": ".py",
   "mimetype": "text/x-python",
   "name": "python",
   "nbconvert_exporter": "python",
   "pygments_lexer": "ipython3",
   "version": "3.8.2"
  }
 },
 "nbformat": 4,
 "nbformat_minor": 1
}
